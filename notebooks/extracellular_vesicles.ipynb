{
 "cells": [
  {
   "cell_type": "code",
   "execution_count": 1,
   "metadata": {},
   "outputs": [],
   "source": [
    "import matplotlib as mpl\n",
    "from matplotlib import pyplot as plt\n",
    "import pandas as pd\n",
    "\n",
    "from custom_settings import *\n",
    "\n",
    "\n",
    "%matplotlib inline"
   ]
  },
  {
   "cell_type": "code",
   "execution_count": 2,
   "metadata": {},
   "outputs": [],
   "source": [
    "mpl.rcParams['font.family'] = 'Arial'\n",
    "mpl.rcParams['font.size'] = 7.0\n",
    "mpl.rcParams['savefig.dpi'] = 500"
   ]
  },
  {
   "cell_type": "code",
   "execution_count": 3,
   "metadata": {},
   "outputs": [],
   "source": [
    "obs_val = 884\n",
    "rand = pd.read_csv('../data/dk_data/01_EV_PPI.txt', sep='\\t', header=None).iloc[:, 1].values"
   ]
  },
  {
   "cell_type": "code",
   "execution_count": 4,
   "metadata": {},
   "outputs": [
    {
     "name": "stdout",
     "output_type": "stream",
     "text": [
      "p < 1.000000E-03\n"
     ]
    },
    {
     "data": {
      "image/png": "[encoded data removed]",
      "text/plain": [
       "<Figure size 93.6x93.6 with 1 Axes>"
      ]
     },
     "metadata": {
      "needs_background": "light"
     },
     "output_type": "display_data"
    }
   ],
   "source": [
    "# increase arrow thickness\n",
    "fig, ax = plt.subplots(1, 1)\n",
    "fig.set_size_inches(1.3, 1.3)\n",
    "ax.hist(rand,\n",
    "        range=(600, 900),\n",
    "        weights=[1 / len(rand)] * len(rand),\n",
    "        bins=20,\n",
    "        label='Random networks',\n",
    "        color='grey')\n",
    "ax.annotate(s='HI-III-19',\n",
    "            xy=(obs_val, 0.),\n",
    "            xytext=(obs_val, ax.get_ylim()[1] * 0.5),\n",
    "            ha='center',\n",
    "            color=HURI_COLOR,\n",
    "            arrowprops={'arrowstyle': 'simple',\n",
    "                        'color': HURI_COLOR})\n",
    "ax.set_xlabel('PPIs between EV proteins',\n",
    "              fontsize=6)\n",
    "ax.set_ylabel('Fraction of random networks',\n",
    "              fontsize=6)\n",
    "#ax.set_xlim(-6, 6)\n",
    "ax.set_xticks(range(600, 901, 100))\n",
    "ax.set_xticks(range(650, 851, 100), minor=True)\n",
    "ax.spines['top'].set_visible(False)\n",
    "ax.spines['right'].set_visible(False)\n",
    "if obs_val > max(rand):\n",
    "    print('p < {:E}'.format(1. / len(rand)))\n",
    "else:\n",
    "    print('p = {:E}'.format())\n",
    "for fmt in FORMATS:\n",
    "    plt.savefig('../figures/extracellular_vesicle_significance' + fmt,\n",
    "                bbox_inches='tight')"
   ]
  },
  {
   "cell_type": "code",
   "execution_count": null,
   "metadata": {},
   "outputs": [],
   "source": []
  }
 ],
 "metadata": {
  "kernelspec": {
   "display_name": "Python 3",
   "language": "python",
   "name": "python3"
  },
  "language_info": {
   "codemirror_mode": {
    "name": "ipython",
    "version": 3
   },
   "file_extension": ".py",
   "mimetype": "text/x-python",
   "name": "python",
   "nbconvert_exporter": "python",
   "pygments_lexer": "ipython3",
   "version": "3.7.3"
  }
 },
 "nbformat": 4,
 "nbformat_minor": 2
}
