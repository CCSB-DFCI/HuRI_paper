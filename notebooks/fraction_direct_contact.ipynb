{
 "cells": [
  {
   "cell_type": "markdown",
   "metadata": {},
   "source": [
    "# Fraction of pairs in direct contact"
   ]
  },
  {
   "cell_type": "code",
   "execution_count": 1,
   "metadata": {},
   "outputs": [],
   "source": [
    "import numpy as np\n",
    "from matplotlib import pyplot as plt\n",
    "%matplotlib inline\n",
    "import matplotlib as mpl\n",
    "\n",
    "from custom_settings import *"
   ]
  },
  {
   "cell_type": "code",
   "execution_count": 2,
   "metadata": {},
   "outputs": [],
   "source": [
    "mpl.rcParams['font.family'] = 'Arial'\n",
    "mpl.rcParams['font.size'] = 7.0\n",
    "mpl.rcParams['savefig.dpi'] = 500"
   ]
  },
  {
   "cell_type": "code",
   "execution_count": 3,
   "metadata": {},
   "outputs": [
    {
     "data": {
      "image/png": "[encoded data removed]",
      "text/plain": [
       "<Figure size 93.6x86.4 with 1 Axes>"
      ]
     },
     "metadata": {
      "image/png": {
       "height": 107,
       "width": 126
      },
      "needs_background": "light"
     },
     "output_type": "display_data"
    }
   ],
   "source": [
    "colors = {\n",
    "    'Y2H v1': HURI_COLOR,\n",
    "    'Lit-BM': LIT_COLOR,\n",
    "    'BioPlex': BIOPLEX_COLOR,\n",
    "    'QUBIC': QUBIC_COLOR,\n",
    "    'CoFrac': COFRAC_COLOR,\n",
    "    'RRS': RRS_COLOR\n",
    "}\n",
    "fig, ax = plt.subplots(1, 1)\n",
    "fig.set_size_inches(1.3, 1.2)\n",
    "# Numbers hardcoded\n",
    "pdb_data = {'HI-III-19': (109, 121),\n",
    "            'Lit-BM': (331, 410),\n",
    "            'Bioplex': (394, 1169),\n",
    "            'QUBIC': (244, 584),\n",
    "            'cofrac': (340, 1211)}\n",
    "fracs = [n / d for n, d in pdb_data.values()]\n",
    "errs = [np.sqrt(((n / d) * (1. - n / d)) / d) for n, d in pdb_data.values()]\n",
    "cols = [HURI_COLOR, LIT_COLOR, BIOPLEX_COLOR, QUBIC_COLOR, COFRAC_COLOR]\n",
    "ax.bar(range(len(fracs)),\n",
    "            fracs,\n",
    "            color=cols)\n",
    "ax.errorbar(range(len(fracs)),\n",
    "                 fracs,\n",
    "                 yerr=errs,\n",
    "                 color='black',\n",
    "                 fmt='none',\n",
    "                 capsize=5.)\n",
    "ax.set_xticks(range(len(fracs)))\n",
    "ax.set_xticklabels(['HuRI', 'Lit-BM', 'BioPlex', 'QUBIC', 'CoFrac'])\n",
    "ax.set_ylim(0., 1.)\n",
    "\n",
    "ax.spines['right'].set_visible(False)\n",
    "ax.spines['top'].set_visible(False)\n",
    "ax.spines['bottom'].set_visible(False)\n",
    "ax.xaxis.set_tick_params(length=0.)\n",
    "ax.set_xticklabels(ax.get_xticklabels(), rotation=45, ha='right')\n",
    "ax.set_facecolor('1.')\n",
    "ax.set_ylabel('Fraction\\ndirect contact')\n",
    "for fmt in FORMATS:\n",
    "    plt.savefig('../figures/frac_direct' + fmt,\n",
    "                bbox_inches='tight')"
   ]
  },
  {
   "cell_type": "code",
   "execution_count": 19,
   "metadata": {},
   "outputs": [
    {
     "data": {
      "image/png": "[encoded data removed]",
      "text/plain": [
       "<Figure size 50.4x86.4 with 1 Axes>"
      ]
     },
     "metadata": {
      "image/png": {
       "height": 113,
       "width": 83
      },
      "needs_background": "light"
     },
     "output_type": "display_data"
    }
   ],
   "source": [
    "colors = {\n",
    "    'Y2H v1': HURI_COLOR,\n",
    "    'Lit-BM': LIT_COLOR,\n",
    "    'BioPlex': BIOPLEX_COLOR,\n",
    "    'QUBIC': QUBIC_COLOR,\n",
    "    'CoFrac': COFRAC_COLOR,\n",
    "    'RRS': RRS_COLOR\n",
    "}\n",
    "fig, ax = plt.subplots(1, 1)\n",
    "fig.set_size_inches(0.7, 1.2)\n",
    "# Numbers hardcoded\n",
    "pdb_data = {'HI-III-19': (109, 121),\n",
    "            'Lit-BM': (331, 410),\n",
    "            'Bioplex': (394, 1169),\n",
    "            'QUBIC': (244, 584),\n",
    "            'cofrac': (340, 1211)}\n",
    "fracs = [n / d for n, d in pdb_data.values()]\n",
    "errs = [np.sqrt(((n / d) * (1. - n / d)) / d) for n, d in pdb_data.values()]\n",
    "cols = [HURI_COLOR, LIT_COLOR, BIOPLEX_COLOR, QUBIC_COLOR, COFRAC_COLOR]\n",
    "ax.bar(range(len(fracs)),\n",
    "            fracs,\n",
    "            color=cols)\n",
    "ax.errorbar(range(len(fracs)),\n",
    "                 fracs,\n",
    "                 yerr=errs,\n",
    "                 color='black',\n",
    "                 fmt='none',\n",
    "                 capsize=2.5,\n",
    "                 linewidth=0.5,\n",
    "                 capthick=0.5)\n",
    "ax.set_xticks(range(len(fracs)))\n",
    "ax.set_xticklabels(['HuRI', 'Lit-BM', 'BioPlex', 'QUBIC', 'CoFrac'])\n",
    "ax.set_ylim(0., 1.)\n",
    "ax.set_yticklabels(['{:.0f}'.format(y * 100) for y in ax.get_yticks()])\n",
    "\n",
    "ax.spines['right'].set_visible(False)\n",
    "ax.spines['top'].set_visible(False)\n",
    "ax.spines['bottom'].set_visible(False)\n",
    "ax.xaxis.set_tick_params(length=0.)\n",
    "ax.set_xticklabels(ax.get_xticklabels(), rotation=90, ha='center')\n",
    "ax.set_facecolor('1.')\n",
    "ax.set_ylabel('% of PPI in direct contact')\n",
    "for fmt in FORMATS:\n",
    "    plt.savefig('../figures/frac_direct_narrow' + fmt,\n",
    "                bbox_inches='tight')"
   ]
  },
  {
   "cell_type": "code",
   "execution_count": null,
   "metadata": {},
   "outputs": [],
   "source": []
  }
 ],
 "metadata": {
  "kernelspec": {
   "display_name": "Python 3",
   "language": "python",
   "name": "python3"
  },
  "language_info": {
   "codemirror_mode": {
    "name": "ipython",
    "version": 3
   },
   "file_extension": ".py",
   "mimetype": "text/x-python",
   "name": "python",
   "nbconvert_exporter": "python",
   "pygments_lexer": "ipython3",
   "version": "3.7.3"
  }
 },
 "nbformat": 4,
 "nbformat_minor": 2
}
