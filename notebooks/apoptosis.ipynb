{
 "cells": [
  {
   "cell_type": "code",
   "execution_count": 1,
   "metadata": {},
   "outputs": [],
   "source": [
    "import numpy as np\n",
    "from scipy import stats\n",
    "from matplotlib import pyplot as plt\n",
    "import pandas as pd\n",
    "\n",
    "\n",
    "%matplotlib inline"
   ]
  },
  {
   "cell_type": "code",
   "execution_count": 2,
   "metadata": {},
   "outputs": [],
   "source": [
    "dfa = pd.read_csv('../data/ruths_data/OTUD6A_high_TRAIL.txt', sep='\\t')\n",
    "dfb = pd.read_csv('../data/ruths_data/OTUD6A_high_no_TRAIL.txt', sep='\\t')\n",
    "dfa = dfa.drop(columns=['Unnamed: 2'])\n",
    "dfb = dfb.drop(columns=['Unnamed: 2'])\n",
    "dfa['TRAIL'] = True\n",
    "dfb['TRAIL'] = False\n",
    "data = pd.concat([dfa, dfb])"
   ]
  },
  {
   "cell_type": "code",
   "execution_count": 3,
   "metadata": {},
   "outputs": [
    {
     "data": {
      "image/png": "[encoded data removed]",
      "text/plain": [
       "<Figure size 288x864 with 4 Axes>"
      ]
     },
     "metadata": {
      "needs_background": "light"
     },
     "output_type": "display_data"
    }
   ],
   "source": [
    "fig, axes = plt.subplots(4, 1, sharex=True)\n",
    "fig.set_size_inches(4, 12)\n",
    "lims = (0., 1440)\n",
    "nbins = 10\n",
    "axes[0].hist(data.loc[~data['TRAIL'] & \n",
    "                      (data['IntDen'] == 0),\n",
    "                      'TimeOfDeath_trunc_24h'].values,\n",
    "             bins=nbins,\n",
    "             range=lims)\n",
    "axes[1].hist(data.loc[~data['TRAIL'] & \n",
    "                      (data['IntDen'] > 0),\n",
    "                      'TimeOfDeath_trunc_24h'].values,\n",
    "            bins=nbins,\n",
    "            range=lims)\n",
    "axes[2].hist(data.loc[data['TRAIL'] & \n",
    "                      (data['IntDen'] == 0),\n",
    "                      'TimeOfDeath_trunc_24h'].values,\n",
    "             bins=nbins,\n",
    "             range=lims)\n",
    "axes[3].hist(data.loc[data['TRAIL'] & \n",
    "                      (data['IntDen'] > 0),\n",
    "                      'TimeOfDeath_trunc_24h'].values,\n",
    "             bins=nbins,\n",
    "             range=lims);"
   ]
  },
  {
   "cell_type": "code",
   "execution_count": 4,
   "metadata": {},
   "outputs": [
    {
     "data": {
      "image/png": "[encoded data removed]",
      "text/plain": [
       "<Figure size 432x288 with 1 Axes>"
      ]
     },
     "metadata": {
      "needs_background": "light"
     },
     "output_type": "display_data"
    }
   ],
   "source": [
    "fig, ax = plt.subplots(1, 1)\n",
    "x = data.loc[data['TRAIL'] & data['IntDen'] > 0, 'IntDen'].values.copy()\n",
    "y = data.loc[data['TRAIL'] & data['IntDen'] > 0, 'TimeOfDeath_trunc_24h'].values.copy()\n",
    "ax.scatter(x, y)\n",
    "real_pcc = stats.pearsonr(x, y)[0]"
   ]
  },
  {
   "cell_type": "code",
   "execution_count": 5,
   "metadata": {},
   "outputs": [],
   "source": [
    "rand_y = y.copy()\n",
    "rand_pccs = []\n",
    "for __ in range(100000):\n",
    "    np.random.shuffle(rand_y)\n",
    "    rand_pccs.append(stats.pearsonr(x, rand_y)[0])\n",
    "rand_pccs = np.array(rand_pccs)"
   ]
  },
  {
   "cell_type": "code",
   "execution_count": 6,
   "metadata": {},
   "outputs": [
    {
     "data": {
      "text/plain": [
       "(array([5.0800e+02, 5.7710e+03, 1.7736e+04, 2.7312e+04, 2.4994e+04,\n",
       "        1.5421e+04, 6.2990e+03, 1.6740e+03, 2.6700e+02, 1.8000e+01]),\n",
       " array([-0.47011472, -0.35339   , -0.23666529, -0.11994058, -0.00321587,\n",
       "         0.11350884,  0.23023355,  0.34695826,  0.46368297,  0.58040769,\n",
       "         0.6971324 ]),\n",
       " <a list of 10 Patch objects>)"
      ]
     },
     "execution_count": 6,
     "metadata": {},
     "output_type": "execute_result"
    },
    {
     "data": {
      "image/png": "[encoded data removed]",
      "text/plain": [
       "<Figure size 432x288 with 1 Axes>"
      ]
     },
     "metadata": {
      "needs_background": "light"
     },
     "output_type": "display_data"
    }
   ],
   "source": [
    "plt.hist(rand_pccs)"
   ]
  },
  {
   "cell_type": "code",
   "execution_count": 7,
   "metadata": {},
   "outputs": [
    {
     "data": {
      "text/plain": [
       "0.01126"
      ]
     },
     "execution_count": 7,
     "metadata": {},
     "output_type": "execute_result"
    }
   ],
   "source": [
    "(((rand_pccs <= real_pcc).sum() / rand_pccs.shape[0]) * 2)"
   ]
  },
  {
   "cell_type": "code",
   "execution_count": 8,
   "metadata": {},
   "outputs": [
    {
     "data": {
      "text/plain": [
       "100000"
      ]
     },
     "execution_count": 8,
     "metadata": {},
     "output_type": "execute_result"
    }
   ],
   "source": [
    "rand_pccs.shape[0]"
   ]
  }
 ],
 "metadata": {
  "kernelspec": {
   "display_name": "Python 3",
   "language": "python",
   "name": "python3"
  },
  "language_info": {
   "codemirror_mode": {
    "name": "ipython",
    "version": 3
   },
   "file_extension": ".py",
   "mimetype": "text/x-python",
   "name": "python",
   "nbconvert_exporter": "python",
   "pygments_lexer": "ipython3",
   "version": "3.7.2"
  }
 },
 "nbformat": 4,
 "nbformat_minor": 2
}
