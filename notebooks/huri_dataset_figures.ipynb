{
 "cells": [
  {
   "cell_type": "markdown",
   "metadata": {},
   "source": [
    "Figures related to the size of the HI-III-19 dataset. "
   ]
  },
  {
   "cell_type": "code",
   "execution_count": 1,
   "metadata": {},
   "outputs": [],
   "source": [
    "from collections import OrderedDict\n",
    "from itertools import combinations, product\n",
    "\n",
    "import numpy as np\n",
    "import matplotlib as mpl\n",
    "import matplotlib.pyplot as plt\n",
    "import pandas as pd\n",
    "import matplotlib.patches as mpatches\n",
    "from matplotlib.collections import PatchCollection\n",
    "from matplotlib.legend_handler import HandlerPatch\n",
    "from matplotlib_venn import venn2, venn3\n",
    "\n",
    "import ccsblib\n",
    "from ccsblib import huri\n",
    "from ccsblib import ccsbplotlib as cplt\n",
    "\n",
    "from custom_settings import *\n",
    "from utils import *\n",
    "\n",
    "\n",
    "%matplotlib inline"
   ]
  },
  {
   "cell_type": "code",
   "execution_count": 2,
   "metadata": {},
   "outputs": [],
   "source": [
    "comma_fmt = mpl.ticker.FuncFormatter(lambda x, p: '{:,}'.format(int(x)))\n",
    "k_fmt = mpl.ticker.FuncFormatter(lambda x, p: '{:.0f}K'.format(float(x) / 1000) if float(x) > 0 else '0')"
   ]
  },
  {
   "cell_type": "code",
   "execution_count": 3,
   "metadata": {},
   "outputs": [],
   "source": [
    "mpl.rcParams['font.family'] = 'Arial'\n",
    "mpl.rcParams['font.size'] = 7.0\n",
    "mpl.rcParams['savefig.dpi'] = 500"
   ]
  },
  {
   "cell_type": "code",
   "execution_count": 4,
   "metadata": {},
   "outputs": [],
   "source": [
    "hi = load_nw_hi_union()\n",
    "hiIII = load_nw_hi_iii()   # this includes detailed screen information\n",
    "lit = load_nw_lit_bm_17()\n",
    "gsm = load_nw_gsm()"
   ]
  },
  {
   "cell_type": "code",
   "execution_count": 5,
   "metadata": {},
   "outputs": [
    {
     "name": "stderr",
     "output_type": "stream",
     "text": [
      "/Users/lukelambourne/Work/ccsblib/ccsblib/huri/internal_data/ID_mapping.py:121: UserWarning: Warning: mapping between gene/protein identifiers has resulted in different pairs in the input ID being mapped to the same pair in the output ID.\n",
      "You may wish to use the `agg` argument to customize the choice of which of the pair's infomation to keep or how to combine the information from multiple pairs.\n",
      "  warnings.warn('Warning: mapping between gene/protein identifiers has '\n"
     ]
    }
   ],
   "source": [
    "# Number of PPIs over time with literature also over time\n",
    "qry = \"\"\"SELECT *\n",
    "           FROM lit17_v1.evidences_human;\"\"\"\n",
    "lit_evid = pd.read_sql(qry, ccsblib.paros_connection())\n",
    "pmid_date = pd.read_csv('../data/processed/pubmed_id_to_datetime.csv')\n",
    "pmid_date = (pmid_date.drop_duplicates('pubmed_id')\n",
    "                      .set_index('pubmed_id')\n",
    "                      .datetime\n",
    "                      .astype('datetime64'))\n",
    "lit_evid['date'] = lit_evid['pubmed_id'].map(pmid_date)\n",
    "lit_bm_evid = lit_evid.loc[lit_evid.groupby(['uniprot_id_a', 'uniprot_id_b']).date.transform('size') >= 2,\n",
    "                           :]\n",
    "date_2nd = (lit_bm_evid.sort_values('date')\n",
    "                       .groupby(['uniprot_id_a', 'uniprot_id_b'])\n",
    "                       .nth(1, dropna='any')\n",
    "                       ['date'])\n",
    "date_bin = (lit_bm_evid.loc[lit_bm_evid['binary'] == 1, :]\n",
    "                       .sort_values('date')\n",
    "                       .groupby(['uniprot_id_a', 'uniprot_id_b'])\n",
    "                       .nth(0, dropna='any')\n",
    "                       ['date'])\n",
    "date_bm = (pd.merge(date_2nd.to_frame(),\n",
    "                   date_bin.to_frame(),\n",
    "                   how='inner',\n",
    "                   on=['uniprot_id_a', 'uniprot_id_b']).max(axis=1))\n",
    "date_bm.name = 'date'\n",
    "litbm = huri.load_nw_lit_bm_17(id_type='uniprot_ac')\n",
    "litbm = pd.merge(litbm,\n",
    "                 date_bm.to_frame(),\n",
    "                 how='left',\n",
    "                 left_on=['uniprot_ac_a', 'uniprot_ac_b'],\n",
    "                 right_on=['uniprot_id_a', 'uniprot_id_b'])\n",
    "litbm = huri.map_nw_ids(litbm, 'uniprot_ac', 'ensembl_gene_id')\n",
    "pcg = load_protein_coding_genome()\n",
    "litbm = litbm.loc[litbm['ensembl_gene_id_a'].isin(pcg) &\n",
    "                  litbm['ensembl_gene_id_b'].isin(pcg),\n",
    "                  :]"
   ]
  },
  {
   "cell_type": "code",
   "execution_count": 6,
   "metadata": {},
   "outputs": [
    {
     "data": {
      "image/png": "[encoded data removed]",
      "text/plain": [
       "<Figure size 79.2x79.2 with 1 Axes>"
      ]
     },
     "metadata": {
      "image/png": {
       "height": 94,
       "width": 172
      },
      "needs_background": "light"
     },
     "output_type": "display_data"
    }
   ],
   "source": [
    "fig, ax = plt.subplots(1, 1)\n",
    "fig.set_size_inches(1.1, 1.1)\n",
    "n_hi_2005 = hi['in_Rual'].sum()\n",
    "n_hi_2014 = (hi['in_Rual'] | hi['in_Yu'] | hi['in_Venkatesan'] | hi['in_Rolland']).sum()\n",
    "n_hi_2019 = hi.shape[0]\n",
    "hi_x_pos = [0., 2.25, 4.5]\n",
    "ax.bar(hi_x_pos,\n",
    "       [n_hi_2005, n_hi_2014, n_hi_2019],\n",
    "       color=HURI_COLOR,\n",
    "       label='HI-Union')\n",
    "offset = 0.85\n",
    "ax.bar([x + offset for x in hi_x_pos],\n",
    "       [(litbm['date'] <= '2005').sum(),\n",
    "        (litbm['date'] <= '2014').sum(),\n",
    "        litbm.shape[0]],\n",
    "       color=LIT_COLOR,\n",
    "       label='Lit-BM')\n",
    "ax.set_xticks([x + offset / 2 for x in hi_x_pos])\n",
    "ax.set_xticklabels(['2005', '2014', '2019'],\n",
    "                   rotation=50)\n",
    "ax.set_ylabel('Number of PPIs')\n",
    "ax.xaxis.set_tick_params(length=0.)\n",
    "ax.spines['right'].set_visible(False)\n",
    "ax.spines['top'].set_visible(False)\n",
    "ax.set_yticks([0, 20000, 40000, 60000])\n",
    "ax.set_yticks([10000, 30000, 50000, 70000], minor=True)\n",
    "ax.yaxis.set_major_formatter(comma_fmt)\n",
    "ax.legend(frameon=False,\n",
    "          loc=1,\n",
    "          bbox_to_anchor=[2., 0.9])\n",
    "for fmt in FORMATS:\n",
    "    plt.savefig('../figures/hi_union_and_lit_bm_over_time' + fmt,\n",
    "                bbox_inches='tight')"
   ]
  },
  {
   "cell_type": "code",
   "execution_count": 12,
   "metadata": {},
   "outputs": [
    {
     "data": {
      "image/png": "[encoded data removed]",
      "text/plain": [
       "<Figure size 36x79.2 with 1 Axes>"
      ]
     },
     "metadata": {
      "image/png": {
       "height": 93,
       "width": 124
      },
      "needs_background": "light"
     },
     "output_type": "display_data"
    }
   ],
   "source": [
    "fig, ax = plt.subplots(1, 1)\n",
    "fig.set_size_inches(0.5, 1.1)\n",
    "n_hi_2005 = hi['in_Rual'].sum()\n",
    "n_hi_2014 = (hi['in_Rual'] | hi['in_Yu'] | hi['in_Venkatesan'] | hi['in_Rolland']).sum()\n",
    "n_hi_2019 = hi.shape[0]\n",
    "hi_x_pos = [0., 2.25, 4.5]\n",
    "ax.bar(hi_x_pos,\n",
    "       [n_hi_2005, n_hi_2014, n_hi_2019],\n",
    "       color=HURI_COLOR,\n",
    "       label='HI-Union')\n",
    "offset = 0.85\n",
    "ax.bar([x + offset for x in hi_x_pos],\n",
    "       [(litbm['date'] <= '2005').sum(),\n",
    "        (litbm['date'] <= '2014').sum(),\n",
    "        litbm.shape[0]],\n",
    "       color=LIT_COLOR,\n",
    "       label='Lit-BM')\n",
    "ax.set_xticks([x + offset / 2 for x in hi_x_pos])\n",
    "ax.set_xticklabels(['2005', '2014', '2019'],\n",
    "                   rotation=90)\n",
    "ax.set_ylabel('Number of PPIs')\n",
    "ax.xaxis.set_tick_params(length=0.)\n",
    "ax.spines['right'].set_visible(False)\n",
    "ax.spines['top'].set_visible(False)\n",
    "ax.set_yticks([0, 20000, 40000, 60000])\n",
    "ax.set_yticks([10000, 30000, 50000, 70000], minor=True)\n",
    "ax.yaxis.set_major_formatter(k_fmt)\n",
    "ax.legend(frameon=False,\n",
    "          loc=1,\n",
    "          bbox_to_anchor=[3., 0.9])\n",
    "for fmt in FORMATS:\n",
    "    plt.savefig('../figures/hi_union_and_lit_bm_over_time_narrow' + fmt,\n",
    "                bbox_inches='tight')"
   ]
  },
  {
   "cell_type": "code",
   "execution_count": 10,
   "metadata": {},
   "outputs": [
    {
     "data": {
      "image/png": "[encoded data removed]",
      "text/plain": [
       "<Figure size 79.2x79.2 with 1 Axes>"
      ]
     },
     "metadata": {
      "needs_background": "light"
     },
     "output_type": "display_data"
    }
   ],
   "source": [
    "fig, ax = plt.subplots(1, 1)\n",
    "fig.set_size_inches(1.1, 1.1)\n",
    "n_hi_2005 = hi['in_Rual'].sum()\n",
    "n_hi_2014 = hi['in_Rolland'].sum()\n",
    "n_hi_2019 = hi['in_HI_III'].sum()\n",
    "hi_x_pos = [0., 2.25, 4.5]\n",
    "ax.bar(hi_x_pos,\n",
    "       [n_hi_2005, n_hi_2014, n_hi_2019],\n",
    "       color=HURI_COLOR,\n",
    "       label='CCSB')\n",
    "offset = 0.85\n",
    "ax.bar([x + offset for x in hi_x_pos],\n",
    "       [(litbm['date'] <= '2005').sum(),\n",
    "        (litbm['date'] <= '2014').sum(),\n",
    "        litbm.shape[0]],\n",
    "       color=LIT_COLOR,\n",
    "       label='Lit-BM')\n",
    "ax.set_xticks([x + offset / 2 for x in hi_x_pos])\n",
    "ax.set_xticklabels(['2005', '2014', '2019'],\n",
    "                   rotation=50)\n",
    "ax.set_ylabel('Number of PPIs')\n",
    "ax.xaxis.set_tick_params(length=0.)\n",
    "ax.spines['right'].set_visible(False)\n",
    "ax.spines['top'].set_visible(False)\n",
    "ax.set_yticks([0, 20000, 40000, 60000])\n",
    "ax.set_yticks([10000, 30000, 50000], minor=True)\n",
    "ax.yaxis.set_major_formatter(comma_fmt)\n",
    "ax.legend(frameon=False,\n",
    "          loc=1,\n",
    "          bbox_to_anchor=[2., 0.9])\n",
    "for fmt in FORMATS:\n",
    "    plt.savefig('../figures/hi_and_lit_bm_over_time' + fmt,\n",
    "                bbox_inches='tight')"
   ]
  },
  {
   "cell_type": "code",
   "execution_count": 8,
   "metadata": {},
   "outputs": [
    {
     "data": {
      "image/png": "[encoded data removed]",
      "text/plain": [
       "<Figure size 252x180 with 1 Axes>"
      ]
     },
     "metadata": {
      "needs_background": "light"
     },
     "output_type": "display_data"
    }
   ],
   "source": [
    "# n screens split by assay version;/l\n",
    "# one with fraction, one with absoulute numbers\n",
    "def n_screens_per_pair_by_assay_version(hiIII, norm=False, ax=None):\n",
    "    n_screen_v1 = hiIII.loc[hiIII['in_assay_v1'],\n",
    "                            ['in_screen_' + str(i) for i in range(1, 4)]].sum(axis=1).value_counts()\n",
    "    n_screen_v2 = hiIII.loc[hiIII['in_assay_v2'],\n",
    "                            ['in_screen_' + str(i) for i in range(4, 7)]].sum(axis=1).value_counts()\n",
    "    n_screen_v3 = hiIII.loc[hiIII['in_assay_v6'],\n",
    "                            ['in_screen_' + str(i) for i in range(7, 10)]].sum(axis=1).value_counts()\n",
    "    width = 0.2\n",
    "    if norm:\n",
    "        n_screen_v1 = n_screen_v1 / n_screen_v1.sum()\n",
    "        n_screen_v2 = n_screen_v2 / n_screen_v2.sum()\n",
    "        n_screen_v3 = n_screen_v3 / n_screen_v3.sum()\n",
    "    ax.bar(n_screen_v1.index - width,\n",
    "           n_screen_v1.values,\n",
    "           width=width,\n",
    "           color=ASSAY_V1_COLOR,\n",
    "           label='v1')\n",
    "    ax.bar(n_screen_v2.index,\n",
    "           n_screen_v2.values,\n",
    "           width=width,\n",
    "           color=ASSAY_V2_COLOR,\n",
    "           label='v2')\n",
    "    ax.bar(n_screen_v2.index + width,\n",
    "           n_screen_v3.values, \n",
    "           width=width,\n",
    "           color=ASSAY_V3_COLOR,\n",
    "           label='v3')\n",
    "    ax.set_xticks([1, 2, 3])\n",
    "    ax.legend(title='Y2H version')\n",
    "    ax.set_xlabel('Number of screens detected')\n",
    "    if norm:\n",
    "        ax.set_ylabel('Fraction of PPIs\\nper Y2H version')\n",
    "    else:\n",
    "        ax.set_ylabel('Number of PPIs')\n",
    "    ax.spines['right'].set_visible(False)\n",
    "    ax.spines['top'].set_visible(False)\n",
    "    ax.yaxis.set_major_formatter(comma_fmt)\n",
    "\n",
    "\n",
    "\n",
    "fig, ax = plt.subplots(1, 1)\n",
    "fig.set_size_inches(3.5, 2.5)\n",
    "n_screens_per_pair_by_assay_version(hiIII, ax=ax)\n",
    "plt.tight_layout()\n",
    "for fmt in FORMATS:\n",
    "    plt.savefig('../figures/n_screens_per_pair_by_assay_version' + fmt)"
   ]
  },
  {
   "cell_type": "code",
   "execution_count": 9,
   "metadata": {},
   "outputs": [
    {
     "data": {
      "image/png": "[encoded data removed]",
      "text/plain": [
       "<Figure size 144x108 with 2 Axes>"
      ]
     },
     "metadata": {
      "needs_background": "light"
     },
     "output_type": "display_data"
    }
   ],
   "source": [
    "nassays = hiIII[['in_assay_v1', 'in_assay_v2', 'in_assay_v6']].sum(axis=1).value_counts()\n",
    "\n",
    "fig, ax = plt.subplots(1, 1)\n",
    "fig.set_size_inches(2., 1.5)\n",
    "ax.bar(nassays.index, nassays.values,\n",
    "       color=HURI_COLOR)\n",
    "ax.set_xticks([1, 2, 3])\n",
    "ax.spines['right'].set_visible(False)\n",
    "ax.spines['top'].set_visible(False)\n",
    "ax.set_xlabel('Number of Y2H\\nassay versions')\n",
    "ax.set_ylabel('Number of PPIs')\n",
    "\n",
    "\n",
    "fassays = nassays / nassays.sum()\n",
    "ax2 = ax.twinx()\n",
    "ax2.bar(fassays.index, fassays.values,\n",
    "        color=HURI_COLOR)\n",
    "\n",
    "ax2.set_ylabel('Fraction')\n",
    "\n",
    "ax.set_yscale('log')\n",
    "ax2.set_yscale('log')\n",
    "ax.spines['right'].set_visible(False)\n",
    "ax.spines['top'].set_visible(False)\n",
    "ax2.spines['left'].set_visible(False)\n",
    "ax2.spines['top'].set_visible(False)\n",
    "\n",
    "ax.set_ylim(100, 60000)\n",
    "ax.set_yticks([100, 1000, 10000])\n",
    "ax.set_yticklabels(['100', '1,000', '10,000'])\n",
    "ax2.set_yticks([0.01, 0.1, 1.])\n",
    "ax2.set_yticklabels(['1%', '10%', '100%'])\n",
    "\n",
    "plt.tight_layout()\n",
    "for fmt in FORMATS:\n",
    "    plt.savefig('../figures/num_PPIs_per_assay_version' + fmt)"
   ]
  },
  {
   "cell_type": "code",
   "execution_count": 10,
   "metadata": {},
   "outputs": [],
   "source": [
    "def count_proteins(pairs, idType='ensembl_gene_id'):\n",
    "    \"\"\"Number of unique proteins in PPI dataset\"\"\"\n",
    "    return len(set(pairs[idType + '_a'].unique()).union(set(pairs[idType + '_b'].unique())))"
   ]
  },
  {
   "cell_type": "code",
   "execution_count": 11,
   "metadata": {},
   "outputs": [],
   "source": [
    "# Getting the average of all combinations of three screens of v1\n",
    "# followed by 1, 2, 3 screens of v2\n",
    "n_ppi_v2_screens456 = []\n",
    "n_proteins_v2_screens456 = []\n",
    "n_screens_v1 = 3\n",
    "n_screens_v2 = 3\n",
    "n_screens_total_v1 = 12\n",
    "n_screens_total_v2 = 3\n",
    "n_screens_total_v6 = 6\n",
    "for n_v2 in [1, 2, 3]:\n",
    "    each_combo = []\n",
    "    each_combo_proteins = []\n",
    "    for cc_i, hy_i in product(combinations(range(n_screens_total_v1), n_screens_v1),\n",
    "                              combinations(range(n_screens_total_v2), n_v2)):\n",
    "        n_ppi = (gsm.loc[:, ['in_screen_v1_' + str(j + 1) for j in cc_i] + \n",
    "                            ['in_screen_v2_' + str(k + 1) for k in hy_i]]\n",
    "                    .any(axis=1)\n",
    "                    .sum())\n",
    "        n_proteins = count_proteins(gsm.loc[gsm[['in_screen_v1_' + str(j + 1) for j in cc_i] + \n",
    "                                                ['in_screen_v2_' + str(k + 1) for k in hy_i]]\n",
    "                                               .any(axis=1),\n",
    "                                            :],\n",
    "                                    idType='orf_id')\n",
    "        each_combo.append(n_ppi)\n",
    "        each_combo_proteins.append(n_proteins)\n",
    "    n_ppi_v2_screens456.append(np.mean(each_combo))\n",
    "    n_proteins_v2_screens456.append(np.mean(each_combo_proteins))\n",
    "    \n",
    "n_ppi_v3_screens789 = []\n",
    "n_proteins_v3_screens789 = []\n",
    "for n_v6 in [1, 2, 3]:\n",
    "    each_combo = []\n",
    "    each_combo_proteins = []\n",
    "    for cc_i, hy_i, v6_i in product(combinations(range(n_screens_total_v1), n_screens_v1), \n",
    "                                    combinations(range(n_screens_total_v2), n_screens_v2),\n",
    "                                    combinations(range(n_screens_total_v6), n_v6)):\n",
    "        n_ppis = (gsm.loc[:, ['in_screen_v1_' + str(j + 1) for j in cc_i] +\n",
    "                             ['in_screen_v2_' + str(k + 1) for k in hy_i] +\n",
    "                             ['in_screen_v6_' + str(m + 1) for m in v6_i]]\n",
    "                     .any(axis=1)\n",
    "                     .sum())\n",
    "        n_proteins = count_proteins(gsm.loc[gsm[['in_screen_v1_' + str(j + 1) for j in cc_i] + \n",
    "                                                ['in_screen_v2_' + str(k + 1) for k in hy_i] +\n",
    "                                                ['in_screen_v6_' + str(m + 1) for m in v6_i]]\n",
    "                                       .any(axis=1),\n",
    "                                    :],\n",
    "                                   idType='orf_id')\n",
    "        each_combo.append(n_ppis)\n",
    "        each_combo_proteins.append(n_proteins)\n",
    "    n_ppi_v3_screens789.append(np.mean(each_combo))\n",
    "    n_proteins_v3_screens789.append(np.mean(each_combo_proteins))"
   ]
  },
  {
   "cell_type": "code",
   "execution_count": 12,
   "metadata": {},
   "outputs": [],
   "source": [
    "def n_screens_plot(hi, screen_columns, ax=None):\n",
    "    n_screens = len(screen_columns)\n",
    "    screen_numbers = list(range(1, n_screens + 1))\n",
    "    ppis_count = []\n",
    "    for screen_i in screen_numbers:\n",
    "        ppis_count.append(hi.loc[:, screen_columns[:screen_i]]\n",
    "                            .any(axis=1)\n",
    "                            .sum())\n",
    "    ax.plot(screen_numbers,\n",
    "            ppis_count,\n",
    "            '-',\n",
    "            color=HURI_COLOR)\n",
    "    ax.plot(screen_numbers[:3],\n",
    "            ppis_count[:3],\n",
    "            '^',\n",
    "            color=ASSAY_V1_COLOR)\n",
    "    ax.plot(screen_numbers[3:6],\n",
    "            ppis_count[3:6],\n",
    "            'o',\n",
    "            color=ASSAY_V2_COLOR)\n",
    "    ax.plot(screen_numbers[6:],\n",
    "            ppis_count[6:],\n",
    "            's',\n",
    "            color=ASSAY_V3_COLOR)\n",
    "    ax.set_xticks(list(range(1, n_screens + 1)))\n",
    "    #ax.set_ylabel('Number of PPIs')\n",
    "    ax.set_xlabel('Number of screens')\n",
    "    ax.set_ylim((0., max(ppis_count) * 1.05))\n",
    "    ax.set_yticks([0, 20000, 40000, 60000])\n",
    "    ax.yaxis.set_major_formatter(k_fmt)\n",
    "    \n",
    "\n",
    "def n_proteins_plot(hi, screen_columns, ax=None):\n",
    "    n_screens = len(screen_columns)\n",
    "    screen_numbers = list(range(1, n_screens + 1))\n",
    "    proteins_count = []\n",
    "    for screen_i in screen_numbers:\n",
    "        proteins_count.append(count_proteins(hi.loc[hi[screen_columns[:screen_i]].any(axis=1), :]))\n",
    "    ax.plot(screen_numbers,\n",
    "            proteins_count,\n",
    "            '-',\n",
    "            color=HURI_COLOR)\n",
    "    ax.plot(screen_numbers[:3],\n",
    "            proteins_count[:3],\n",
    "            '^',\n",
    "            color=ASSAY_V1_COLOR,\n",
    "            label='v1')\n",
    "    ax.plot(screen_numbers[3:6],\n",
    "            proteins_count[3:6],\n",
    "            'o',\n",
    "            color=ASSAY_V2_COLOR,\n",
    "            label='v2')\n",
    "    ax.plot(screen_numbers[6:],\n",
    "            proteins_count[6:],\n",
    "            's',\n",
    "            color=ASSAY_V3_COLOR,\n",
    "            label='v3')\n",
    "    ax.set_xticks(list(range(1, n_screens + 1)))\n",
    "    #ax.set_ylabel('Number of proteins')\n",
    "    ax.set_xlabel('Number of screens')\n",
    "    ax.set_ylim((0., max(proteins_count) * 1.05))\n",
    "    ax.yaxis.set_major_formatter(k_fmt)\n",
    "    ax.set_yticks([0, 2000, 4000, 6000, 8000])\n",
    "\n",
    "\n",
    "\n",
    "def averaged_cumulative_screens_plot(hi, screen_columns, ax=None, **kwargs):\n",
    "    \"\"\"Shuffle the order of the screens taking the average.\n",
    "    In the case where the order of the screens is unimportant\n",
    "    this will smooth out some of the per-screen variability\n",
    "    to better see what the satuaration behavior looks like.\n",
    "    \"\"\"\n",
    "    n_screens = len(screen_columns)\n",
    "    screen_numbers = list(range(1, n_screens + 1))\n",
    "    ppis_count = []\n",
    "    for n in range(n_screens):\n",
    "        ppis_count.append(np.mean(\n",
    "            [hi.loc[:, [screen_columns[j] for j in i]]\n",
    "                            .any(axis=1)\n",
    "                            .sum() for i in combinations(range(n_screens), n+1)]))\n",
    "    ax.plot(screen_numbers, ppis_count, '^-', **kwargs)\n",
    "    ax.set_xlabel('Number of screens')\n",
    "    return ppis_count\n",
    "\n",
    "\n",
    "def averaged_proteins_cumulative_screens_plot(hi, screen_columns, ax=None, **kwargs):\n",
    "    \"\"\"Shuffle the order of the screens taking the average.\n",
    "    In the case where the order of the screens is unimportant\n",
    "    this will smooth out some of the per-screen variability\n",
    "    to better see what the satuaration behavior looks like.\n",
    "    \"\"\"\n",
    "    n_screens = len(screen_columns)\n",
    "    screen_numbers = list(range(1, n_screens + 1))\n",
    "    proteins_count = []\n",
    "    for n in range(n_screens):\n",
    "        proteins_count.append(np.mean(\n",
    "            [count_proteins(hi.loc[hi[[screen_columns[j] for j in i]].any(axis=1),\n",
    "                                  :], idType='orf_id') for i in combinations(range(n_screens), n+1)]))\n",
    "    ax.plot(screen_numbers, proteins_count, '^-', **kwargs)\n",
    "    ax.set_xlabel('Number of screens')\n",
    "    return proteins_count"
   ]
  },
  {
   "cell_type": "code",
   "execution_count": 13,
   "metadata": {},
   "outputs": [
    {
     "data": {
      "image/png": "[encoded data removed]",
      "text/plain": [
       "<Figure size 338.4x144 with 2 Axes>"
      ]
     },
     "metadata": {
      "needs_background": "light"
     },
     "output_type": "display_data"
    }
   ],
   "source": [
    "fig, axes = plt.subplots(1, 2)\n",
    "fig.set_size_inches(4.7, 2.0)\n",
    " \n",
    "v1 = averaged_cumulative_screens_plot(gsm,\n",
    "                                      ['in_screen_v1_' + str(i) for i in range(1, 13)],\n",
    "                                      ax=axes[0],\n",
    "                                      label='',\n",
    "                                      color='grey',\n",
    "                                      markerfacecolor=ASSAY_V1_COLOR,\n",
    "                                      markeredgecolor=ASSAY_V1_COLOR)\n",
    "\n",
    "axes[0].plot([1, 2, 3, 4, 5, 6, 7, 8, 9],\n",
    "                v1[:3] + n_ppi_v2_screens456 + n_ppi_v3_screens789,\n",
    "                '-',\n",
    "                color=HURI_COLOR,\n",
    "                label='',\n",
    "                zorder=0)\n",
    "axes[0].plot([4, 5, 6],\n",
    "                n_ppi_v2_screens456,\n",
    "                'o',\n",
    "                color=ASSAY_V2_COLOR,\n",
    "                label='',\n",
    "                zorder=0)\n",
    "axes[0].plot([7, 8, 9],\n",
    "                n_ppi_v3_screens789,\n",
    "                's',\n",
    "                color=ASSAY_V3_COLOR,\n",
    "                label='',\n",
    "                zorder=0)\n",
    "v1 = averaged_proteins_cumulative_screens_plot(gsm,\n",
    "                                               ['in_screen_v1_' + str(i) for i in range(1, 13)],\n",
    "                                               label='',\n",
    "                                               ax=axes[1],\n",
    "                                               color='grey',\n",
    "                                               markerfacecolor=ASSAY_V1_COLOR,\n",
    "                                               markeredgecolor=ASSAY_V1_COLOR)\n",
    "\n",
    "# number of proteins in test space\n",
    "axes[1].plot([1, 2, 3, 4, 5, 6, 7, 8, 9],\n",
    "                v1[:3] + n_proteins_v2_screens456 + n_proteins_v3_screens789,\n",
    "                '-',\n",
    "                color=HURI_COLOR,\n",
    "                zorder=0)\n",
    "axes[1].plot([1, 2, 3],\n",
    "                v1[:3],\n",
    "                '^',\n",
    "                color=ASSAY_V1_COLOR,\n",
    "                label='v1',\n",
    "                zorder=0)\n",
    "axes[1].plot([4, 5, 6],\n",
    "                n_proteins_v2_screens456,\n",
    "                'o',\n",
    "                color=ASSAY_V2_COLOR,\n",
    "                label='v2',\n",
    "                zorder=0)\n",
    "axes[1].plot([7, 8, 9],\n",
    "                n_proteins_v3_screens789,\n",
    "                's',\n",
    "                color=ASSAY_V3_COLOR,\n",
    "                label='v3',\n",
    "                zorder=0)\n",
    "\n",
    "axes[0].set_ylabel('Cumulative number of PPIs')\n",
    "axes[1].set_ylabel('Cumulative number of proteins')\n",
    "\n",
    "for ax in axes.flatten():\n",
    "    ax.set_xticks(list(range(1, 10)))\n",
    "    ax.spines['right'].set_visible(False)\n",
    "    ax.spines['top'].set_visible(False)\n",
    "    ax.set_xlim((0.5, 9.5))\n",
    "axes[0].set_ylim(0, 850)\n",
    "axes[0].set_yticks(range(0, 820, 200))\n",
    "axes[1].set_ylim(0, 605)\n",
    "box = axes[1].get_position()\n",
    "axes[1].set_position([box.x0, box.y0, box.width * 0.8, box.height])\n",
    "axes[1].legend(title='Y2H Version',\n",
    "           loc='center left',\n",
    "           bbox_to_anchor=(1., 0.8))\n",
    "plt.subplots_adjust(wspace=0.6)\n",
    "for fmt in FORMATS:\n",
    "    plt.savefig('../figures/proteins_vs_interactions_test' + fmt,\n",
    "                bbox_inches='tight')"
   ]
  },
  {
   "cell_type": "code",
   "execution_count": 14,
   "metadata": {},
   "outputs": [
    {
     "data": {
      "image/png": "[encoded data removed]",
      "text/plain": [
       "<Figure size 338.4x144 with 2 Axes>"
      ]
     },
     "metadata": {
      "needs_background": "light"
     },
     "output_type": "display_data"
    }
   ],
   "source": [
    "fig, axes = plt.subplots(1, 2)\n",
    "fig.set_size_inches(4.7, 2.0)\n",
    "n_screens_plot(hiIII,\n",
    "               ['in_screen_' + str(i) for i in range(1, 10)],\n",
    "               ax=axes[0])\n",
    "n_proteins_plot(hiIII,\n",
    "                ['in_screen_' + str(i) for i in range(1, 10)],\n",
    "                ax=axes[1])\n",
    "    \n",
    "axes[0].set_ylabel('Cumulative number of PPIs')\n",
    "axes[1].set_ylabel('Cumulative number of proteins')\n",
    "    \n",
    "for ax in axes.flatten():\n",
    "    ax.set_xticks(list(range(1, 10)))\n",
    "    ax.spines['right'].set_visible(False)\n",
    "    ax.spines['top'].set_visible(False)\n",
    "    ax.set_xlim((0.5, 9.5))\n",
    "axes[1].legend(title='Y2H Version',\n",
    "           loc='center left',\n",
    "           bbox_to_anchor=(1., 0.8))\n",
    "           #labelspacing=1.2)\n",
    "\n",
    "plt.subplots_adjust(wspace=0.6)\n",
    "\n",
    "\n",
    "for fmt in FORMATS:\n",
    "    plt.savefig('../figures/proteins_vs_interactions_full' + fmt,\n",
    "                bbox_inches='tight')"
   ]
  },
  {
   "cell_type": "code",
   "execution_count": 15,
   "metadata": {},
   "outputs": [],
   "source": [
    "spaceIII = load_space_iii(id_type='ensembl_gene_id')"
   ]
  },
  {
   "cell_type": "code",
   "execution_count": 8,
   "metadata": {},
   "outputs": [],
   "source": [
    "n_pub = load_number_publications_per_gene()\n",
    "n_pub = n_pub[n_pub.index.isin(pcg)]"
   ]
  },
  {
   "cell_type": "code",
   "execution_count": 17,
   "metadata": {},
   "outputs": [],
   "source": [
    "litbm = load_nw_lit_bm_17()"
   ]
  },
  {
   "cell_type": "code",
   "execution_count": 18,
   "metadata": {},
   "outputs": [],
   "source": [
    "from matplotlib.colors import LinearSegmentedColormap\n",
    "hi_cmap = LinearSegmentedColormap.from_list('HI-III-19', ['white', HURI_COLOR, 'black'], 1000)\n",
    "lit_cmap = LinearSegmentedColormap.from_list('Lit-BM', ['white', LIT_COLOR, 'black'], 1000)\n",
    "plt.register_cmap(name=hi_cmap.name, cmap=hi_cmap)\n",
    "plt.register_cmap(name=lit_cmap.name, cmap=lit_cmap)"
   ]
  },
  {
   "cell_type": "code",
   "execution_count": 19,
   "metadata": {},
   "outputs": [],
   "source": [
    "hiU = load_nw_hi_union()\n",
    "hi_I_05 = hiU.loc[hiU['in_Rual'], :].copy()\n",
    "hi_II_14 = hiU.loc[hiU['in_Rolland'], :].copy()"
   ]
  },
  {
   "cell_type": "code",
   "execution_count": 4,
   "metadata": {},
   "outputs": [
    {
     "name": "stdout",
     "output_type": "stream",
     "text": [
      "Warning: mapping between gene/protein identifiers has resulted in different pairs in the input ID being mapped to the same pair in the output ID.\n",
      "You may wish to use the `agg` argument to customize the choice of which of the pair's infomation to keep or how to combine the information from multiple pairs.\n"
     ]
    }
   ],
   "source": [
    "qry = \"\"\"SELECT *\n",
    "          FROM lit17_v1.evidences_human;\"\"\"\n",
    "lit_evid = pd.read_sql(qry, ccsblib.paros_connection())\n",
    "pmid_date = pd.read_csv('../data/processed/pubmed_id_to_datetime.csv')\n",
    "pmid_date = (pmid_date.drop_duplicates('pubmed_id')\n",
    "                     .set_index('pubmed_id')\n",
    "                     .datetime\n",
    "                     .astype('datetime64'))\n",
    "lit_evid['date'] = lit_evid['pubmed_id'].map(pmid_date)\n",
    "lit_bm_evid = lit_evid.loc[lit_evid.groupby(['uniprot_id_a', 'uniprot_id_b']).date.transform('size') >= 2,\n",
    "                          :]\n",
    "date_2nd = (lit_bm_evid.sort_values('date')\n",
    "                      .groupby(['uniprot_id_a', 'uniprot_id_b'])\n",
    "                      .nth(1, dropna='any')\n",
    "                      ['date'])\n",
    "date_bin = (lit_bm_evid.loc[lit_bm_evid['binary'] == 1, :]\n",
    "                      .sort_values('date')\n",
    "                      .groupby(['uniprot_id_a', 'uniprot_id_b'])\n",
    "                      .nth(0, dropna='any')\n",
    "                      ['date'])\n",
    "date_bm = (pd.merge(date_2nd.to_frame(),\n",
    "                  date_bin.to_frame(),\n",
    "                  how='inner',\n",
    "                  on=['uniprot_id_a', 'uniprot_id_b']).max(axis=1))\n",
    "date_bm.name = 'date'\n",
    "litbm = huri.load_nw_lit_bm_17(id_type='uniprot_ac')\n",
    "litbm = pd.merge(litbm,\n",
    "                date_bm.to_frame(),\n",
    "                how='left',\n",
    "                left_on=['uniprot_ac_a', 'uniprot_ac_b'],\n",
    "                right_on=['uniprot_id_a', 'uniprot_id_b'])\n",
    "litbm = huri.map_nw_ids(litbm, 'uniprot_ac', 'ensembl_gene_id')"
   ]
  },
  {
   "cell_type": "code",
   "execution_count": 21,
   "metadata": {},
   "outputs": [],
   "source": [
    "litbm_2014 = litbm.loc[litbm['date'] <= '2014', :]\n",
    "litbm_2005 = litbm.loc[litbm['date'] <= '2005', :]"
   ]
  },
  {
   "cell_type": "code",
   "execution_count": 22,
   "metadata": {},
   "outputs": [
    {
     "data": {
      "image/png": "[encoded data removed]",
      "text/plain": [
       "<Figure size 360x120 with 7 Axes>"
      ]
     },
     "metadata": {
      "needs_background": "light"
     },
     "output_type": "display_data"
    }
   ],
   "source": [
    "fig, axes = plt.subplots(1, 3)\n",
    "fig.set_size_inches(5, 5/3)\n",
    "plt.subplots_adjust(wspace=0.)\n",
    "for ax, ds, name in zip(axes, \n",
    "                        [(hi_I_05, litbm_2005), (hi_II_14, litbm_2014), (hiIII, litbm)],\n",
    "                        ['HI-I-05', 'HI-II-14', 'HI-III-19']):\n",
    "    new_axes = cplt.samogram_double(ds,\n",
    "                                     n_pub,\n",
    "                                     n_bins=40,\n",
    "                                     color='grey',\n",
    "                                     draw_right=(name == 'HI-III-19'),\n",
    "                                     draw_up=(name == 'HI-III-19'),\n",
    "                                     draw_scale=(name == 'HI-III-19'),\n",
    "                                     cmaps=('HI-III-19', 'Lit-BM'),\n",
    "                                     zticks=[0, 75, 150],\n",
    "                                     vmax=150,\n",
    "                                     ylabel='Number of\\npublications',\n",
    "                                     ax=ax,\n",
    "                                     size_ratio=0.25,\n",
    "                                     colorbar_width=0.9,\n",
    "                              labels=('HI', 'Lit-BM'))\n",
    "    if name == 'HI-III-19':\n",
    "        new_axes[1].set_ylabel('')\n",
    "fig.text(0.18, 1., '2005', fontsize=14, weight='bold')\n",
    "fig.text(0.45, 1., '2014', fontsize=14, weight='bold')\n",
    "fig.text(0.7, 1., '2019', fontsize=14, weight='bold')\n",
    "for fmt in FORMATS:\n",
    "    plt.savefig('../figures/samograms_timeline' + fmt,\n",
    "                bbox_inches='tight')"
   ]
  }
 ],
 "metadata": {
  "kernelspec": {
   "display_name": "Python 3",
   "language": "python",
   "name": "python3"
  },
  "language_info": {
   "codemirror_mode": {
    "name": "ipython",
    "version": 3
   },
   "file_extension": ".py",
   "mimetype": "text/x-python",
   "name": "python",
   "nbconvert_exporter": "python",
   "pygments_lexer": "ipython3",
   "version": "3.7.3"
  }
 },
 "nbformat": 4,
 "nbformat_minor": 2
}
