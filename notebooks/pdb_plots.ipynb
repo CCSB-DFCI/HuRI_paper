{
 "cells": [
  {
   "cell_type": "markdown",
   "metadata": {},
   "source": [
    "# Interface area and number of atomic contacts vs number of screens"
   ]
  },
  {
   "cell_type": "code",
   "execution_count": 1,
   "metadata": {},
   "outputs": [],
   "source": [
    "import numpy as np\n",
    "from scipy import stats\n",
    "import matplotlib as mpl\n",
    "from matplotlib import pyplot as plt\n",
    "import pandas as pd\n",
    "\n",
    "from custom_settings import *\n",
    "\n",
    "%matplotlib inline"
   ]
  },
  {
   "cell_type": "code",
   "execution_count": 2,
   "metadata": {},
   "outputs": [],
   "source": [
    "mpl.rcParams['font.family'] = 'Arial'\n",
    "mpl.rcParams['font.size'] = 7.0\n",
    "mpl.rcParams['savefig.dpi'] = 500"
   ]
  },
  {
   "cell_type": "code",
   "execution_count": 3,
   "metadata": {},
   "outputs": [],
   "source": [
    "df = pd.read_csv('../data/processed/Supplementary Table 11.txt', sep='\\t')"
   ]
  },
  {
   "cell_type": "code",
   "execution_count": 4,
   "metadata": {},
   "outputs": [
    {
     "data": {
      "image/png": "[encoded data removed]",
      "text/plain": [
       "<Figure size 86.4x100.8 with 1 Axes>"
      ]
     },
     "metadata": {
      "image/png": {
       "height": 109,
       "width": 118
      },
      "needs_background": "light"
     },
     "output_type": "display_data"
    }
   ],
   "source": [
    "fig, ax = plt.subplots(1, 1)\n",
    "fig.set_size_inches(1.2, 1.4)\n",
    "data = ([df.loc[df['number_of_screens'] == i, 'interface_area'].values\n",
    "         for i in range(0, 4)] +\n",
    "         [df.loc[df['number_of_screens'] >= 4, 'interface_area'].values])\n",
    "ax.boxplot(data,\n",
    "           labels=[str(i) for i in range(0, 4)] + ['4+'],\n",
    "           patch_artist=True,\n",
    "           boxprops={'facecolor': HURI_COLOR, 'linewidth': 0.6},\n",
    "           flierprops={'markersize': 2.5, 'markeredgewidth': 0.5},\n",
    "           medianprops={'color': 'black', 'linewidth': 0.8})\n",
    "ax.set_yscale('log')\n",
    "ax.set_ylim(70, 15000)\n",
    "yticks = [100, 1000, 10000]\n",
    "ax.set_yticks(yticks)\n",
    "ax.set_yticks([], minor=True)\n",
    "ax.set_yticklabels(yticks, fontsize=6)\n",
    "comma_fmt = mpl.ticker.FuncFormatter(lambda x, p: '{:,}'.format(int(x)))\n",
    "ax.yaxis.set_major_formatter(comma_fmt)\n",
    "ax.set_xlabel('Number of screens',\n",
    "              fontsize=5)\n",
    "ax.set_ylabel(r'Interface area $\\mathrm{(\\AA^2)}$',\n",
    "              fontsize=5)\n",
    "ax.spines['top'].set_visible(False)\n",
    "ax.spines['right'].set_visible(False)\n",
    "ax.spines['bottom'].set_visible(False)\n",
    "ax.xaxis.set_tick_params(length=0)\n",
    "for fmt in FORMATS:\n",
    "    plt.savefig('../figures/n_screens_vs_interface_area_box_plots' + fmt,\n",
    "                bbox_inches='tight')"
   ]
  },
  {
   "cell_type": "code",
   "execution_count": 6,
   "metadata": {},
   "outputs": [
    {
     "data": {
      "text/plain": [
       "0    770\n",
       "2     64\n",
       "1     59\n",
       "3     57\n",
       "4     26\n",
       "5     13\n",
       "6     11\n",
       "7      3\n",
       "9      1\n",
       "Name: number_of_screens, dtype: int64"
      ]
     },
     "execution_count": 6,
     "metadata": {},
     "output_type": "execute_result"
    }
   ],
   "source": [
    "df.number_of_screens.value_counts()"
   ]
  },
  {
   "cell_type": "code",
   "execution_count": 7,
   "metadata": {},
   "outputs": [
    {
     "data": {
      "text/plain": [
       "1004"
      ]
     },
     "execution_count": 7,
     "metadata": {},
     "output_type": "execute_result"
    }
   ],
   "source": [
    "df.shape[0]"
   ]
  },
  {
   "cell_type": "code",
   "execution_count": 6,
   "metadata": {},
   "outputs": [
    {
     "data": {
      "image/png": "[encoded data removed]",
      "text/plain": [
       "<Figure size 86.4x100.8 with 1 Axes>"
      ]
     },
     "metadata": {
      "needs_background": "light"
     },
     "output_type": "display_data"
    }
   ],
   "source": [
    "fig, ax = plt.subplots(1, 1)\n",
    "fig.set_size_inches(1.2, 1.4)\n",
    "data = ([df.loc[df['number_of_screens'] == i, 'number_of_contacts'].values\n",
    "         for i in range(0, 4)] +\n",
    "         [df.loc[df['number_of_screens'] >= 4, 'number_of_contacts'].values])\n",
    "ax.boxplot(data,\n",
    "           labels=[str(i) for i in range(0, 4)] + ['4+'],\n",
    "           patch_artist=True,\n",
    "           boxprops={'facecolor': HURI_COLOR, 'linewidth': 0.6},\n",
    "           flierprops={'markersize': 2.5, 'markeredgewidth': 0.5},\n",
    "           medianprops={'color': 'black', 'linewidth': 0.8})\n",
    "ax.set_yscale('log')\n",
    "ax.set_ylim(4, 700)\n",
    "yticks = [5, 50, 500]\n",
    "ax.set_yticks(yticks)\n",
    "ax.set_yticks([], minor=True)\n",
    "ax.set_yticklabels(yticks, fontsize=6)\n",
    "ax.set_xlabel('Number of screens',\n",
    "              fontsize=5)\n",
    "ax.set_ylabel('Number of atomic contacts',\n",
    "              fontsize=5)\n",
    "ax.spines['top'].set_visible(False)\n",
    "ax.spines['right'].set_visible(False)\n",
    "ax.spines['bottom'].set_visible(False)\n",
    "ax.xaxis.set_tick_params(length=0)\n",
    "for fmt in FORMATS:\n",
    "    plt.savefig('../figures/n_screens_vs_n_contacts_box_plots' + fmt,\n",
    "                bbox_inches='tight')"
   ]
  },
  {
   "cell_type": "code",
   "execution_count": 7,
   "metadata": {},
   "outputs": [
    {
     "name": "stdout",
     "output_type": "stream",
     "text": [
      "rho: 0.15\n",
      "p = 0.025 (standard t-test on slope of ranks)\n",
      "p = 0.031 (permutation test)\n"
     ]
    }
   ],
   "source": [
    "xy = df.loc[df['number_of_screens'] > 0,\n",
    "            ['number_of_screens', 'number_of_contacts']].values\n",
    "x = xy[:, 0].copy()\n",
    "y = xy[:, 1].copy()\n",
    "rho, pval = stats.spearmanr(xy)\n",
    "rand_rho = []\n",
    "for __ in range(10000):\n",
    "    rand_y = y.copy()\n",
    "    np.random.shuffle(rand_y)\n",
    "    rand_rho.append(stats.spearmanr(x, rand_y)[0])\n",
    "pval_permuation = (len([_r for _r in rand_rho if _r >= rho]) / len(rand_rho)) * 2\n",
    "print('rho: {:.2f}\\np = {:.3f} (standard t-test on slope of ranks)\\np = {:.3f} (permutation test)'.format(rho, pval, pval_permuation))"
   ]
  },
  {
   "cell_type": "code",
   "execution_count": 8,
   "metadata": {},
   "outputs": [
    {
     "name": "stdout",
     "output_type": "stream",
     "text": [
      "rho: 0.14\n",
      "p = 0.039 (standard t-test on slope of ranks)\n",
      "p = 0.040 (permutation test)\n"
     ]
    }
   ],
   "source": [
    "xy = df.loc[df['number_of_screens'] > 0,\n",
    "            ['number_of_screens', 'interface_area']].values\n",
    "x = xy[:, 0].copy()\n",
    "y = xy[:, 1].copy()\n",
    "rho, pval = stats.spearmanr(xy)\n",
    "rand_rho = []\n",
    "for __ in range(10000):\n",
    "    rand_y = y.copy()\n",
    "    np.random.shuffle(rand_y)\n",
    "    rand_rho.append(stats.spearmanr(x, rand_y)[0])\n",
    "pval_permuation = (len([_r for _r in rand_rho if _r >= rho]) / len(rand_rho)) * 2\n",
    "print('rho: {:.2f}\\np = {:.3f} (standard t-test on slope of ranks)\\np = {:.3f} (permutation test)'.format(rho, pval, pval_permuation))"
   ]
  },
  {
   "cell_type": "code",
   "execution_count": null,
   "metadata": {},
   "outputs": [],
   "source": []
  }
 ],
 "metadata": {
  "kernelspec": {
   "display_name": "Python 3",
   "language": "python",
   "name": "python3"
  },
  "language_info": {
   "codemirror_mode": {
    "name": "ipython",
    "version": 3
   },
   "file_extension": ".py",
   "mimetype": "text/x-python",
   "name": "python",
   "nbconvert_exporter": "python",
   "pygments_lexer": "ipython3",
   "version": "3.7.3"
  }
 },
 "nbformat": 4,
 "nbformat_minor": 2
}
