{
 "cells": [
  {
   "cell_type": "markdown",
   "metadata": {},
   "source": [
    "# ORFeome size"
   ]
  },
  {
   "cell_type": "code",
   "execution_count": 8,
   "metadata": {},
   "outputs": [],
   "source": [
    "import matplotlib as mpl\n",
    "import matplotlib.pyplot as plt\n",
    "import pandas as pd\n",
    "from matplotlib_venn import venn2\n",
    "\n",
    "import ccsblib\n",
    "\n",
    "import config\n",
    "from custom_settings import *\n",
    "from utils import load_space_iii\n",
    "\n",
    "\n",
    "%matplotlib inline\n",
    "\n",
    "connect = ccsblib.paros_connection()\n",
    "cursor = connect.cursor()\n",
    "\n",
    "expr_path = '../data/katjas_data/expression_data/'\n",
    "FANTOM_path = '../data/katjas_data/FANTOM5/'"
   ]
  },
  {
   "cell_type": "code",
   "execution_count": 2,
   "metadata": {},
   "outputs": [],
   "source": [
    "mpl.rcParams['pdf.fonttype'] = 42\n",
    "mpl.rcParams['font.family'] = 'Arial'\n",
    "mpl.rcParams['font.size'] = 8.0\n",
    "mpl.rcParams['savefig.dpi'] = 500"
   ]
  },
  {
   "cell_type": "code",
   "execution_count": 4,
   "metadata": {},
   "outputs": [
    {
     "name": "stderr",
     "output_type": "stream",
     "text": [
      "/usr/local/lib/python3.7/site-packages/ipykernel_launcher.py:13: FutureWarning: read_table is deprecated, use read_csv instead, passing sep='\\t'.\n",
      "  del sys.path[0]\n",
      "/usr/local/lib/python3.7/site-packages/ipykernel_launcher.py:19: FutureWarning: read_table is deprecated, use read_csv instead, passing sep='\\t'.\n"
     ]
    }
   ],
   "source": [
    "space3 = load_space_iii(id_type='ensembl_gene_id')\n",
    "query = \"\"\"select a.ensembl_gene_id from \n",
    "            (select ensembl_gene_id,max(`value`) max_expr \n",
    "                from hi2018_paper.GTEx_expr_PC_tabular \n",
    "                where tissue!='testis' \n",
    "                group by ensembl_gene_id) as a\n",
    "            where a.max_expr>5\"\"\"\n",
    "cursor.execute(query)\n",
    "GTEx_genes = set([row[0] for row in cursor])\n",
    "\n",
    "FANTOM_expr_file = FANTOM_path + 'Fantom_PC_TPM_log_imputed.txt'\n",
    "FANTOM_expr_cutoff = 0.0\n",
    "FANTOM = pd.read_table(FANTOM_expr_file,index_col=0)\n",
    "FANTOM_max = FANTOM.max(axis=1)\n",
    "FANTOM_genes = set(FANTOM_max[FANTOM_max > FANTOM_expr_cutoff].index.tolist())\n",
    "\n",
    "HPA_expr_file = expr_path + 'HPA_RNAseq_cellines_matrix.txt'\n",
    "HPA_expr_cutoff = 1\n",
    "HPA = pd.read_table(HPA_expr_file,index_col=0)\n",
    "HPA_max = HPA.max(axis=1)\n",
    "HPA_genes = set(HPA_max[HPA_max > HPA_expr_cutoff].index.tolist())\n"
   ]
  },
  {
   "cell_type": "code",
   "execution_count": 5,
   "metadata": {},
   "outputs": [
    {
     "data": {
      "image/png": "[encoded data removed]",
      "text/plain": [
       "<Figure size 122.4x122.4 with 1 Axes>"
      ]
     },
     "metadata": {
      "needs_background": "light"
     },
     "output_type": "display_data"
    }
   ],
   "source": [
    "# plot a bar plot comparing the absolute PC gene count in different datasets\n",
    "fig, ax = plt.subplots(1, 1)\n",
    "fig.set_size_inches(1.7, 1.7)\n",
    "colors = [HURI_COLOR, 'grey', 'grey', 'grey']\n",
    "dataset_names = ['ORFeome v9.1','GTEx tissues','FANTOM cell types','HPA cell lines']\n",
    "dataset_values = [len(space3),len(GTEx_genes),len(FANTOM_genes),len(HPA_genes)]\n",
    "plt.bar(range(len(dataset_names)),dataset_values,width=0.75,color=colors)\n",
    "plt.ylabel('Number of genes')\n",
    "plt.ylim([0,20000])\n",
    "plt.xticks(range(len(dataset_names)),\n",
    "           dataset_names,\n",
    "           horizontalalignment='right',\n",
    "           rotation_mode='anchor',\n",
    "           rotation=45)\n",
    "ax.set_yticks(range(0,22500,5000))\n",
    "ax.set_yticks(range(2500,22500,5000), minor=True)\n",
    "ax.get_yaxis().set_major_formatter(mpl.ticker.FuncFormatter(lambda x, p: format(int(x), ',')))\n",
    "ax.spines['right'].set_visible(False)\n",
    "ax.spines['top'].set_visible(False)\n",
    "ax.spines['bottom'].set_visible(False)\n",
    "ax.xaxis.set_tick_params(length=0.)\n",
    "plt.tight_layout()\n",
    "for fmt in FORMATS:\n",
    "    plt.savefig('../figures/genome_coverage_comparison' + fmt)"
   ]
  },
  {
   "cell_type": "code",
   "execution_count": 6,
   "metadata": {},
   "outputs": [
    {
     "data": {
      "image/png": "[encoded data removed]",
      "text/plain": [
       "<Figure size 216x144 with 1 Axes>"
      ]
     },
     "metadata": {},
     "output_type": "display_data"
    }
   ],
   "source": [
    "fig, ax = plt.subplots(1, 1)\n",
    "fig.set_size_inches(3, 2)\n",
    "venn2([space3, \n",
    "       GTEx_genes.intersection(FANTOM_genes).intersection(HPA_genes)],\n",
    "      set_colors=[HURI_COLOR, 'green'],\n",
    "      set_labels=['hORFeome 9.1', 'cell types\\ncell lines\\ntissues'],\n",
    "      ax=ax,\n",
    "      alpha=0.3)\n",
    "for fmt in FORMATS:\n",
    "    plt.savefig('../figures/venn_spaceIII_vs_intersection_of_others' + fmt,\n",
    "                bbox_inches='tight')"
   ]
  }
 ],
 "metadata": {
  "kernelspec": {
   "display_name": "Python 3",
   "language": "python",
   "name": "python3"
  },
  "language_info": {
   "codemirror_mode": {
    "name": "ipython",
    "version": 3
   },
   "file_extension": ".py",
   "mimetype": "text/x-python",
   "name": "python",
   "nbconvert_exporter": "python",
   "pygments_lexer": "ipython3",
   "version": "3.7.3"
  }
 },
 "nbformat": 4,
 "nbformat_minor": 2
}
