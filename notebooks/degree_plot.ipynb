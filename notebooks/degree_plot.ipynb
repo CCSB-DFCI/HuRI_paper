{
 "cells": [
  {
   "cell_type": "markdown",
   "metadata": {},
   "source": [
    "# Degree distribution plot"
   ]
  },
  {
   "cell_type": "code",
   "execution_count": 1,
   "metadata": {},
   "outputs": [],
   "source": [
    "import numpy as np\n",
    "import matplotlib as mpl\n",
    "from matplotlib import pyplot as plt\n",
    "%matplotlib inline\n",
    "\n",
    "import ccsblib\n",
    "from ccsblib import huri\n",
    "from ccsblib import ccsbplotlib as cplt\n",
    "\n",
    "from utils import (load_nw_hi_iii,\n",
    "                   load_nw_lit_bm_17)\n",
    "from custom_settings import *"
   ]
  },
  {
   "cell_type": "code",
   "execution_count": 2,
   "metadata": {},
   "outputs": [
    {
     "data": {
      "text/plain": [
       "'0.3.1.dev5+g3ced0ef.d20190612'"
      ]
     },
     "execution_count": 2,
     "metadata": {},
     "output_type": "execute_result"
    }
   ],
   "source": [
    "# Keep track of version used\n",
    "ccsblib.version()"
   ]
  },
  {
   "cell_type": "code",
   "execution_count": 3,
   "metadata": {},
   "outputs": [],
   "source": [
    "mpl.rcParams['font.family'] = 'Arial'\n",
    "mpl.rcParams['font.size'] = 7.0\n",
    "mpl.rcParams['savefig.dpi'] = 500"
   ]
  },
  {
   "cell_type": "code",
   "execution_count": 4,
   "metadata": {},
   "outputs": [
    {
     "name": "stderr",
     "output_type": "stream",
     "text": [
      "/Users/lukelambourne/Work/ccsblib/ccsblib/huri/internal_data/ID_mapping.py:120: UserWarning: Warning: mapping between gene/protein identifiers has resulted in different pairs in the input ID being mapped to the same pair in the output ID.\n",
      "You may wish to use the `agg` argument to customize the choice of which of the pair's infomation to keep or how to combine the information from multiple pairs.\n",
      "  warnings.warn('Warning: mapping between gene/protein identifiers has '\n"
     ]
    }
   ],
   "source": [
    "hi = load_nw_hi_iii()\n",
    "bp = huri.load_nw_bioplex(id_type='ensembl_gene_id')\n",
    "qb = huri.load_nw_qubic(id_type='ensembl_gene_id')\n",
    "cf = huri.load_nw_cofrac(id_type='ensembl_gene_id')\n",
    "lit = load_nw_lit_bm_17()\n",
    "nws = [hi, bp, qb, cf, lit]\n",
    "cols = [HURI_COLOR, BIOPLEX_COLOR, QUBIC_COLOR, COFRAC_COLOR, LIT_COLOR]\n",
    "names = ['HuRI', 'BioPlex', 'QUBIC', 'CoFrac', 'Lit-BM']"
   ]
  },
  {
   "cell_type": "code",
   "execution_count": 5,
   "metadata": {},
   "outputs": [
    {
     "data": {
      "image/png": "[encoded data removed]",
      "text/plain": [
       "<Figure size 93.6x86.4 with 1 Axes>"
      ]
     },
     "metadata": {
      "needs_background": "light"
     },
     "output_type": "display_data"
    }
   ],
   "source": [
    "fig, ax = plt.subplots(1, 1)\n",
    "fig.set_size_inches(1.3, 1.2)\n",
    "for i, (nw, col, name) in enumerate(zip(nws, cols, names)):\n",
    "    cplt.degree_distribution_plot(nw, \n",
    "                                  id_a='ensembl_gene_id_a',\n",
    "                                  id_b='ensembl_gene_id_b',\n",
    "                                  color=col,\n",
    "                                  label=name,\n",
    "                                  ax=ax,\n",
    "                                  markersize=4,\n",
    "                                  alpha=0.7,\n",
    "                                  markeredgewidth=0,\n",
    "                                  zorder=-i)\n",
    "ax.set_xlim((0.7, 250))\n",
    "ax.set_ylim((0.0000015, 1.))\n",
    "ax.spines['right'].set_visible(False)\n",
    "ax.spines['top'].set_visible(False)\n",
    "ax.set_yticks([10**-i for i in range(6)])\n",
    "ax.set_yticks(list(np.arange(0.1, 1, 0.1)) +\n",
    "              list(np.arange(0.01, 0.1, 0.01)) +\n",
    "              list(np.arange(0.001, 0.01, 0.001)) +\n",
    "              list(np.arange(0.0001, 0.001, 0.0001)) +\n",
    "              list(np.arange(0.00001, 0.0001, 0.00001)) +\n",
    "              list(np.arange(0.000002, 0.00001, 0.000001)),\n",
    "              minor=True)\n",
    "ax.set_xticks([10**i for i in range(3)])\n",
    "ax.set_xticks(list(range(1, 10, 1)) +\n",
    "              list(range(10, 100, 10)) +\n",
    "              [200],\n",
    "              minor=True)\n",
    "ax.set_xticklabels([], minor=True)\n",
    "ax.legend(loc=1,\n",
    "          bbox_to_anchor=[1.8, 1.])\n",
    "for fmt in FORMATS:\n",
    "    plt.savefig('../figures/degree_distributions' + fmt,\n",
    "                bbox_inches='tight')"
   ]
  },
  {
   "cell_type": "code",
   "execution_count": 6,
   "metadata": {},
   "outputs": [
    {
     "data": {
      "image/png": "[encoded data removed]",
      "text/plain": [
       "<Figure size 648x86.4 with 5 Axes>"
      ]
     },
     "metadata": {
      "needs_background": "light"
     },
     "output_type": "display_data"
    }
   ],
   "source": [
    "# All ccsbplotlib take an optional 'ax' keyword argument that accepts a matplotlib Axes\n",
    "# This can be used to make multipanel plots\n",
    "fig, axes = plt.subplots(1, 5)\n",
    "fig.set_size_inches(9., 1.2) \n",
    "for nw, ax, col, name in zip(nws, axes.flatten(), cols, names):\n",
    "    cplt.degree_distribution_plot(nw, \n",
    "                                  ax=ax,\n",
    "                                  id_a='ensembl_gene_id_a',\n",
    "                                  id_b='ensembl_gene_id_b',\n",
    "                                  color=col,\n",
    "                                  label=name,\n",
    "                                  markersize=4)\n",
    "    ax.set_xlim((0.7, 250))\n",
    "    ax.set_ylim((0.0000015, 1.))\n",
    "    ax.set_title(name, fontweight='bold')\n",
    "    ax.spines['right'].set_visible(False)\n",
    "    ax.spines['top'].set_visible(False)\n",
    "    ax.set_yticks([10**-i for i in range(6)])\n",
    "    ax.set_yticks(list(np.arange(0.1, 1, 0.1)) +\n",
    "                  list(np.arange(0.01, 0.1, 0.01)) +\n",
    "                  list(np.arange(0.001, 0.01, 0.001)) +\n",
    "                  list(np.arange(0.0001, 0.001, 0.0001)) +\n",
    "                  list(np.arange(0.00001, 0.0001, 0.00001) +\n",
    "                  list(np.arange(0.000002, 0.00001, 0.000001))),\n",
    "                  minor=True)\n",
    "    ax.set_xticks([10**i for i in range(3)])\n",
    "    ax.set_xticks(list(range(1, 10, 1)) +\n",
    "                  list(range(10, 100, 10)) +\n",
    "                  [200],\n",
    "                  minor=True)\n",
    "    ax.set_xticklabels([], minor=True)\n",
    "    ax.set_yticklabels([], minor=True)\n",
    "#axes[0, 0].set_xlabel('')\n",
    "#axes[0, 1].set_xlabel('')\n",
    "for i in range(1, len(axes)):\n",
    "    axes[i].set_ylabel('')\n",
    "plt.subplots_adjust(wspace=0.6)\n",
    "for fmt in FORMATS:\n",
    "    plt.savefig('../figures/degree_distributions_facet' + fmt,\n",
    "                bbox_inches='tight')"
   ]
  }
 ],
 "metadata": {
  "kernelspec": {
   "display_name": "Python 3",
   "language": "python",
   "name": "python3"
  },
  "language_info": {
   "codemirror_mode": {
    "name": "ipython",
    "version": 3
   },
   "file_extension": ".py",
   "mimetype": "text/x-python",
   "name": "python",
   "nbconvert_exporter": "python",
   "pygments_lexer": "ipython3",
   "version": "3.7.3"
  }
 },
 "nbformat": 4,
 "nbformat_minor": 2
}
