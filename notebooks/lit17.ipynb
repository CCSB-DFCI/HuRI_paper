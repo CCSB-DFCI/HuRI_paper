{
 "cells": [
  {
   "cell_type": "markdown",
   "metadata": {},
   "source": [
    "## Plots of the Y2H and MAPPIT tests of the new literature curated datasets."
   ]
  },
  {
   "cell_type": "code",
   "execution_count": 1,
   "metadata": {},
   "outputs": [],
   "source": [
    "from functools import reduce\n",
    "\n",
    "import numpy as np\n",
    "import pandas as pd\n",
    "import matplotlib as mpl\n",
    "from matplotlib import pyplot as plt\n",
    "\n",
    "from utils import validation_plot\n",
    "from custom_settings import *\n",
    "\n",
    "\n",
    "%matplotlib inline"
   ]
  },
  {
   "cell_type": "code",
   "execution_count": 2,
   "metadata": {},
   "outputs": [],
   "source": [
    "mpl.rcParams['font.family'] = 'Arial'\n",
    "mpl.rcParams['font.size'] = 7.0\n",
    "mpl.rcParams['savefig.dpi'] = 500"
   ]
  },
  {
   "cell_type": "code",
   "execution_count": 3,
   "metadata": {},
   "outputs": [],
   "source": [
    "hs12 = pd.read_csv('../data/processed/Supplementary Table 23.txt', sep='\\t')\n",
    "\n",
    "\n",
    "def per_pair_score(vals):\n",
    "    \"\"\"Collapse values per-orientation into a single value\"\"\"\n",
    "    if len(vals) == 1:\n",
    "        return {'0': 0, '1': 1, 'AA': np.nan, np.nan: np.nan}[vals.values[0]]\n",
    "    a, b = vals.values\n",
    "    if a == '1' or b == '1':\n",
    "        return 1\n",
    "    elif a == '0' or b == '0':\n",
    "        return 0\n",
    "    else:\n",
    "        return np.nan\n",
    "\n",
    "    \n",
    "hs12['orf_id_a'] = hs12[['ad_orf_id', 'db_orf_id']].min(axis=1)\n",
    "hs12['orf_id_b'] = hs12[['ad_orf_id', 'db_orf_id']].max(axis=1)\n",
    "hs12 = hs12.groupby(['source', 'orf_id_a', 'orf_id_b']).agg({'final_score': per_pair_score}).reset_index()"
   ]
  },
  {
   "cell_type": "code",
   "execution_count": 4,
   "metadata": {},
   "outputs": [],
   "source": [
    "val = pd.read_csv('../data/processed/Supplementary Table 24.txt', sep='\\t')"
   ]
  },
  {
   "cell_type": "code",
   "execution_count": 5,
   "metadata": {},
   "outputs": [
    {
     "name": "stdout",
     "output_type": "stream",
     "text": [
      "Lit-BM-13: 225; Lit-BM-LT-17: 221; Lit-BM-HT-17: 231; Lit-BS-LT-17: 223; Lit-BS-HT-17: 219; Lit-NB-17: 233\n"
     ]
    },
    {
     "data": {
      "image/png": "[encoded data removed]",
      "text/plain": [
       "<Figure size 180x115.2 with 1 Axes>"
      ]
     },
     "metadata": {
      "image/png": {
       "height": 116,
       "width": 179
      },
      "needs_background": "light"
     },
     "output_type": "display_data"
    }
   ],
   "source": [
    "fig, ax = plt.subplots(1, 1)\n",
    "fig.set_size_inches(2.5, 1.6)\n",
    "sources = ['Lit-BM-13',\n",
    "           'Lit-BM-LT-17',\n",
    "           'Lit-BM-HT-17',\n",
    "           'Lit-BS-LT-17',\n",
    "           'Lit-BS-HT-17',\n",
    "           'Lit-NB-17',]\n",
    "validation_plot(data=hs12,\n",
    "                selections=[hs12['source'] == s for s in sources],\n",
    "                ax=ax,\n",
    "                colors=[LIT_COLOR] * len(sources),\n",
    "                y_max=0.12,\n",
    "                result_column='final_score',\n",
    "                draw_numbers=False,\n",
    "                errorbar_capsize=0.7)\n",
    "print('; '.join([s + ': ' + str(((hs12['source'] == s) & hs12['final_score'].notnull()).sum()) for s in sources]))\n",
    "ax.set_xticklabels(['\\nLit-BM-13',\n",
    "                    'LT\\n           Lit-BM', 'HT',\n",
    "                    'LT\\n           Lit-BS', 'HT',\n",
    "                    '\\nLit-NB'], rotation=0)\n",
    "ax.xaxis.set_tick_params(length=0.)\n",
    "ax.spines['right'].set_visible(False)\n",
    "ax.spines['top'].set_visible(False)\n",
    "ax.spines['bottom'].set_visible(False)\n",
    "ax.set_facecolor('1.')\n",
    "plt.tight_layout()\n",
    "for fmt in FORMATS:\n",
    "    plt.savefig('../figures/lit17_y2h' + fmt)"
   ]
  },
  {
   "cell_type": "code",
   "execution_count": 6,
   "metadata": {},
   "outputs": [
    {
     "name": "stdout",
     "output_type": "stream",
     "text": [
      "Lit-BM-13: 191; Lit-BM-LT-17: 233; Lit-BM-HT-17: 235; Lit-BS-LT-17: 233; Lit-BS-HT-17: 238; Lit-NB-17: 227\n"
     ]
    },
    {
     "data": {
      "image/png": "[encoded data removed]",
      "text/plain": [
       "<Figure size 180x115.2 with 1 Axes>"
      ]
     },
     "metadata": {
      "image/png": {
       "height": 116,
       "width": 179
      },
      "needs_background": "light"
     },
     "output_type": "display_data"
    }
   ],
   "source": [
    "fig, ax = plt.subplots(1, 1)\n",
    "fig.set_size_inches(2.5, 1.6)\n",
    "sources = ['Lit-BM-13',\n",
    "           'Lit-BM-LT-17',\n",
    "           'Lit-BM-HT-17',\n",
    "           'Lit-BS-LT-17',\n",
    "           'Lit-BS-HT-17',\n",
    "           'Lit-NB-17',]\n",
    "validation_plot(data=val,\n",
    "                selections=[val['source'] == s for s in sources],\n",
    "                colors=[LIT_COLOR] * len(sources),\n",
    "                y_max=0.12,\n",
    "                draw_numbers=False,\n",
    "                errorbar_capsize=0.7)\n",
    "print('; '.join([s + ': ' + str(((val['source'] == s) & val['result'].notnull()).sum()) for s in sources]))\n",
    "ax.set_xticklabels(['\\nLit-BM-13',\n",
    "                    'LT\\n           Lit-BM', 'HT',\n",
    "                    'LT\\n           Lit-BS', 'HT',\n",
    "                    '\\nLit-NB'], rotation=0)\n",
    "ax.xaxis.set_tick_params(length=0.)\n",
    "ax.spines['right'].set_visible(False)\n",
    "ax.spines['top'].set_visible(False)\n",
    "ax.spines['bottom'].set_visible(False)\n",
    "ax.set_facecolor('1.')\n",
    "plt.title('')\n",
    "plt.tight_layout()\n",
    "for fmt in FORMATS:\n",
    "    plt.savefig('../figures/lit17_mappit' + fmt)"
   ]
  },
  {
   "cell_type": "code",
   "execution_count": 7,
   "metadata": {},
   "outputs": [],
   "source": [
    "n_per_cat = {'Lit-NB': 140592,\n",
    "             'Lit-BS-HT': 21409,\n",
    "             'Lit-BM': 7507,\n",
    "             'Lit-BM-HT': 3714,\n",
    "             'Lit-BS': 3318}\n",
    "# merge HT and LT by weighting them\n",
    "val['weight'] = 1.\n",
    "val.loc[val['source'] == 'Lit-BS-LT-17',\n",
    "        'weight'] = (n_per_cat['Lit-BS'] / val.loc[val['source'] == 'Lit-BS-LT-17',\n",
    "                                                   'result'].notnull().sum())\n",
    "val.loc[val['source'] == 'Lit-BS-HT-17',\n",
    "        'weight'] = (n_per_cat['Lit-BS-HT'] / val.loc[val['source'] == 'Lit-BS-HT-17',\n",
    "                                                   'result'].notnull().sum())\n",
    "val.loc[val['source'] == 'Lit-BM-LT-17',\n",
    "        'weight'] = (n_per_cat['Lit-BM'] / val.loc[val['source'] == 'Lit-BM-LT-17',\n",
    "                                                   'result'].notnull().sum())\n",
    "val.loc[val['source'] == 'Lit-BM-HT-17',\n",
    "        'weight'] = (n_per_cat['Lit-BM-HT'] / val.loc[val['source'] == 'Lit-BM-HT-17',\n",
    "                                                   'result'].notnull().sum())"
   ]
  },
  {
   "cell_type": "code",
   "execution_count": 8,
   "metadata": {},
   "outputs": [],
   "source": [
    "val['merged_source'] = val['source'].copy()\n",
    "val.loc[val['source'] == 'Lit-BS-LT-17', 'merged_source'] = 'Lit-BS-17'\n",
    "val.loc[val['source'] == 'Lit-BM-LT-17', 'merged_source'] = 'Lit-BM-17'\n",
    "val.loc[val['source'] == 'Lit-BS-HT-17', 'merged_source'] = 'Lit-BS-17'\n",
    "val.loc[val['source'] == 'Lit-BM-HT-17', 'merged_source'] = 'Lit-BM-17'"
   ]
  },
  {
   "cell_type": "code",
   "execution_count": 9,
   "metadata": {},
   "outputs": [],
   "source": [
    "hs12['weight'] = 1.\n",
    "hs12.loc[hs12['source'] == 'Lit-BS-LT-17',\n",
    "        'weight'] = (n_per_cat['Lit-BS'] / hs12.loc[hs12['source'] == 'Lit-BS-LT-17',\n",
    "                                                   'final_score'].notnull().sum())\n",
    "hs12.loc[hs12['source'] == 'Lit-BS-HT-17',\n",
    "        'weight'] = (n_per_cat['Lit-BS-HT'] / hs12.loc[hs12['source'] == 'Lit-BS-HT-17',\n",
    "                                                   'final_score'].notnull().sum())\n",
    "hs12.loc[hs12['source'] == 'Lit-BM-LT-17',\n",
    "        'weight'] = (n_per_cat['Lit-BM'] / hs12.loc[hs12['source'] == 'Lit-BM-LT-17',\n",
    "                                                   'final_score'].notnull().sum())\n",
    "hs12.loc[hs12['source'] == 'Lit-BM-HT-17',\n",
    "        'weight'] = (n_per_cat['Lit-BM-HT'] / hs12.loc[hs12['source'] == 'Lit-BM-HT-17',\n",
    "                                                   'final_score'].notnull().sum())\n",
    "hs12['merged_source'] = hs12['source'].copy()\n",
    "hs12.loc[hs12['source'] == 'Lit-BS-LT-17', 'merged_source'] = 'Lit-BS-17'\n",
    "hs12.loc[hs12['source'] == 'Lit-BM-LT-17', 'merged_source'] = 'Lit-BM-17'\n",
    "hs12.loc[hs12['source'] == 'Lit-BS-HT-17', 'merged_source'] = 'Lit-BS-17'\n",
    "hs12.loc[hs12['source'] == 'Lit-BM-HT-17', 'merged_source'] = 'Lit-BM-17'"
   ]
  },
  {
   "cell_type": "code",
   "execution_count": 10,
   "metadata": {},
   "outputs": [],
   "source": [
    "def validation_plot_weighted(data, selections, ax=None,\n",
    "                            result='result',\n",
    "                            colors=None, y_max=1.0):\n",
    "    \"\"\"Compare the validation rate of different cateogies.\n",
    "\n",
    "    Missing values are not used in the denominator.\n",
    "\n",
    "    Args:\n",
    "        data (DataFrame)\n",
    "        rowList (OrderedDict(Str: Series)): selection name -> selection of rows\n",
    "        ax (matplotlib.axes.Axes): Axes to draw plot onto\n",
    "        result (str): column containing 0/1/nan for result of test\n",
    "        colors (dict(str: str)): selection name -> color\n",
    "        y_max (float)\n",
    "\n",
    "    TODO:\n",
    "        - checks on input such as 0/1/nan for result\n",
    "        - better name for rowList\n",
    "\n",
    "    \"\"\"\n",
    "    if ax is None:\n",
    "        ax = plt.gca()\n",
    "    if colors is None:\n",
    "        colors = {k: 'C' + str(i) for i, k in enumerate(selections.keys())}\n",
    "    usedRows = reduce(lambda a, b: a | b, selections.values())\n",
    "    val_data = data.loc[usedRows, :].copy()\n",
    "    ax.set_yticks(np.arange(0.0, 1.0, 0.1), minor=False)\n",
    "    ax.set_yticks(np.arange(0.05, 1.0, 0.1), minor=True)\n",
    "    ax.set_facecolor('0.96')\n",
    "    ax.set_axisbelow(True)\n",
    "    ax.grid(color='white', axis='y', which='both', zorder=5)\n",
    "    ps = np.array([(val_data.loc[rows, :][result] == 1).sum()\n",
    "                   for rows in selections.values()])\n",
    "    ns = np.array([(val_data.loc[rows, :][result] == 0).sum()\n",
    "                   for rows in selections.values()])\n",
    "    fs = np.array([(val_data.loc[rows, result] * val_data.loc[rows, 'weight']).sum() /\n",
    "                   val_data.loc[rows & val_data[result].notnull(), 'weight'].sum()\n",
    "                   for rows in selections.values()])\n",
    "    errs = np.sqrt((fs * (1. - fs)) / (ps + ns))\n",
    "    for i, name in enumerate(selections.keys()):\n",
    "        ax.bar(i, fs[i], color=colors[name], label=name)\n",
    "    ax.errorbar(range(fs.shape[0]), fs, yerr=errs,\n",
    "                color='black', fmt='none', capsize=5.)\n",
    "    ax.set_xticks(range(len(selections)))\n",
    "    ax.set_xticklabels(selections.keys(), rotation=90)\n",
    "    ax.set_ylim((0., y_max))\n",
    "    ax.set_ylabel('Fraction positive')"
   ]
  },
  {
   "cell_type": "code",
   "execution_count": 11,
   "metadata": {
    "scrolled": false
   },
   "outputs": [
    {
     "name": "stdout",
     "output_type": "stream",
     "text": [
      "Lit-BM-13: 191; Lit-BM-17: 468; Lit-BS-17: 471; Lit-NB: 227\n"
     ]
    },
    {
     "data": {
      "image/png": "[encoded data removed]",
      "text/plain": [
       "<Figure size 144x115.2 with 1 Axes>"
      ]
     },
     "metadata": {
      "image/png": {
       "height": 115,
       "width": 147
      },
      "needs_background": "light"
     },
     "output_type": "display_data"
    }
   ],
   "source": [
    "fig, ax = plt.subplots(1, 1)\n",
    "fig.set_size_inches(2., 1.6)\n",
    "selection = {'Lit-BM-13': (val['merged_source'] == 'Lit-BM-13'),\n",
    "             'Lit-BM-17': (val['merged_source'] == 'Lit-BM-17'),\n",
    "             'Lit-BS-17': (val['merged_source'] == 'Lit-BS-17'),\n",
    "             'Lit-NB': (val['merged_source'] == 'Lit-NB-17')}\n",
    "cols = {k: LIT_COLOR for k in selection.keys()}\n",
    "validation_plot_weighted(val,\n",
    "                         selection,\n",
    "                         colors=cols,\n",
    "                         y_max=0.12)\n",
    "print('; '.join([ds + ': ' + str((s & val['result'].notnull()).sum()) for ds, s in selection.items()]))\n",
    "ax.set_xticklabels(['Lit-BM-13', 'Lit-BM-17', 'Lit-BS-17', 'Lit-NB-17'],\n",
    "                   rotation=-30,\n",
    "                   ha='left')\n",
    "ax.xaxis.set_tick_params(length=0.)\n",
    "ax.spines['right'].set_visible(False)\n",
    "ax.spines['top'].set_visible(False)\n",
    "ax.spines['bottom'].set_visible(False)\n",
    "ax.set_facecolor('1.')\n",
    "plt.title('')\n",
    "plt.tight_layout()\n",
    "for fmt in FORMATS:\n",
    "    plt.savefig('../figures/lit17_mappit_merged' + fmt)"
   ]
  },
  {
   "cell_type": "code",
   "execution_count": 12,
   "metadata": {},
   "outputs": [
    {
     "name": "stdout",
     "output_type": "stream",
     "text": [
      "Lit-BM-13: 225; Lit-BM-17: 452; Lit-BS-17: 442; Lit-NB: 233\n"
     ]
    },
    {
     "data": {
      "image/png": "[encoded data removed]",
      "text/plain": [
       "<Figure size 144x115.2 with 1 Axes>"
      ]
     },
     "metadata": {
      "image/png": {
       "height": 115,
       "width": 147
      },
      "needs_background": "light"
     },
     "output_type": "display_data"
    }
   ],
   "source": [
    "fig, ax = plt.subplots(1, 1)\n",
    "fig.set_size_inches(2., 1.6)\n",
    "selection = {'Lit-BM-13': (hs12['merged_source'] == 'Lit-BM-13'),\n",
    "             'Lit-BM-17': (hs12['merged_source'] == 'Lit-BM-17'),\n",
    "             'Lit-BS-17': (hs12['merged_source'] == 'Lit-BS-17'),\n",
    "             'Lit-NB': (hs12['merged_source'] == 'Lit-NB-17')}\n",
    "cols = {k: LIT_COLOR for k in selection.keys()}\n",
    "validation_plot_weighted(hs12, selection, colors=cols, y_max=0.12, result='final_score')\n",
    "print('; '.join([ds + ': ' + str((s & hs12['final_score'].notnull()).sum()) for ds, s in selection.items()]))\n",
    "ax.set_xticklabels(['Lit-BM-13', 'Lit-BM-17', 'Lit-BS-17', 'Lit-NB-17'],\n",
    "                   rotation=-30,\n",
    "                   ha='left')\n",
    "ax.xaxis.set_tick_params(length=0.)\n",
    "ax.spines['right'].set_visible(False)\n",
    "ax.spines['top'].set_visible(False)\n",
    "ax.spines['bottom'].set_visible(False)\n",
    "ax.set_facecolor('1.')\n",
    "plt.title('')\n",
    "plt.tight_layout()\n",
    "for fmt in FORMATS:\n",
    "    plt.savefig('../figures/lit17_y2h_merged' + fmt)"
   ]
  }
 ],
 "metadata": {
  "kernelspec": {
   "display_name": "Python 3",
   "language": "python",
   "name": "python3"
  },
  "language_info": {
   "codemirror_mode": {
    "name": "ipython",
    "version": 3
   },
   "file_extension": ".py",
   "mimetype": "text/x-python",
   "name": "python",
   "nbconvert_exporter": "python",
   "pygments_lexer": "ipython3",
   "version": "3.7.6"
  }
 },
 "nbformat": 4,
 "nbformat_minor": 2
}
