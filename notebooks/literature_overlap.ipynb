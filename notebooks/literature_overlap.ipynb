{
 "cells": [
  {
   "cell_type": "markdown",
   "metadata": {},
   "source": [
    "# Investigating the saturation behavior of literature curated PPIs over time\n",
    "\n",
    "The more well studied part of the protein by protein space might show a saturation of detecting PPIs, since most of them will be discovered. Here I look at number of PPIs over time whilst varying the number of publications per gene. I also look at the overlap between literature curated PPIs and HI-III, to see if interactions between the more well-studied proteins overlap between the two datasets more often."
   ]
  },
  {
   "cell_type": "code",
   "execution_count": 1,
   "metadata": {},
   "outputs": [],
   "source": [
    "import numpy as np\n",
    "from scipy import stats\n",
    "import matplotlib as mpl\n",
    "from matplotlib import pyplot as plt\n",
    "from matplotlib.patches import Polygon\n",
    "%matplotlib inline\n",
    "from matplotlib_venn import venn2\n",
    "import pandas as pd\n",
    "\n",
    "from custom_settings import *\n",
    "from utils import *"
   ]
  },
  {
   "cell_type": "code",
   "execution_count": 2,
   "metadata": {},
   "outputs": [],
   "source": [
    "mpl.rcParams['font.family'] = 'Arial'\n",
    "mpl.rcParams['font.size'] = 7.0\n",
    "mpl.rcParams['savefig.dpi'] = 500"
   ]
  },
  {
   "cell_type": "code",
   "execution_count": 3,
   "metadata": {},
   "outputs": [],
   "source": [
    "lit = load_nw_lit_bm_17()\n",
    "hiu = load_nw_hi_union()\n",
    "hi3 = load_nw_hi_iii()\n",
    "n_pub = load_number_publications_per_gene()\n",
    "for nw in [lit, hiu, hi3]:\n",
    "    nw['pair'] = nw['ensembl_gene_id_a'] + '_' + nw['ensembl_gene_id_b']\n",
    "    nw['n_pubs_a'] = nw['ensembl_gene_id_a'].map(n_pub).fillna(0)\n",
    "    nw['n_pubs_b'] = nw['ensembl_gene_id_b'].map(n_pub).fillna(0)\n",
    "    nw['n_pubs_min'] = nw[['n_pubs_a', 'n_pubs_b']].min(axis=1)"
   ]
  },
  {
   "cell_type": "code",
   "execution_count": 4,
   "metadata": {},
   "outputs": [],
   "source": [
    "jcs = []\n",
    "n_hi = []\n",
    "n_pubs = list(range(0, 701))\n",
    "errs = []\n",
    "fs = []\n",
    "rands = []\n",
    "for n in n_pubs:\n",
    "    a = set(hi3.loc[(hi3['n_pubs_min'] >= n), 'pair'].values)\n",
    "    b = set(lit.loc[(lit['n_pubs_min'] >= n), 'pair'].values)\n",
    "    n_hi.append((hi3['n_pubs_min'] >= n).sum())\n",
    "    jc = len(a.intersection(b)) / len(a.union(b))\n",
    "    jcs.append(jc)\n",
    "    f = len(a.intersection(b)) / len(a)\n",
    "    fs.append(f)\n",
    "    # Using the standard error of proportion ignores the variability from\n",
    "    # the number of literature pairs. Should be OK, since the number of HuRI\n",
    "    # pairs at higher cutoffs is much smaller\n",
    "    errs.append(np.sqrt((f * (1. - f)) / len(a)))\n",
    "    rands.append(len(b) / ((n_pub > n).sum() * (n_pub > n).sum() / 2 + (n_pub > n).sum() / 2))"
   ]
  },
  {
   "cell_type": "code",
   "execution_count": 5,
   "metadata": {},
   "outputs": [
    {
     "name": "stdout",
     "output_type": "stream",
     "text": [
      "[52569, 19153, 4329, 989, 170]\n"
     ]
    },
    {
     "data": {
      "image/png": "[encoded data removed]",
      "text/plain": [
       "<Figure size 100.8x136.8 with 1 Axes>"
      ]
     },
     "metadata": {
      "image/png": {
       "height": 100,
       "width": 132
      },
      "needs_background": "light"
     },
     "output_type": "display_data"
    }
   ],
   "source": [
    "# Try turning this into bar charts\n",
    "# Need to pick a cut point: either >= 200 pubs or top 1k most studied genes\n",
    "def dense_zone_triangle(ax, f_dense, length=0.2, pos=(0, 0)):\n",
    "    \"\"\"\n",
    "    \n",
    "    Args:\n",
    "        pos (tuple(float, float)): position of top left corner\n",
    "    \n",
    "    \"\"\"\n",
    "    triangle = Polygon([pos,\n",
    "                        (pos[0] + length, pos[1]), \n",
    "                        (pos[0] + length, pos[1] - length)],\n",
    "                       edgecolor='black',\n",
    "                       facecolor='white',\n",
    "                       linewidth=0.2,\n",
    "                       clip_on=False)\n",
    "    inner = Polygon([pos, \n",
    "                     (pos[0] + length * f_dense, pos[1]), \n",
    "                     (pos[0] + length * f_dense, pos[1] - length * f_dense)],\n",
    "                    edgecolor='black',\n",
    "                    linewidth=0.2,\n",
    "                    facecolor='grey',\n",
    "                    clip_on=False)\n",
    "    ax.add_patch(triangle)\n",
    "    ax.add_patch(inner)\n",
    "    return triangle\n",
    "\n",
    "fig, ax = plt.subplots(1, 1)\n",
    "fig.set_size_inches(1.4, 1.9)\n",
    "split_points = [0, 20, 50, 100, 200]\n",
    "f = [fs[n_pubs.index(split_point)] for split_point in split_points]\n",
    "err = [errs[n_pubs.index(split_point)] for split_point in split_points]\n",
    "\n",
    "n = [int(np.round((f_i * (1 - f_i)) / e_i**2)) for f_i, e_i in zip(f, err)]\n",
    "print(n)\n",
    "\n",
    "ax.set_aspect('equal', 'box')\n",
    "ax.bar(np.linspace(0., 1, len(split_points)), f,\n",
    "        color=HURI_COLOR,\n",
    "       width=1. / len(split_points))\n",
    "ax.errorbar(np.linspace(0., 1, len(split_points)),\n",
    "             f,\n",
    "             yerr=err,\n",
    "             fmt='none',\n",
    "             color='black')\n",
    "ax.set_ylabel('Fraction of HI-III\\npairs in Lit-BM')\n",
    "ax.set_ylim((0., 1.))\n",
    "ax.set_yticks([0., 0.5, 1.])\n",
    "ax.set_yticks([0.25, 0.75], minor=True)\n",
    "ax.spines['right'].set_visible(False)\n",
    "ax.spines['top'].set_visible(False)\n",
    "ax.spines['bottom'].set_visible(False)\n",
    "ax.set_xticks([])\n",
    "for i, split_point in enumerate(split_points):\n",
    "    f_dense = (n_pub >= split_point).sum() / n_pub.shape[0]\n",
    "    x = i * (1.3 / len(split_points)) - 0.1\n",
    "    y = -0.05\n",
    "    triangle = dense_zone_triangle(ax,\n",
    "                                   f_dense,\n",
    "                                   length=0.8 / len(split_points),\n",
    "                                   pos=(x, y))\n",
    "    draw_percent = False\n",
    "    draw_n_pub = True\n",
    "    if draw_percent:\n",
    "        f_space = f_dense ** 2\n",
    "        if f_space >= 0.01:\n",
    "            txt = ax.text(x, -0.35, '{:.0%}'.format(f_space),\n",
    "                          fontsize=5)\n",
    "        else:\n",
    "            txt = ax.text(x, -0.35, '{:.1%}'.format(f_space),\n",
    "                          fontsize=5)\n",
    "    elif draw_n_pub:\n",
    "        ax.text(x + 0.1, -0.385, str(split_point), ha='center')\n",
    "txt = ax.text(-0.1, -0.385, 'Publications ≥', ha='right')\n",
    "for fmt in FORMATS:\n",
    "    plt.savefig('../figures/lit_overlap_bar' + fmt,\n",
    "                bbox_extra_artists=[triangle, txt],\n",
    "                bbox_inches='tight')"
   ]
  }
 ],
 "metadata": {
  "kernelspec": {
   "display_name": "Python 3",
   "language": "python",
   "name": "python3"
  },
  "language_info": {
   "codemirror_mode": {
    "name": "ipython",
    "version": 3
   },
   "file_extension": ".py",
   "mimetype": "text/x-python",
   "name": "python",
   "nbconvert_exporter": "python",
   "pygments_lexer": "ipython3",
   "version": "3.7.6"
  }
 },
 "nbformat": 4,
 "nbformat_minor": 2
}
