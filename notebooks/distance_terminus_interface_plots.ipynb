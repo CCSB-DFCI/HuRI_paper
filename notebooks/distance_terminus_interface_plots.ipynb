{
 "cells": [
  {
   "cell_type": "code",
   "execution_count": 1,
   "metadata": {},
   "outputs": [],
   "source": [
    "# plot distance terminus to interface results from Carles\n",
    "\n",
    "import custom_settings\n",
    "import math\n",
    "import matplotlib as mpl\n",
    "import matplotlib.pyplot as plt\n",
    "\n",
    "hi_iii_color = (155/255, 97/255, 153/255)\n",
    "outpath = '../figures/'"
   ]
  },
  {
   "cell_type": "code",
   "execution_count": 2,
   "metadata": {},
   "outputs": [],
   "source": [
    "\n",
    "mpl.rcParams['pdf.fonttype'] = 42  # TrueType fonts for ease of editing in illustrator\n",
    "mpl.rcParams['font.family'] = 'Arial'\n",
    "mpl.rcParams['font.size'] = 7.0\n",
    "mpl.rcParams['savefig.dpi'] = 500\n"
   ]
  },
  {
   "cell_type": "code",
   "execution_count": 3,
   "metadata": {},
   "outputs": [
    {
     "data": {
      "image/png": "[encoded data removed]",
      "text/plain": [
       "<Figure size 158.4x108 with 1 Axes>"
      ]
     },
     "metadata": {
      "needs_background": "light"
     },
     "output_type": "display_data"
    }
   ],
   "source": [
    "fig, ax = plt.subplots(1, 1)\n",
    "fig.set_size_inches(2.2,1.5)\n",
    "ax.spines['right'].set_visible(False)\n",
    "ax.spines['top'].set_visible(False)\n",
    "ax.spines['bottom'].set_visible(False)\n",
    "ax.xaxis.set_tick_params(length=0.)\n",
    "detected = [1/110,\n",
    "            9/196,\n",
    "            1/74,\n",
    "            4/120,\n",
    "            3/37,\n",
    "            1/84]\n",
    "sample_det = [110, 196, 74, 120, 37, 84]\n",
    "err_det = [math.sqrt(detected[i]*(1-detected[i])/sample_det[i]) for i in range(6)]\n",
    "missed = [103/1158,\n",
    "          92/1779,\n",
    "          103/1194,\n",
    "          97/1855,\n",
    "          101/1231,\n",
    "          100/1891]\n",
    "sample_mis = [1158, 1779, 1194, 1855, 1231, 1891]\n",
    "err_mis = [math.sqrt(missed[i]*(1-missed[i])/sample_mis[i]) for i in range(6)]\n",
    "xpos = [0,1,2.5,3.5,5,6]\n",
    "ax.bar(xpos,detected,yerr=err_det,\n",
    "        width=0.39,color=hi_iii_color,label='in HuRI',error_kw={'elinewidth':1},capsize=3.)\n",
    "ax.bar([i+0.4 for i in xpos],missed,yerr=err_mis,\n",
    "        width=0.39,color='lightgrey',label='not in HuRI',error_kw={'elinewidth':1},capsize=3.)\n",
    "plt.xticks([i+0.2 for i in xpos],['N-ter','C-ter','N-ter','C-ter','N-ter','C-ter'])\n",
    "plt.ylabel('Fraction PPIs with terminus\\n<10A to interface')\n",
    "plt.xlabel(' Y2H v1          Y2H v2          Y2H v3')\n",
    "lgd = ax.legend(bbox_to_anchor=(1.05, 1,0.55,0),loc=2,ncol=1,mode=\"expand\",borderaxespad=0.)\n",
    "#plt.tight_layout()\n",
    "outfile = outpath + 'distance_terminus_interface_10A'\n",
    "plt.savefig(outfile + '.pdf',format='pdf',dpi=300,bbox_extra_artists=(lgd,), bbox_inches='tight')\n",
    "plt.savefig(outfile + '.png',format='png',dpi=300,bbox_extra_artists=(lgd,), bbox_inches='tight')\n",
    "plt.show()\n"
   ]
  },
  {
   "cell_type": "code",
   "execution_count": 4,
   "metadata": {},
   "outputs": [
    {
     "data": {
      "image/png": "[encoded data removed]",
      "text/plain": [
       "<Figure size 158.4x108 with 1 Axes>"
      ]
     },
     "metadata": {
      "needs_background": "light"
     },
     "output_type": "display_data"
    }
   ],
   "source": [
    "fig, ax = plt.subplots(1, 1)\n",
    "fig.set_size_inches(2.2,1.5)\n",
    "ax.spines['right'].set_visible(False)\n",
    "ax.spines['top'].set_visible(False)\n",
    "ax.spines['bottom'].set_visible(False)\n",
    "ax.xaxis.set_tick_params(length=0.)\n",
    "detected = [28 / 110,\n",
    "            47 / 196,\n",
    "            16 / 74,\n",
    "            29 / 120,\n",
    "            14 / 37,\n",
    "            16 / 84]\n",
    "sample_det = [110, 196, 74, 120, 37, 84]\n",
    "err_det = [math.sqrt(detected[i]*(1-detected[i])/sample_det[i]) for i in range(6)]\n",
    "missed = [414 / 1158,\n",
    "          444 / 1779,\n",
    "          426 / 1194,\n",
    "          462 / 1855,\n",
    "          428 / 1231,\n",
    "          475 / 1891]\n",
    "sample_mis = [1158, 1779, 1194, 1855, 1231, 1891]\n",
    "err_mis = [math.sqrt(missed[i]*(1-missed[i])/sample_mis[i]) for i in range(6)]\n",
    "xpos = [0,1,2.5,3.5,5,6]\n",
    "ax.bar(xpos,detected,yerr=err_det,\n",
    "        width=0.39,color=hi_iii_color,label='in HuRI',error_kw={'elinewidth':1},capsize=3.)\n",
    "ax.bar([i+0.4 for i in xpos],missed,yerr=err_mis,\n",
    "        width=0.39,color='lightgrey',label='not in HuRI',error_kw={'elinewidth':1},capsize=3.)\n",
    "plt.xticks([i+0.2 for i in xpos],['N-ter','C-ter','N-ter','C-ter','N-ter','C-ter'])\n",
    "plt.ylabel('Fraction PPIs with terminus\\n<20A to interface')\n",
    "plt.xlabel('Y2H v1         Y2H v2        Y2H v3')\n",
    "lgd = ax.legend(bbox_to_anchor=(1.05, 1,0.55,0),loc=2,ncol=1,mode=\"expand\",borderaxespad=0.)\n",
    "#plt.tight_layout()\n",
    "outfile = outpath + 'distance_terminus_interface_20A'\n",
    "plt.savefig(outfile + '.pdf',format='pdf',dpi=300,bbox_extra_artists=(lgd,), bbox_inches='tight')\n",
    "plt.savefig(outfile + '.png',format='png',dpi=300,bbox_extra_artists=(lgd,), bbox_inches='tight')\n",
    "plt.show()\n"
   ]
  },
  {
   "cell_type": "code",
   "execution_count": null,
   "metadata": {},
   "outputs": [],
   "source": []
  }
 ],
 "metadata": {
  "kernelspec": {
   "display_name": "Python 3",
   "language": "python",
   "name": "python3"
  },
  "language_info": {
   "codemirror_mode": {
    "name": "ipython",
    "version": 3
   },
   "file_extension": ".py",
   "mimetype": "text/x-python",
   "name": "python",
   "nbconvert_exporter": "python",
   "pygments_lexer": "ipython3",
   "version": "3.7.3"
  }
 },
 "nbformat": 4,
 "nbformat_minor": 2
}
