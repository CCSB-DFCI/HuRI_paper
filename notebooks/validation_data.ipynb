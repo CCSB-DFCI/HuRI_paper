{
 "cells": [
  {
   "cell_type": "markdown",
   "metadata": {},
   "source": [
    "# Validation data plots\n",
    "\n",
    "Plots using data from the MAPPIT and GPCA tests."
   ]
  },
  {
   "cell_type": "code",
   "execution_count": 10,
   "metadata": {},
   "outputs": [],
   "source": [
    "from collections import OrderedDict\n",
    "\n",
    "import numpy as np\n",
    "from scipy import stats\n",
    "import matplotlib.pyplot as plt\n",
    "import pandas as pd\n",
    "\n",
    "import matplotlib.patches as mpatches\n",
    "from matplotlib.collections import PatchCollection\n",
    "from matplotlib.legend_handler import HandlerPatch\n",
    "from matplotlib_venn import venn2, venn3\n",
    "import matplotlib as mpl\n",
    "\n",
    "import ccsblib\n",
    "from ccsblib import huri\n",
    "from ccsblib import ccsbplotlib as cplt\n",
    "\n",
    "from custom_settings import *\n",
    "from utils import load_space_iii\n",
    "\n",
    "\n",
    "%matplotlib inline"
   ]
  },
  {
   "cell_type": "code",
   "execution_count": 11,
   "metadata": {},
   "outputs": [],
   "source": [
    "mpl.rcParams['font.family'] = 'Arial'\n",
    "mpl.rcParams['font.size'] = 7.0\n",
    "mpl.rcParams['savefig.dpi'] = 500"
   ]
  },
  {
   "cell_type": "code",
   "execution_count": 12,
   "metadata": {},
   "outputs": [],
   "source": [
    "val = huri.load_validation_data()\n",
    "spaceIII = load_space_iii(id_type='orf_id')\n",
    "val = val.loc[val['orf_id_a'].isin(spaceIII) & val['orf_id_b'].isin(spaceIII), :]\n",
    "a = val[['orf_id_a', 'orf_id_b']].min(axis=1)\n",
    "b = val[['orf_id_a', 'orf_id_b']].max(axis=1)\n",
    "val['orf_id_a'] = a\n",
    "val['orf_id_b'] = b"
   ]
  },
  {
   "cell_type": "code",
   "execution_count": 13,
   "metadata": {},
   "outputs": [
    {
     "name": "stderr",
     "output_type": "stream",
     "text": [
      "/usr/local/lib/python3.7/site-packages/ipykernel_launcher.py:8: FutureWarning: Sorting because non-concatenation axis is not aligned. A future version\n",
      "of pandas will change to not sort by default.\n",
      "\n",
      "To accept the future behavior, pass 'sort=False'.\n",
      "\n",
      "To retain the current behavior and silence the warning, pass 'sort=True'.\n",
      "\n",
      "  \n"
     ]
    }
   ],
   "source": [
    "qry = \"\"\"SELECT *\n",
    "           FROM hi_ref_validation.validation_final_call_all;\"\"\"\n",
    "val_merged = pd.read_sql(qry, ccsblib.paros_connection())\n",
    "a = val_merged.drop(columns='gpca_score').rename(columns={'mappit_score': 'result'})\n",
    "a['assay'] = 'MAPPIT'\n",
    "b = val_merged.drop(columns='mappit_score').rename(columns={'gpca_score': 'result'})\n",
    "b['assay'] = 'GPCA'\n",
    "val_m = pd.concat([a, b])\n",
    "val_m = val_m.rename(columns={'orf_id1': 'orf_id_a', 'orf_id2': 'orf_id_b'})\n",
    "val_m = val_m.reset_index(drop=True)\n",
    "val_m = val_m.loc[val_m['orf_id_a'].isin(spaceIII) & val_m['orf_id_b'].isin(spaceIII), :]"
   ]
  },
  {
   "cell_type": "code",
   "execution_count": 14,
   "metadata": {},
   "outputs": [],
   "source": [
    "hi = huri.load_nw_hi_iii(id_type='orf_id')\n",
    "hi['n_screens_v1'] = hi[['in_screen_1', 'in_screen_2', 'in_screen_3']].sum(axis=1)\n",
    "hi['n_screens_v2'] = hi[['in_screen_4', 'in_screen_5', 'in_screen_6']].sum(axis=1)\n",
    "hi['n_screens_v3'] = hi[['in_screen_7', 'in_screen_8', 'in_screen_9']].sum(axis=1)\n",
    "val = pd.merge(val, hi.loc[:, \n",
    "                           ['orf_id_a', 'orf_id_b',\n",
    "                            'n_screens_v1', 'n_screens_v2', 'n_screens_v3']],\n",
    "               how='left', on=['orf_id_a', 'orf_id_b'])\n",
    "val['pair'] = val['orf_id_a'].astype(str) + '_' + val['orf_id_b'].astype(str)"
   ]
  },
  {
   "cell_type": "code",
   "execution_count": 15,
   "metadata": {},
   "outputs": [
    {
     "name": "stdout",
     "output_type": "stream",
     "text": [
      "Dropping 16 pairs that were tested as screen pairs but are not in HI-III-19\n",
      "Dropping 38 pairs that were tested as screen pairs but are not in HI-III-19\n",
      "Dropping 33 pairs that were tested as screen pairs but are not in HI-III-19\n"
     ]
    }
   ],
   "source": [
    "v1_pairs = (val['standard_batch'].isin(['Hvs01', 'Hvs02', 'Hvs03']) &\n",
    "            val['source'].isin(['Hs01', 'Hs02', 'Hs03']))\n",
    "v2_pairs = ((val['standard_batch'] == 'Hvs04') &\n",
    "            val['source'].isin(['Hs04', 'Hs05', 'Hs06']))\n",
    "v3_pairs = ((val['standard_batch'] == 'Hvs06') &\n",
    "            val['source'].isin(['Hs07', 'Hs08', 'Hs09']))\n",
    "for pairs, n_screens_column in [(v1_pairs, 'n_screens_v1'),\n",
    "                                (v2_pairs, 'n_screens_v2'),\n",
    "                                (v3_pairs, 'n_screens_v3')]:\n",
    "    n = (pairs & val[n_screens_column].isnull()).sum()\n",
    "    if n > 0:\n",
    "        print('Dropping {} pairs that were tested as screen pairs but are not in HI-III-19'.format(n))       \n",
    "val = val.drop(val.index[(v1_pairs & val['n_screens_v1'].isnull()) |\n",
    "                         (v2_pairs & val['n_screens_v2'].isnull()) |\n",
    "                         (v3_pairs & val['n_screens_v3'].isnull())])"
   ]
  },
  {
   "cell_type": "code",
   "execution_count": 31,
   "metadata": {},
   "outputs": [],
   "source": [
    "csi = pd.read_csv('../data/processed/Supplementary Table 10.txt', sep='\\t')"
   ]
  },
  {
   "cell_type": "code",
   "execution_count": 32,
   "metadata": {},
   "outputs": [
    {
     "data": {
      "text/html": [
       "<div>\n",
       "<style scoped>\n",
       "    .dataframe tbody tr th:only-of-type {\n",
       "        vertical-align: middle;\n",
       "    }\n",
       "\n",
       "    .dataframe tbody tr th {\n",
       "        vertical-align: top;\n",
       "    }\n",
       "\n",
       "    .dataframe thead th {\n",
       "        text-align: right;\n",
       "    }\n",
       "</style>\n",
       "<table border=\"1\" class=\"dataframe\">\n",
       "  <thead>\n",
       "    <tr style=\"text-align: right;\">\n",
       "      <th></th>\n",
       "      <th>orf_id_a</th>\n",
       "      <th>orf_id_b</th>\n",
       "      <th>Y2H_assay_version</th>\n",
       "      <th>category</th>\n",
       "      <th>result</th>\n",
       "      <th>num_screens</th>\n",
       "    </tr>\n",
       "  </thead>\n",
       "  <tbody>\n",
       "    <tr>\n",
       "      <th>0</th>\n",
       "      <td>9</td>\n",
       "      <td>6112</td>\n",
       "      <td>1</td>\n",
       "      <td>HuRI</td>\n",
       "      <td>0.0</td>\n",
       "      <td>1</td>\n",
       "    </tr>\n",
       "    <tr>\n",
       "      <th>1</th>\n",
       "      <td>9</td>\n",
       "      <td>6869</td>\n",
       "      <td>1</td>\n",
       "      <td>HuRI</td>\n",
       "      <td>NaN</td>\n",
       "      <td>1</td>\n",
       "    </tr>\n",
       "    <tr>\n",
       "      <th>2</th>\n",
       "      <td>9</td>\n",
       "      <td>8359</td>\n",
       "      <td>1</td>\n",
       "      <td>HuRI</td>\n",
       "      <td>0.0</td>\n",
       "      <td>1</td>\n",
       "    </tr>\n",
       "    <tr>\n",
       "      <th>3</th>\n",
       "      <td>9</td>\n",
       "      <td>72137</td>\n",
       "      <td>1</td>\n",
       "      <td>HuRI</td>\n",
       "      <td>0.0</td>\n",
       "      <td>1</td>\n",
       "    </tr>\n",
       "    <tr>\n",
       "      <th>4</th>\n",
       "      <td>17</td>\n",
       "      <td>5081</td>\n",
       "      <td>1</td>\n",
       "      <td>HuRI</td>\n",
       "      <td>0.0</td>\n",
       "      <td>1</td>\n",
       "    </tr>\n",
       "  </tbody>\n",
       "</table>\n",
       "</div>"
      ],
      "text/plain": [
       "   orf_id_a  orf_id_b  Y2H_assay_version category  result  num_screens\n",
       "0         9      6112                  1     HuRI     0.0            1\n",
       "1         9      6869                  1     HuRI     NaN            1\n",
       "2         9      8359                  1     HuRI     0.0            1\n",
       "3         9     72137                  1     HuRI     0.0            1\n",
       "4        17      5081                  1     HuRI     0.0            1"
      ]
     },
     "execution_count": 32,
     "metadata": {},
     "output_type": "execute_result"
    }
   ],
   "source": [
    "csi.head()"
   ]
  },
  {
   "cell_type": "code",
   "execution_count": 33,
   "metadata": {},
   "outputs": [],
   "source": [
    "lit = huri.load_nw_lit_17(id_type='orf_id')\n",
    "csi = pd.merge(csi, lit, \n",
    "               how='left',\n",
    "               left_on=['orf_id_a', 'orf_id_b'], right_on=['orf_id_a', 'orf_id_b'],\n",
    "               suffixes=('', '_lit'))"
   ]
  },
  {
   "cell_type": "code",
   "execution_count": 57,
   "metadata": {},
   "outputs": [],
   "source": [
    "gsm_val = pd.read_csv('../data/processed/Supplementary Table 3.txt', sep='\\t')"
   ]
  },
  {
   "cell_type": "code",
   "execution_count": 58,
   "metadata": {},
   "outputs": [
    {
     "data": {
      "text/html": [
       "<div>\n",
       "<style scoped>\n",
       "    .dataframe tbody tr th:only-of-type {\n",
       "        vertical-align: middle;\n",
       "    }\n",
       "\n",
       "    .dataframe tbody tr th {\n",
       "        vertical-align: top;\n",
       "    }\n",
       "\n",
       "    .dataframe thead th {\n",
       "        text-align: right;\n",
       "    }\n",
       "</style>\n",
       "<table border=\"1\" class=\"dataframe\">\n",
       "  <thead>\n",
       "    <tr style=\"text-align: right;\">\n",
       "      <th></th>\n",
       "      <th>orf_id_a</th>\n",
       "      <th>orf_id_b</th>\n",
       "      <th>result</th>\n",
       "      <th>experiment</th>\n",
       "      <th>source</th>\n",
       "    </tr>\n",
       "  </thead>\n",
       "  <tbody>\n",
       "    <tr>\n",
       "      <th>0</th>\n",
       "      <td>61</td>\n",
       "      <td>53120</td>\n",
       "      <td>0.0</td>\n",
       "      <td>testing_y2h_v3</td>\n",
       "      <td>Lit_BM_13</td>\n",
       "    </tr>\n",
       "    <tr>\n",
       "      <th>1</th>\n",
       "      <td>61</td>\n",
       "      <td>53120</td>\n",
       "      <td>0.0</td>\n",
       "      <td>testing_y2h_v1</td>\n",
       "      <td>Lit_BM_13</td>\n",
       "    </tr>\n",
       "    <tr>\n",
       "      <th>2</th>\n",
       "      <td>61</td>\n",
       "      <td>53120</td>\n",
       "      <td>0.0</td>\n",
       "      <td>testing_y2h_v2</td>\n",
       "      <td>Lit_BM_13</td>\n",
       "    </tr>\n",
       "    <tr>\n",
       "      <th>3</th>\n",
       "      <td>69</td>\n",
       "      <td>3380</td>\n",
       "      <td>0.0</td>\n",
       "      <td>testing_y2h_v3</td>\n",
       "      <td>Lit_BM_13</td>\n",
       "    </tr>\n",
       "    <tr>\n",
       "      <th>4</th>\n",
       "      <td>69</td>\n",
       "      <td>3380</td>\n",
       "      <td>0.0</td>\n",
       "      <td>testing_y2h_v1</td>\n",
       "      <td>Lit_BM_13</td>\n",
       "    </tr>\n",
       "  </tbody>\n",
       "</table>\n",
       "</div>"
      ],
      "text/plain": [
       "   orf_id_a  orf_id_b  result      experiment     source\n",
       "0        61     53120     0.0  testing_y2h_v3  Lit_BM_13\n",
       "1        61     53120     0.0  testing_y2h_v1  Lit_BM_13\n",
       "2        61     53120     0.0  testing_y2h_v2  Lit_BM_13\n",
       "3        69      3380     0.0  testing_y2h_v3  Lit_BM_13\n",
       "4        69      3380     0.0  testing_y2h_v1  Lit_BM_13"
      ]
     },
     "execution_count": 58,
     "metadata": {},
     "output_type": "execute_result"
    }
   ],
   "source": [
    "gsm_val.head()"
   ]
  },
  {
   "cell_type": "code",
   "execution_count": 19,
   "metadata": {},
   "outputs": [
    {
     "data": {
      "text/html": [
       "<div>\n",
       "<style scoped>\n",
       "    .dataframe tbody tr th:only-of-type {\n",
       "        vertical-align: middle;\n",
       "    }\n",
       "\n",
       "    .dataframe tbody tr th {\n",
       "        vertical-align: top;\n",
       "    }\n",
       "\n",
       "    .dataframe thead th {\n",
       "        text-align: right;\n",
       "    }\n",
       "</style>\n",
       "<table border=\"1\" class=\"dataframe\">\n",
       "  <thead>\n",
       "    <tr style=\"text-align: right;\">\n",
       "      <th></th>\n",
       "      <th>assay</th>\n",
       "      <th>gpca_id</th>\n",
       "      <th>mappit_id</th>\n",
       "      <th>orf_id_a</th>\n",
       "      <th>orf_id_b</th>\n",
       "      <th>result</th>\n",
       "      <th>source</th>\n",
       "    </tr>\n",
       "  </thead>\n",
       "  <tbody>\n",
       "    <tr>\n",
       "      <th>0</th>\n",
       "      <td>MAPPIT</td>\n",
       "      <td>12394.0</td>\n",
       "      <td>19224.0</td>\n",
       "      <td>34</td>\n",
       "      <td>11996</td>\n",
       "      <td>1.0</td>\n",
       "      <td>lit_bm_2013_rand250</td>\n",
       "    </tr>\n",
       "    <tr>\n",
       "      <th>1</th>\n",
       "      <td>MAPPIT</td>\n",
       "      <td>12395.0</td>\n",
       "      <td>19225.0</td>\n",
       "      <td>35</td>\n",
       "      <td>14210</td>\n",
       "      <td>0.0</td>\n",
       "      <td>lit_bm_2013_rand250</td>\n",
       "    </tr>\n",
       "    <tr>\n",
       "      <th>2</th>\n",
       "      <td>MAPPIT</td>\n",
       "      <td>942.0</td>\n",
       "      <td>19226.0</td>\n",
       "      <td>48</td>\n",
       "      <td>7587</td>\n",
       "      <td>0.0</td>\n",
       "      <td>lit_bm_2013_rand250</td>\n",
       "    </tr>\n",
       "    <tr>\n",
       "      <th>3</th>\n",
       "      <td>MAPPIT</td>\n",
       "      <td>30449.0</td>\n",
       "      <td>19227.0</td>\n",
       "      <td>48</td>\n",
       "      <td>11100</td>\n",
       "      <td>0.0</td>\n",
       "      <td>lit_bm_2013_rand250</td>\n",
       "    </tr>\n",
       "    <tr>\n",
       "      <th>4</th>\n",
       "      <td>MAPPIT</td>\n",
       "      <td>5.0</td>\n",
       "      <td>1885.0</td>\n",
       "      <td>65</td>\n",
       "      <td>3769</td>\n",
       "      <td>0.0</td>\n",
       "      <td>Hs01</td>\n",
       "    </tr>\n",
       "  </tbody>\n",
       "</table>\n",
       "</div>"
      ],
      "text/plain": [
       "    assay  gpca_id  mappit_id  orf_id_a  orf_id_b  result               source\n",
       "0  MAPPIT  12394.0    19224.0        34     11996     1.0  lit_bm_2013_rand250\n",
       "1  MAPPIT  12395.0    19225.0        35     14210     0.0  lit_bm_2013_rand250\n",
       "2  MAPPIT    942.0    19226.0        48      7587     0.0  lit_bm_2013_rand250\n",
       "3  MAPPIT  30449.0    19227.0        48     11100     0.0  lit_bm_2013_rand250\n",
       "4  MAPPIT      5.0     1885.0        65      3769     0.0                 Hs01"
      ]
     },
     "execution_count": 19,
     "metadata": {},
     "output_type": "execute_result"
    }
   ],
   "source": [
    "val_m.head()"
   ]
  },
  {
   "cell_type": "code",
   "execution_count": 20,
   "metadata": {},
   "outputs": [
    {
     "name": "stdout",
     "output_type": "stream",
     "text": [
      "MAPPIT\n",
      "HuRI: n=2281\tLit-BM: n=383\tRRS: n=475\n",
      "GPCA\n",
      "HuRI: n=1639\tLit-BM: n=382\tRRS: n=465\n"
     ]
    },
    {
     "data": {
      "image/png": "[encoded data removed]",
      "text/plain": [
       "<Figure size 180x144 with 2 Axes>"
      ]
     },
     "metadata": {
      "image/png": {
       "height": 108,
       "width": 179
      },
      "needs_background": "light"
     },
     "output_type": "display_data"
    }
   ],
   "source": [
    "cols = {'HuRI': HURI_COLOR, 'Lit-BM': LIT_COLOR, 'RRS': RRS_COLOR}\n",
    "fig, axes = plt.subplots(1, 2)\n",
    "fig.set_size_inches(2.5, 2)\n",
    "for i, assay in enumerate(['MAPPIT', 'GPCA']):\n",
    "    rows = OrderedDict([('HuRI', (val_m['assay'] == assay) & \n",
    "                                      (val_m['source'].str.startswith('Hs'))),\n",
    "                        ('Lit-BM', (val_m['assay'] == assay) &\n",
    "                                   (val_m['source'].isin(['lit_bm_2013_rand250', 'lit_bm_2013_rand400']))),\n",
    "                        ('RRS', (val_m['assay'] == assay) & \n",
    "                                (val_m['source'] == 'RRS'))])\n",
    "    cplt.validation_plot(data=val_m,\n",
    "                         selections=list(rows.values()),\n",
    "                         labels=list(rows.keys()),\n",
    "                         ax=axes[i],\n",
    "                         colors=list(cols.values()),\n",
    "                         draw_numbers=False)\n",
    "    print(assay)\n",
    "    print('\\t'.join(['{}: n={}'.format(ds, val_m.loc[rs, 'result'].notnull().sum()) for ds, rs in rows.items()]))\n",
    "    axes[i].set_ylim((0., 0.15))\n",
    "    axes[i].xaxis.set_tick_params(rotation=45)\n",
    "    axes[i].xaxis.set_tick_params(length=0.)\n",
    "    axes[i].spines['right'].set_visible(False)\n",
    "    axes[i].spines['top'].set_visible(False)\n",
    "    axes[i].spines['bottom'].set_visible(False)\n",
    "    axes[i].set_facecolor('1.')\n",
    "axes[1].set_yticks([])\n",
    "axes[1].set_yticks([], minor=True)\n",
    "axes[1].set_ylabel('')\n",
    "axes[1].spines['left'].set_visible(False)\n",
    "axes[0].text(1, -0.1, 'MAPPIT', ha='center')\n",
    "axes[1].text(1, -0.1, 'GPCA', ha='center')\n",
    "plt.tight_layout(w_pad=1)\n",
    "for fmt in FORMATS:\n",
    "    plt.savefig('../figures/validation_merged_9screens' + fmt)"
   ]
  },
  {
   "cell_type": "code",
   "execution_count": 21,
   "metadata": {},
   "outputs": [
    {
     "name": "stdout",
     "output_type": "stream",
     "text": [
      "lit_bm_2013_rand250 MAPPIT\n",
      "standard_batch\n",
      "Hvs03    0.069307\n",
      "Hvs01    0.075472\n",
      "Hvs02    0.089172\n",
      "Hvs06    0.093407\n",
      "Hvs04    0.115702\n",
      "dtype: float64\n",
      "lit_bm_2013_rand250 GPCA\n",
      "standard_batch\n",
      "Hvs04    0.079137\n",
      "Hvs02    0.100000\n",
      "Hvs03    0.112676\n",
      "Hvs01    0.200000\n",
      "dtype: float64\n",
      "RRS MAPPIT\n",
      "standard_batch\n",
      "Hvs03    0.008511\n",
      "Hvs02    0.009772\n",
      "Hvs04    0.011321\n",
      "Hvs06    0.012085\n",
      "Hvs01    0.013158\n",
      "dtype: float64\n",
      "RRS GPCA\n",
      "standard_batch\n",
      "Hvs01    0.009554\n",
      "Hvs02    0.012945\n",
      "Hvs03    0.013245\n",
      "Hvs04    0.013289\n",
      "dtype: float64\n"
     ]
    }
   ],
   "source": [
    "# finding the median lit and rrs\n",
    "for source in ['lit_bm_2013_rand250', 'RRS']:\n",
    "    for assay in ['MAPPIT', 'GPCA']:\n",
    "        print(source, assay)\n",
    "        print(val.loc[(val['source'] == source) & \n",
    "                      (val['assay'] == assay) &\n",
    "                      (val['standard_batch'].isin(['Hvs01', 'Hvs02', 'Hvs03', 'Hvs04', 'Hvs06'])),\n",
    "                      :]\n",
    "                 .groupby('standard_batch').apply(lambda x: (x['result'] == 1).sum() / x['result'].notnull().sum())\n",
    "                 .sort_values())"
   ]
  },
  {
   "cell_type": "code",
   "execution_count": 22,
   "metadata": {},
   "outputs": [
    {
     "name": "stderr",
     "output_type": "stream",
     "text": [
      "/Users/lukelambourne/Work/ccsblib/ccsblib/ccsbplotlib/validation.py:146: RuntimeWarning: invalid value encountered in true_divide\n",
      "  fracs = pos / tested\n"
     ]
    },
    {
     "data": {
      "image/png": "[encoded data removed]",
      "text/plain": [
       "<Figure size 288x180 with 2 Axes>"
      ]
     },
     "metadata": {
      "image/png": {
       "height": 179,
       "width": 287
      },
      "needs_background": "light"
     },
     "output_type": "display_data"
    }
   ],
   "source": [
    "# validation data merged by assay version\n",
    "colors = {'HI-III-19': HURI_COLOR,\n",
    "          'Y2H v1': ASSAY_V1_COLOR,\n",
    "          'Y2H v2': ASSAY_V2_COLOR,\n",
    "          'Y2H v3': ASSAY_V3_COLOR,\n",
    "          'Lit-BM': LIT_COLOR,\n",
    "          'RRS': RRS_COLOR}\n",
    "fig, axes = plt.subplots(1, 2)\n",
    "fig.set_size_inches(4., 2.5)\n",
    "rows = OrderedDict([('Y2H v1', (val['assay'] == 'MAPPIT') & \n",
    "                               (val['source'].isin(['Hs01', 'Hs02', 'Hs03']))),\n",
    "                    ('Y2H v2', (val['assay'] == 'MAPPIT') & \n",
    "                               (val['source'].isin(['Hs04', 'Hs05', 'Hs06']))),\n",
    "                    ('Y2H v3', (val['assay'] == 'MAPPIT') &\n",
    "                               (val['source'].isin(['Hs07', 'Hs08', 'Hs09']))),\n",
    "                    ('Lit-BM', (val['assay'] == 'MAPPIT') &\n",
    "                               (val['source'] == 'lit_bm_2013_rand250') &\n",
    "                               (val['standard_batch'] == 'Hvs02')),\n",
    "                    ('RRS', (val['assay'] == 'MAPPIT') & \n",
    "                            (val['source'] == 'RRS') &\n",
    "                            (val['standard_batch'] == 'Hvs03'))])\n",
    "cplt.validation_plot(data=val,\n",
    "                     selections=list(rows.values()),\n",
    "                     labels=list(rows.keys()),\n",
    "                     ax=axes[0],\n",
    "                     colors=[colors[k] for k in rows.keys()],\n",
    "                     draw_numbers=False)\n",
    "rows = OrderedDict([('Y2H v1', (val['assay'] == 'GPCA') & \n",
    "                               (val['source'].isin(['Hs01', 'Hs02', 'Hs03']))),\n",
    "                    ('Y2H v2', (val['assay'] == 'GPCA') & \n",
    "                               (val['source'].isin(['Hs04', 'Hs05', 'Hs06']))),\n",
    "                    ('Y2H v3', (val['assay'] == 'GPCA') &\n",
    "                               (val['source'] == 'experiment_not_done')),\n",
    "                    ('Lit-BM', (val['assay'] == 'GPCA') &\n",
    "                               (val['source'] == 'lit_bm_2013_rand250') &\n",
    "                               (val['standard_batch'] == 'Hvs03')),\n",
    "                    ('RRS', (val['assay'] == 'GPCA') & \n",
    "                            (val['source'] == 'RRS') &\n",
    "                            (val['standard_batch'] == 'Hvs03'))])\n",
    "cplt.validation_plot(data=val,\n",
    "                     selections=list(rows.values()),\n",
    "                     labels=list(rows.keys()),\n",
    "                     ax=axes[1],\n",
    "                     colors=[colors[k] for k in rows.keys()],\n",
    "                     draw_numbers=False)\n",
    "for ax in axes:\n",
    "    ax.set_ylim((0., 0.25))\n",
    "    ax.set_xticklabels(ax.get_xticklabels(), rotation=45, ha='right')\n",
    "    ax.xaxis.set_tick_params(length=0.)\n",
    "    ax.spines['right'].set_visible(False)\n",
    "    ax.spines['top'].set_visible(False)\n",
    "    ax.spines['bottom'].set_visible(False)\n",
    "    ax.set_facecolor('1.')\n",
    "plt.tight_layout(w_pad=2.5)\n",
    "for fmt in FORMATS:\n",
    "    plt.savefig('../figures/validation_merged_assay_versions' + fmt)"
   ]
  },
  {
   "cell_type": "markdown",
   "metadata": {},
   "source": [
    "For the screen pairs they were done in 5 experiments, 3 (Hvs01/2/3) for the first screen, and 1 each for screens 4-6 and 7-9 (Hvs04 / Hvs06)."
   ]
  },
  {
   "cell_type": "code",
   "execution_count": 24,
   "metadata": {},
   "outputs": [
    {
     "name": "stdout",
     "output_type": "stream",
     "text": [
      "Screen 1: n=280\tLit-BM: n=159\tRRS: n=304\n",
      "Screen 2: n=271\tLit-BM: n=157\tRRS: n=307\n",
      "Screen 3: n=206\tLit-BM: n=101\tRRS: n=235\n",
      "Screen 4: n=246\tScreen 5: n=244\tScreen 6: n=229\tLit-BM: n=274\tRRS: n=265\n",
      "Screen 7: n=236\tScreen 8: n=233\tScreen 9: n=239\tLit-BM: n=182\tRRS: n=331\n"
     ]
    },
    {
     "data": {
      "image/png": "[encoded data removed]",
      "text/plain": [
       "<Figure size 360x288 with 5 Axes>"
      ]
     },
     "metadata": {
      "image/png": {
       "height": 287,
       "width": 359
      },
      "needs_background": "light"
     },
     "output_type": "display_data"
    }
   ],
   "source": [
    "def validation_by_screen_by_experiment(assay):\n",
    "    colors = {'Screen {}'.format(i): HURI_COLOR for i in range(1, 10)}\n",
    "    colors['Lit-BM'] = LIT_COLOR\n",
    "    colors['RRS'] = RRS_COLOR\n",
    "    fig, _axes = plt.subplots(3, 3)\n",
    "    axes = [plt.subplot2grid((2, 6), (0, 0), colspan=2),\n",
    "            plt.subplot2grid((2, 6), (0, 2), colspan=2),\n",
    "            plt.subplot2grid((2, 6), (0, 4), colspan=2),\n",
    "            plt.subplot2grid((2, 6), (1, 0), colspan=3),\n",
    "            plt.subplot2grid((2, 6), (1, 3), colspan=3)]\n",
    "    fig.set_size_inches(5, 4)\n",
    "    for i in range(1, 4):\n",
    "        sb = 'Hvs0' + str(i)\n",
    "        rows = OrderedDict([('Screen ' + str(i), (val['assay'] == assay) &\n",
    "                                                         (val['standard_batch'] == sb) &\n",
    "                                                         (val['source'] == 'Hs0' + str(i))),\n",
    "                            ('Lit-BM', (val['assay'] == assay) &\n",
    "                                       (val['standard_batch'] == sb) &\n",
    "                                       (val['source'] == 'lit_bm_2013_rand250')),\n",
    "                            ('RRS', (val['assay'] == assay) &\n",
    "                                    (val['standard_batch'] == sb) &\n",
    "                                    (val['source'] == 'RRS'))])\n",
    "        cplt.validation_plot(data=val, \n",
    "                             selections=list(rows.values()),\n",
    "                             labels=list(rows.keys()),\n",
    "                             ax=axes[i - 1],\n",
    "                             colors=[colors[k] for k in rows.keys()], \n",
    "                             draw_numbers=False)\n",
    "        print('\\t'.join(['{}: n={}'.format(ds, val.loc[rs, 'result'].notnull().sum()) for ds, rs in rows.items()]))\n",
    "    sb = 'Hvs04'\n",
    "    rows = OrderedDict([('Screen ' + str(i), (val['assay'] == assay) &\n",
    "                                                     (val['standard_batch'] == sb) &\n",
    "                                                     (val['source'] == 'Hs0' + str(i)))\n",
    "                       for i in range(4, 7)] +\n",
    "                       [\n",
    "                        ('Lit-BM', (val['assay'] == assay) &\n",
    "                                   (val['standard_batch'] == sb) &\n",
    "                                   (val['source'].isin(['lit_bm_2013_rand250', 'lit_bm_2013_rand400']))),\n",
    "                        ('RRS', (val['assay'] == assay) &\n",
    "                                (val['standard_batch'] == sb) &\n",
    "                                (val['source'] == 'RRS'))])\n",
    "    cplt.validation_plot(data=val,\n",
    "                         selections=list(rows.values()),\n",
    "                         labels=list(rows.keys()),\n",
    "                         ax=axes[3],\n",
    "                         colors=[colors[k] for k in rows.keys()],\n",
    "                         draw_numbers=False)\n",
    "    print('\\t'.join(['{}: n={}'.format(ds, val.loc[rs, 'result'].notnull().sum()) for ds, rs in rows.items()]))\n",
    "    sb = 'Hvs06'\n",
    "    rows = OrderedDict([('Screen ' + str(i), (val['assay'] == assay) &\n",
    "                                                     (val['standard_batch'] == sb) &\n",
    "                                                     (val['source'] == 'Hs0' + str(i)))\n",
    "                       for i in range(7, 10)] +\n",
    "                       [\n",
    "                        ('Lit-BM', (val['assay'] == assay) &\n",
    "                                   (val['standard_batch'] == sb) &\n",
    "                                   (val['source'] == 'lit_bm_2013_rand250')),\n",
    "                        ('RRS', (val['assay'] == assay) &\n",
    "                                (val['standard_batch'] == sb) &\n",
    "                                (val['source'] == 'RRS'))])\n",
    "    if any([r.sum() > 0 for r in rows.values()]):\n",
    "        cplt.validation_plot(data=val,\n",
    "                             selections=list(rows.values()),\n",
    "                             labels=list(rows.keys()),\n",
    "                             ax=axes[4],\n",
    "                             colors=[colors[k] for k in rows.keys()],\n",
    "                             draw_numbers=False)\n",
    "        print('\\t'.join(['{}: n={}'.format(ds, val.loc[rs, 'result'].notnull().sum()) for ds, rs in rows.items()]))\n",
    "    else:\n",
    "        axes[4].axis('off')\n",
    "\n",
    "    for ax in axes:\n",
    "        ax.set_ylim((0., 0.25))\n",
    "        ax.set_xticklabels(ax.get_xticklabels(), rotation=45, ha='right')\n",
    "        ax.xaxis.set_tick_params(length=0.)\n",
    "        ax.spines['right'].set_visible(False)\n",
    "        ax.spines['top'].set_visible(False)\n",
    "        ax.spines['bottom'].set_visible(False)\n",
    "        ax.set_facecolor('1.')\n",
    "        ax.set_title('')\n",
    "    \n",
    "    \n",
    "validation_by_screen_by_experiment('MAPPIT')\n",
    "plt.tight_layout()\n",
    "for fmt in FORMATS:\n",
    "    plt.savefig('../figures/validation_mappit_by_screen_by_experiment' + fmt)"
   ]
  },
  {
   "cell_type": "code",
   "execution_count": 25,
   "metadata": {},
   "outputs": [
    {
     "name": "stdout",
     "output_type": "stream",
     "text": [
      "Screen 1: n=252\tLit-BM: n=155\tRRS: n=314\n",
      "Screen 2: n=255\tLit-BM: n=150\tRRS: n=309\n",
      "Screen 3: n=255\tLit-BM: n=142\tRRS: n=302\n",
      "Screen 4: n=278\tScreen 5: n=257\tScreen 6: n=263\tLit-BM: n=303\tRRS: n=301\n"
     ]
    },
    {
     "data": {
      "image/png": "[encoded data removed]",
      "text/plain": [
       "<Figure size 360x288 with 5 Axes>"
      ]
     },
     "metadata": {
      "image/png": {
       "height": 287,
       "width": 359
      },
      "needs_background": "light"
     },
     "output_type": "display_data"
    }
   ],
   "source": [
    "validation_by_screen_by_experiment('GPCA')\n",
    "plt.tight_layout()\n",
    "for fmt in FORMATS:\n",
    "    plt.savefig('../figures/validation_gpca_by_screen_by_experiment' + fmt)"
   ]
  },
  {
   "cell_type": "code",
   "execution_count": 37,
   "metadata": {},
   "outputs": [
    {
     "data": {
      "text/plain": [
       "array(['HuRI', 'Lit_and_HuRI'], dtype=object)"
      ]
     },
     "execution_count": 37,
     "metadata": {},
     "output_type": "execute_result"
    }
   ],
   "source": [
    "csi.category.unique()"
   ]
  },
  {
   "cell_type": "code",
   "execution_count": 41,
   "metadata": {},
   "outputs": [
    {
     "name": "stdout",
     "output_type": "stream",
     "text": [
      "HuRI\n",
      "1 screens: n=759\t2 screens: n=407\t3 screens: n=298\n",
      "1 screens: n=793\t2 screens: n=328\t3 screens: n=197\n",
      "1 screens: n=497\t2 screens: n=259\t3 screens: n=135\n",
      "Lit_and_HuRI\n",
      "1 screens: n=325\t2 screens: n=334\t3 screens: n=440\n",
      "1 screens: n=310\t2 screens: n=138\t3 screens: n=43\n",
      "1 screens: n=141\t2 screens: n=56\t3 screens: n=22\n"
     ]
    },
    {
     "data": {
      "image/png": "[encoded data removed]",
      "text/plain": [
       "<Figure size 216x252 with 6 Axes>"
      ]
     },
     "metadata": {
      "image/png": {
       "height": 247,
       "width": 229
      },
      "needs_background": "light"
     },
     "output_type": "display_data"
    }
   ],
   "source": [
    "# assay versions\n",
    "# axis labels\n",
    "ymax = 0.7\n",
    "fig, axes = plt.subplots(3, 2)\n",
    "fig.set_size_inches(3, 3.5)\n",
    "plt.subplots_adjust(wspace=0.5)\n",
    "for i, cat in enumerate(['HuRI', 'Lit_and_HuRI']):\n",
    "    print(cat)\n",
    "    for j, assay_id in enumerate([1, 2, 3]):\n",
    "        rows = {str(i) + ' screens': (csi['Y2H_assay_version'] == assay_id) &\n",
    "                                     (csi['category'] == cat) &\n",
    "                                     (csi['num_screens'] == i)\n",
    "                for i in range(1, 4)}\n",
    "        colors = {str(i) + ' screens': {'HuRI': HURI_COLOR, 'Lit_and_HuRI': LIT_COLOR}[cat] for i in range(1, 4)}\n",
    "        cplt.validation_plot(data=csi, \n",
    "                             selections=list(rows.values()),\n",
    "                             labels=list(rows.keys()),\n",
    "                             result_column='result',\n",
    "                             ax=axes[j, i],\n",
    "                             y_max=ymax,\n",
    "                             colors=list(colors.values()),\n",
    "                             draw_numbers=False)\n",
    "        print('\\t'.join(['{}: n={}'.format(ds, csi.loc[rs, 'result'].notnull().sum()) for ds, rs in rows.items()]))\n",
    "        ax = axes[j, i]\n",
    "        ax.xaxis.set_tick_params(length=0.)\n",
    "        ax.spines['right'].set_visible(False)\n",
    "        ax.spines['top'].set_visible(False)\n",
    "        ax.spines['bottom'].set_visible(False)\n",
    "        ax.set_facecolor('1.')\n",
    "        ax.set_xticklabels([])\n",
    "        ax.set_yticks(np.arange(0., 0.71, 0.2))\n",
    "        ax.set_yticks(np.arange(0., 0.71, 0.1), minor=True)\n",
    "        \n",
    "axes[2, 1].set_xticklabels([1, 2, 3], rotation=0)\n",
    "axes[2, 0].set_xticklabels([1, 2, 3], rotation=0)\n",
    "axes[2, 0].set_xlabel('Number of screens\\ndetected')\n",
    "axes[0, 1].set_ylabel('')\n",
    "axes[1, 1].set_ylabel('')\n",
    "axes[2, 1].set_ylabel('')\n",
    "\n",
    "\n",
    "fig.text(0.95, 0.82, 'Y2H v1', fontsize=9, rotation=90)\n",
    "fig.text(0.95, 0.55, 'Y2H v2', fontsize=9, rotation=90)\n",
    "fig.text(0.95, 0.25, 'Y2H v3', fontsize=9, rotation=90)\n",
    "\n",
    "axes[0, 0].set_title('HuRI', color=HURI_COLOR, fontsize=9)\n",
    "axes[0, 1].set_title('Lit-BM', color=LIT_COLOR, fontsize=9)\n",
    "\n",
    "\n",
    "for fmt in FORMATS:\n",
    "    plt.savefig('../figures/validation_mappit_by_num_screens' + fmt,\n",
    "                bbox_inches='tight')"
   ]
  },
  {
   "cell_type": "code",
   "execution_count": 27,
   "metadata": {},
   "outputs": [
    {
     "data": {
      "text/html": [
       "<div>\n",
       "<style scoped>\n",
       "    .dataframe tbody tr th:only-of-type {\n",
       "        vertical-align: middle;\n",
       "    }\n",
       "\n",
       "    .dataframe tbody tr th {\n",
       "        vertical-align: top;\n",
       "    }\n",
       "\n",
       "    .dataframe thead th {\n",
       "        text-align: right;\n",
       "    }\n",
       "</style>\n",
       "<table border=\"1\" class=\"dataframe\">\n",
       "  <thead>\n",
       "    <tr style=\"text-align: right;\">\n",
       "      <th></th>\n",
       "      <th>orf_id_a</th>\n",
       "      <th>orf_id_b</th>\n",
       "      <th>Y2H_assay_version</th>\n",
       "      <th>category</th>\n",
       "      <th>result</th>\n",
       "      <th>num_screens</th>\n",
       "      <th>binary_low_throughput</th>\n",
       "      <th>binary_not_y2h</th>\n",
       "      <th>binary</th>\n",
       "      <th>n_publications</th>\n",
       "      <th>n_methods</th>\n",
       "      <th>n_evidences</th>\n",
       "      <th>category_lit</th>\n",
       "    </tr>\n",
       "  </thead>\n",
       "  <tbody>\n",
       "    <tr>\n",
       "      <th>0</th>\n",
       "      <td>9</td>\n",
       "      <td>6112</td>\n",
       "      <td>1</td>\n",
       "      <td>HuRI</td>\n",
       "      <td>0.0</td>\n",
       "      <td>1</td>\n",
       "      <td>NaN</td>\n",
       "      <td>NaN</td>\n",
       "      <td>NaN</td>\n",
       "      <td>NaN</td>\n",
       "      <td>NaN</td>\n",
       "      <td>NaN</td>\n",
       "      <td>NaN</td>\n",
       "    </tr>\n",
       "    <tr>\n",
       "      <th>1</th>\n",
       "      <td>9</td>\n",
       "      <td>6869</td>\n",
       "      <td>1</td>\n",
       "      <td>HuRI</td>\n",
       "      <td>NaN</td>\n",
       "      <td>1</td>\n",
       "      <td>NaN</td>\n",
       "      <td>NaN</td>\n",
       "      <td>NaN</td>\n",
       "      <td>NaN</td>\n",
       "      <td>NaN</td>\n",
       "      <td>NaN</td>\n",
       "      <td>NaN</td>\n",
       "    </tr>\n",
       "    <tr>\n",
       "      <th>2</th>\n",
       "      <td>9</td>\n",
       "      <td>8359</td>\n",
       "      <td>1</td>\n",
       "      <td>HuRI</td>\n",
       "      <td>0.0</td>\n",
       "      <td>1</td>\n",
       "      <td>NaN</td>\n",
       "      <td>NaN</td>\n",
       "      <td>NaN</td>\n",
       "      <td>NaN</td>\n",
       "      <td>NaN</td>\n",
       "      <td>NaN</td>\n",
       "      <td>NaN</td>\n",
       "    </tr>\n",
       "    <tr>\n",
       "      <th>3</th>\n",
       "      <td>9</td>\n",
       "      <td>72137</td>\n",
       "      <td>1</td>\n",
       "      <td>HuRI</td>\n",
       "      <td>0.0</td>\n",
       "      <td>1</td>\n",
       "      <td>NaN</td>\n",
       "      <td>NaN</td>\n",
       "      <td>NaN</td>\n",
       "      <td>NaN</td>\n",
       "      <td>NaN</td>\n",
       "      <td>NaN</td>\n",
       "      <td>NaN</td>\n",
       "    </tr>\n",
       "    <tr>\n",
       "      <th>4</th>\n",
       "      <td>17</td>\n",
       "      <td>5081</td>\n",
       "      <td>1</td>\n",
       "      <td>HuRI</td>\n",
       "      <td>0.0</td>\n",
       "      <td>1</td>\n",
       "      <td>NaN</td>\n",
       "      <td>NaN</td>\n",
       "      <td>NaN</td>\n",
       "      <td>NaN</td>\n",
       "      <td>NaN</td>\n",
       "      <td>NaN</td>\n",
       "      <td>NaN</td>\n",
       "    </tr>\n",
       "  </tbody>\n",
       "</table>\n",
       "</div>"
      ],
      "text/plain": [
       "   orf_id_a  orf_id_b  Y2H_assay_version category  result  num_screens  \\\n",
       "0         9      6112                  1     HuRI     0.0            1   \n",
       "1         9      6869                  1     HuRI     NaN            1   \n",
       "2         9      8359                  1     HuRI     0.0            1   \n",
       "3         9     72137                  1     HuRI     0.0            1   \n",
       "4        17      5081                  1     HuRI     0.0            1   \n",
       "\n",
       "   binary_low_throughput  binary_not_y2h  binary  n_publications  n_methods  \\\n",
       "0                    NaN             NaN     NaN             NaN        NaN   \n",
       "1                    NaN             NaN     NaN             NaN        NaN   \n",
       "2                    NaN             NaN     NaN             NaN        NaN   \n",
       "3                    NaN             NaN     NaN             NaN        NaN   \n",
       "4                    NaN             NaN     NaN             NaN        NaN   \n",
       "\n",
       "   n_evidences category_lit  \n",
       "0          NaN          NaN  \n",
       "1          NaN          NaN  \n",
       "2          NaN          NaN  \n",
       "3          NaN          NaN  \n",
       "4          NaN          NaN  "
      ]
     },
     "execution_count": 27,
     "metadata": {},
     "output_type": "execute_result"
    }
   ],
   "source": [
    "csi.head()"
   ]
  },
  {
   "cell_type": "code",
   "execution_count": 53,
   "metadata": {
    "scrolled": true
   },
   "outputs": [
    {
     "name": "stdout",
     "output_type": "stream",
     "text": [
      "Evidence count ≥ 3\n",
      "1 screens: n=61\t2 screens: n=56\t3 screens: n=105\n",
      "Evidence count ≥ 4\n",
      "1 screens: n=48\t2 screens: n=44\t3 screens: n=74\n",
      "Evidence count ≥ 5\n",
      "1 screens: n=40\t2 screens: n=34\t3 screens: n=59\n",
      "Evidence count ≥ 6\n",
      "1 screens: n=31\t2 screens: n=28\t3 screens: n=45\n",
      "Evidence count ≥ 7\n",
      "1 screens: n=25\t2 screens: n=24\t3 screens: n=34\n"
     ]
    },
    {
     "data": {
      "image/png": "[encoded data removed]",
      "text/plain": [
       "<Figure size 468x144 with 5 Axes>"
      ]
     },
     "metadata": {
      "image/png": {
       "height": 149,
       "width": 512
      },
      "needs_background": "light"
     },
     "output_type": "display_data"
    }
   ],
   "source": [
    "def val_by_n_screens_restrict_lit_evid(n_evid, val_assay='mappit', ymax=0.7, ax=None):\n",
    "    cat = 'Lit_and_HuRI'\n",
    "    assay_id = 1\n",
    "    rows = {str(i) + ' screens': (csi['Y2H_assay_version'] == assay_id) &\n",
    "                                 (csi['category'] == cat) &\n",
    "                                 ((csi['category'] == 'HuRI') | \n",
    "                                  (csi['category_lit'].isin(['Lit-BM', 'Lit-BM-HT']) & (csi['n_evidences'] > n_evid)))  &\n",
    "                                 (csi['num_screens'] == i)\n",
    "            for i in range(1, 4)}\n",
    "    colors = {str(i) + ' screens': {'HuRI': HURI_COLOR, 'Lit_and_HuRI': LIT_COLOR}[cat] for i in range(1, 4)}\n",
    "    cplt.validation_plot(data=csi,\n",
    "                         selections=list(rows.values()),\n",
    "                         result_column='result',\n",
    "                         ax=ax,\n",
    "                         y_max=ymax,\n",
    "                         colors=list(colors.values()),\n",
    "                         draw_numbers=False)\n",
    "    print('Evidence count ≥', n_evid)\n",
    "    print('\\t'.join(['{}: n={}'.format(ds, csi.loc[rs, 'result'].notnull().sum()) for ds, rs in rows.items()]))\n",
    "    ax.xaxis.set_tick_params(length=0.)\n",
    "    ax.spines['right'].set_visible(False)\n",
    "    ax.spines['top'].set_visible(False)\n",
    "    ax.spines['bottom'].set_visible(False)\n",
    "    ax.set_facecolor('1.')\n",
    "\n",
    "\n",
    "n_evidences = list(range(3, 8))\n",
    "fig, axes = plt.subplots(1, len(n_evidences))\n",
    "# figure size\n",
    "fig.set_size_inches(6.5, 2)\n",
    "for n in n_evidences:\n",
    "    val_by_n_screens_restrict_lit_evid(n, 'mappit', 0.7, axes[n - 3])\n",
    "for ax in axes.flatten():\n",
    "    ax.set_yticks([0.1, 0.3, 0.5, 0.7], minor=True)\n",
    "    ax.set_yticks([0., 0.2, 0.4, 0.6])\n",
    "for ax in axes[1:].flatten():\n",
    "    ax.set_ylabel('')\n",
    "for ax in axes:\n",
    "    ax.set_xticklabels(['1', '2', '3'], rotation=0)\n",
    "for ax, n in zip(axes, n_evidences):\n",
    "    ax.set_title(str(n))\n",
    "axes[0].set_xlabel('Number of screens')\n",
    "fig.text(-0.08, 0.75, 'MAPPIT')\n",
    "fig.text(-0.08, 0.938, 'Minimum evidence count:')\n",
    "plt.tight_layout()\n",
    "for fmt in FORMATS:\n",
    "    plt.savefig('../figures/validation_num_screens_lit_bm' + fmt,\n",
    "                bbox_inches='tight')"
   ]
  },
  {
   "cell_type": "code",
   "execution_count": 60,
   "metadata": {},
   "outputs": [
    {
     "data": {
      "text/html": [
       "<div>\n",
       "<style scoped>\n",
       "    .dataframe tbody tr th:only-of-type {\n",
       "        vertical-align: middle;\n",
       "    }\n",
       "\n",
       "    .dataframe tbody tr th {\n",
       "        vertical-align: top;\n",
       "    }\n",
       "\n",
       "    .dataframe thead th {\n",
       "        text-align: right;\n",
       "    }\n",
       "</style>\n",
       "<table border=\"1\" class=\"dataframe\">\n",
       "  <thead>\n",
       "    <tr style=\"text-align: right;\">\n",
       "      <th></th>\n",
       "      <th>orf_id_a</th>\n",
       "      <th>orf_id_b</th>\n",
       "      <th>result</th>\n",
       "      <th>experiment</th>\n",
       "      <th>source</th>\n",
       "    </tr>\n",
       "  </thead>\n",
       "  <tbody>\n",
       "    <tr>\n",
       "      <th>0</th>\n",
       "      <td>61</td>\n",
       "      <td>53120</td>\n",
       "      <td>0.0</td>\n",
       "      <td>testing_y2h_v3</td>\n",
       "      <td>Lit_BM_13</td>\n",
       "    </tr>\n",
       "    <tr>\n",
       "      <th>1</th>\n",
       "      <td>61</td>\n",
       "      <td>53120</td>\n",
       "      <td>0.0</td>\n",
       "      <td>testing_y2h_v1</td>\n",
       "      <td>Lit_BM_13</td>\n",
       "    </tr>\n",
       "    <tr>\n",
       "      <th>2</th>\n",
       "      <td>61</td>\n",
       "      <td>53120</td>\n",
       "      <td>0.0</td>\n",
       "      <td>testing_y2h_v2</td>\n",
       "      <td>Lit_BM_13</td>\n",
       "    </tr>\n",
       "    <tr>\n",
       "      <th>3</th>\n",
       "      <td>69</td>\n",
       "      <td>3380</td>\n",
       "      <td>0.0</td>\n",
       "      <td>testing_y2h_v3</td>\n",
       "      <td>Lit_BM_13</td>\n",
       "    </tr>\n",
       "    <tr>\n",
       "      <th>4</th>\n",
       "      <td>69</td>\n",
       "      <td>3380</td>\n",
       "      <td>0.0</td>\n",
       "      <td>testing_y2h_v1</td>\n",
       "      <td>Lit_BM_13</td>\n",
       "    </tr>\n",
       "  </tbody>\n",
       "</table>\n",
       "</div>"
      ],
      "text/plain": [
       "   orf_id_a  orf_id_b  result      experiment     source\n",
       "0        61     53120     0.0  testing_y2h_v3  Lit_BM_13\n",
       "1        61     53120     0.0  testing_y2h_v1  Lit_BM_13\n",
       "2        61     53120     0.0  testing_y2h_v2  Lit_BM_13\n",
       "3        69      3380     0.0  testing_y2h_v3  Lit_BM_13\n",
       "4        69      3380     0.0  testing_y2h_v1  Lit_BM_13"
      ]
     },
     "execution_count": 60,
     "metadata": {},
     "output_type": "execute_result"
    }
   ],
   "source": [
    "gsm_val.head()"
   ]
  },
  {
   "cell_type": "code",
   "execution_count": 61,
   "metadata": {},
   "outputs": [
    {
     "data": {
      "text/plain": [
       "array(['Lit_BM_13', 'RRS', 'test_space_y2h_v3', 'test_space_y2h_v1',\n",
       "       'test_space_y2h_v2'], dtype=object)"
      ]
     },
     "execution_count": 61,
     "metadata": {},
     "output_type": "execute_result"
    }
   ],
   "source": [
    "gsm_val.source.unique()"
   ]
  },
  {
   "cell_type": "code",
   "execution_count": 62,
   "metadata": {},
   "outputs": [
    {
     "data": {
      "text/plain": [
       "array(['testing_y2h_v3', 'testing_y2h_v1', 'testing_y2h_v2'], dtype=object)"
      ]
     },
     "execution_count": 62,
     "metadata": {},
     "output_type": "execute_result"
    }
   ],
   "source": [
    "gsm_val.experiment.unique()"
   ]
  },
  {
   "cell_type": "code",
   "execution_count": 65,
   "metadata": {},
   "outputs": [
    {
     "name": "stdout",
     "output_type": "stream",
     "text": [
      "Y2H v1\n",
      "Y2H: n=395\tLit-BM: n=216\tRRS: n=349\n",
      "Y2H v2\n",
      "Y2H: n=161\tLit-BM: n=214\tRRS: n=175\n",
      "Y2H v3\n",
      "Y2H: n=310\tLit-BM: n=211\tRRS: n=315\n"
     ]
    },
    {
     "data": {
      "image/png": "[encoded data removed]",
      "text/plain": [
       "<Figure size 266.4x122.4 with 3 Axes>"
      ]
     },
     "metadata": {
      "image/png": {
       "height": 123,
       "width": 266
      },
      "needs_background": "light"
     },
     "output_type": "display_data"
    }
   ],
   "source": [
    "fig, axes = plt.subplots(1, 3)\n",
    "fig.set_size_inches(3.7, 1.7)\n",
    "ymax = 0.2\n",
    "assay = 'MAPPIT'\n",
    "gsm_v1_exp = [(gsm_val['experiment'] == 'testing_y2h_v1') &\n",
    "              (gsm_val['source'] == s) for s in ['test_space_y2h_v1',\n",
    "                                             'Lit_BM_13',\n",
    "                                             'RRS']]\n",
    "gsm_v2_exp = [(gsm_val['experiment'] == 'testing_y2h_v2') &\n",
    "              (gsm_val['source'] == s) for s in ['test_space_y2h_v2',\n",
    "                                             'Lit_BM_13',\n",
    "                                             'RRS']]\n",
    "gsm_v3_exp = [(gsm_val['experiment'] == 'testing_y2h_v3') &\n",
    "              (gsm_val['source'] == s) for s in ['test_space_y2h_v3',\n",
    "                                             'Lit_BM_13',\n",
    "                                             'RRS']]\n",
    "cplt.validation_plot(data=gsm_val,\n",
    "                     selections=gsm_v1_exp,\n",
    "                     ax=axes[0],\n",
    "                     y_max=ymax,\n",
    "                     labels=['Y2H v1', 'Lit-BM', 'RRS'],\n",
    "                     colors=[HURI_COLOR, LIT_COLOR, RRS_COLOR],\n",
    "                     draw_numbers=False)\n",
    "cplt.validation_plot(data=gsm_val,\n",
    "                     selections=gsm_v2_exp,\n",
    "                     ax=axes[1],\n",
    "                     y_max=ymax,\n",
    "                     labels=['Y2H v2', 'Lit-BM', 'RRS'],\n",
    "                     colors=[HURI_COLOR, LIT_COLOR, RRS_COLOR],\n",
    "                     draw_numbers=False)\n",
    "cplt.validation_plot(data=gsm_val,\n",
    "                     selections=gsm_v3_exp,\n",
    "                     ax=axes[2],\n",
    "                     y_max=ymax,\n",
    "                     labels=['Y2H v3', 'Lit-BM', 'RRS'],\n",
    "                     colors=[HURI_COLOR, LIT_COLOR, RRS_COLOR],\n",
    "                     draw_numbers=False)\n",
    "dataset_names = ['Y2H', 'Lit-BM', 'RRS']\n",
    "print('Y2H v1')\n",
    "print('\\t'.join(['{}: n={}'.format(ds, gsm_val.loc[rs, 'result'].notnull().sum()) for ds, rs in zip(dataset_names, gsm_v1_exp)]))\n",
    "print('Y2H v2')\n",
    "print('\\t'.join(['{}: n={}'.format(ds, gsm_val.loc[rs, 'result'].notnull().sum()) for ds, rs in zip(dataset_names, gsm_v2_exp)]))\n",
    "print('Y2H v3')\n",
    "print('\\t'.join(['{}: n={}'.format(ds, gsm_val.loc[rs, 'result'].notnull().sum()) for ds, rs in zip(dataset_names, gsm_v3_exp)]))\n",
    "for ax in axes.flatten():\n",
    "    ax.xaxis.set_tick_params(length=0.)\n",
    "    ax.set_xticklabels(ax.get_xticklabels(), rotation=45, ha='right')\n",
    "    ax.spines['right'].set_visible(False)\n",
    "    ax.spines['top'].set_visible(False)\n",
    "    ax.spines['bottom'].set_visible(False)\n",
    "    ax.set_facecolor('1.')\n",
    "axes[0].set_title('Y2H v1')\n",
    "axes[1].set_title('Y2H v2')\n",
    "axes[2].set_title('Y2H v3')\n",
    "plt.tight_layout()\n",
    "for fmt in FORMATS:\n",
    "    plt.savefig('../figures/gsm_gsm_validation_mappit' + fmt,\n",
    "                bbox_inches='tight')"
   ]
  },
  {
   "cell_type": "code",
   "execution_count": null,
   "metadata": {},
   "outputs": [],
   "source": []
  }
 ],
 "metadata": {
  "kernelspec": {
   "display_name": "Python 3",
   "language": "python",
   "name": "python3"
  },
  "language_info": {
   "codemirror_mode": {
    "name": "ipython",
    "version": 3
   },
   "file_extension": ".py",
   "mimetype": "text/x-python",
   "name": "python",
   "nbconvert_exporter": "python",
   "pygments_lexer": "ipython3",
   "version": "3.7.3"
  }
 },
 "nbformat": 4,
 "nbformat_minor": 2
}
