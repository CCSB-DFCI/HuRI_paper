{
 "cells": [
  {
   "cell_type": "code",
   "execution_count": 1,
   "metadata": {},
   "outputs": [],
   "source": [
    "# script to calculate correlations between degree and tissue-preferential expression or \n",
    "# betweenness and tissue-preferential expression\n",
    "\n",
    "# use networks filtered to only contain edges between genes observed to be expressed in the same tissue\n",
    "# restrict networks to LCC (largest connected component)\n",
    "# use the max TiP value as a measure of tissue-preferential expression for every gene"
   ]
  },
  {
   "cell_type": "code",
   "execution_count": 2,
   "metadata": {},
   "outputs": [],
   "source": [
    "import os\n",
    "\n",
    "import pickle\n",
    "import numpy as np\n",
    "import pandas, numpy, scipy.stats, igraph\n",
    "import matplotlib\n",
    "import matplotlib.pyplot as plt\n",
    "%matplotlib inline\n",
    "from matplotlib.colors import LogNorm\n",
    "\n",
    "matplotlib.rcParams['pdf.fonttype'] = 42\n",
    "\n",
    "expr_cutoff = 5\n",
    "\n",
    "data_path = '/Volumes/mvidal/homes/kl593/HuRI/Analysis/GTEx/analysis_GTExV6_2018_frozen/'\n",
    "outpath = '../figures'\n",
    "\n",
    "network_names = ['Lit-BM-17','BioPlex','QUBIC','CoFrac','HI-I-05','HI-II-14','HI-III']\n",
    "figure_network_names = ['Lit-BM','BioPlex','QUBIC','CoFrac','HI-I-05','HI-II-14','HI-III-19']\n",
    "colors = [(60/255, 134/255, 184/255),'#e6550d','#fd8d3c','#fdbe85','pink','orchid',(155/255, 97/255, 153/255)]"
   ]
  },
  {
   "cell_type": "code",
   "execution_count": 3,
   "metadata": {},
   "outputs": [],
   "source": [
    "import matplotlib as mpl\n",
    "mpl.rcParams['font.family'] = 'Arial'\n",
    "mpl.rcParams['font.size'] = 7.0\n",
    "mpl.rcParams['savefig.dpi'] = 500\n",
    "HURI_COLOR = (155 / 255, 97 / 255, 153 / 255)\n",
    "LIT_COLOR = (60 / 255, 134 / 255, 184 / 255)\n",
    "# from colorbrewer; middle three of 5-class purples\n",
    "ASSAY_V1_COLOR = '#cbc9e2'\n",
    "ASSAY_V2_COLOR = '#9e9ac8'\n",
    "ASSAY_V3_COLOR = '#756bb1'\n",
    "HI_I_05_COLOR = 'pink'\n",
    "HI_II_14_COLOR = 'orchid'\n",
    "RRS_COLOR = (224 / 255, 16 / 255, 28 / 255)\n",
    "# from colorbrewer; middle three of 5-class oranges\n",
    "BIOPLEX_COLOR = '#e6550d'\n",
    "QUBIC_COLOR = '#fd8d3c'\n",
    "COFRAC_COLOR = '#fdbe85'\n",
    "FORMATS = ['.pdf', '.png']"
   ]
  },
  {
   "cell_type": "code",
   "execution_count": 4,
   "metadata": {},
   "outputs": [],
   "source": [
    "# read in the collapsed CSNs (condition-specific networks) for each source network\n",
    "networks = []\n",
    "for network_name in network_names:\n",
    "    pickle_file = data_path + network_name + '/GTExv6_collapsed_CSN_' + network_name + '_no_testis.pickle'\n",
    "    networks.append(pickle.load(open(pickle_file,'rb')))"
   ]
  },
  {
   "cell_type": "code",
   "execution_count": 5,
   "metadata": {},
   "outputs": [],
   "source": [
    "# restrict the networks to the LCC\n",
    "LCC_networks = []\n",
    "for network in networks:\n",
    "    clusters = network.clusters(mode='WEAK')\n",
    "    LCC = clusters.giant()\n",
    "    LCC_networks.append(LCC)"
   ]
  },
  {
   "cell_type": "code",
   "execution_count": 6,
   "metadata": {},
   "outputs": [
    {
     "name": "stdout",
     "output_type": "stream",
     "text": [
      "4971 5316\n",
      "10668 10869\n"
     ]
    }
   ],
   "source": [
    "print(len(LCC_networks[0].vs),len(networks[0].vs))\n",
    "print(len(LCC_networks[0].es),len(networks[0].es))"
   ]
  },
  {
   "cell_type": "code",
   "execution_count": 24,
   "metadata": {},
   "outputs": [],
   "source": [
    "# compute the max TiP values for every gene\n",
    "TiPmatrix = pandas.read_csv('../data/processed/Supplementary Table 27.txt', sep='\\t').set_index('Ensembl_gene_id')\n",
    "GTEx = pandas.read_csv('../data/processed/Supplementary Table 22.txt', sep='\\t')\n",
    "GTEx = GTEx.drop(columns=['testis'])\n",
    "GTEx_tissues = TiPmatrix.columns\n",
    "for tissue in GTEx_tissues:\n",
    "    TiPmatrix.loc[TiPmatrix.index.isin(GTEx.index[GTEx[tissue]<=expr_cutoff]),[tissue]] = numpy.NaN\n",
    "maxTiP_series = TiPmatrix.max(axis=1,numeric_only=True)\n",
    "maxTiP_series.dropna(inplace=True)"
   ]
  },
  {
   "cell_type": "code",
   "execution_count": 8,
   "metadata": {},
   "outputs": [],
   "source": [
    "# make dataframe that contains for every gene the TiP value and the degree for every network\n",
    "deg_TiP_df = pandas.DataFrame({'maxTiP':maxTiP_series},index=maxTiP_series.index)\n",
    "for n,network in enumerate(LCC_networks):\n",
    "    n_df = pandas.DataFrame({network_names[n] + '_deg':network.vs.degree()},index=network.vs['name'])\n",
    "    deg_TiP_df = deg_TiP_df.merge(n_df,how='left',left_index=True,right_index=True)\n",
    "    \n",
    "# make dataframe that contains for every gene the TiP value and the betweenness for every network\n",
    "betw_TiP_df = pandas.DataFrame({'maxTiP':maxTiP_series},index=maxTiP_series.index)\n",
    "for n,network in enumerate(LCC_networks):\n",
    "    n_df = pandas.DataFrame({network_names[n] + '_betw':network.vs.betweenness()},index=network.vs['name'])\n",
    "    betw_TiP_df = betw_TiP_df.merge(n_df,how='left',left_index=True,right_index=True)"
   ]
  },
  {
   "cell_type": "code",
   "execution_count": 16,
   "metadata": {},
   "outputs": [
    {
     "name": "stdout",
     "output_type": "stream",
     "text": [
      "Lit-BM-17 n= 4971 proteins with TiP score\n",
      "BioPlex n= 9416 proteins with TiP score\n",
      "QUBIC n= 4993 proteins with TiP score\n",
      "CoFrac n= 3062 proteins with TiP score\n",
      "HI-I-05 n= 1040 proteins with TiP score\n",
      "HI-II-14 n= 3254 proteins with TiP score\n",
      "HI-III n= 6684 proteins with TiP score\n",
      "Lit-BM-17 n= 4971 proteins with TiP score\n",
      "BioPlex n= 9416 proteins with TiP score\n",
      "QUBIC n= 4993 proteins with TiP score\n",
      "CoFrac n= 3062 proteins with TiP score\n",
      "HI-I-05 n= 1040 proteins with TiP score\n",
      "HI-II-14 n= 3254 proteins with TiP score\n",
      "HI-III n= 6684 proteins with TiP score\n"
     ]
    }
   ],
   "source": [
    "def spearmans_rho_with_bootstrap_ci(data=deg_TiP_df, dataset='HI-III', variable='deg', ci=0.95, n_samples=1000):\n",
    "    \"\"\"\n",
    "        \n",
    "    Arguments:\n",
    "        data (pandas.DataFrame): columns for each PPI network and for TiP\n",
    "        dataset (str): name of the PPI network\n",
    "        variable (str): deg/betw\n",
    "        ci (float): confidence interval size\n",
    "        n_samples: number of bootstraps\n",
    "        \n",
    "    Returns:\n",
    "        float, tuple(float, float): Spearman's rho with lower and upper limits\n",
    "    \n",
    "    \"\"\"\n",
    "    df = data.loc[data[dataset + '_' + variable].notnull(),\n",
    "                  ['maxTiP', dataset + '_' + variable]].copy()\n",
    "    print(dataset, 'n=', df.notnull().sum().values[0], 'proteins with TiP score')\n",
    "    val = df.corr(method='spearman').iat[0, 1]\n",
    "    bootstraps = []\n",
    "    for __ in range(n_samples):\n",
    "        bootstraps.append(df.sample(n=df.shape[0], replace=True)\n",
    "                            .corr(method='spearman')\n",
    "                            .iat[0, 1])\n",
    "    bootstraps = np.array(bootstraps)\n",
    "    lims = (np.quantile(bootstraps, (1. - ci) / 2.), np.quantile(bootstraps, 1. - (1. - ci) / 2))\n",
    "    return val, lims\n",
    "\n",
    "datasets = ['Lit-BM-17', 'BioPlex', 'QUBIC', 'CoFrac', 'HI-I-05', 'HI-II-14', 'HI-III']\n",
    "dataset_names = ['Lit-BM', 'BioPlex', 'QUBIC', 'CoFrac', 'HI-I-05', 'HI-II-14', 'HI-III']\n",
    "rhos = {}\n",
    "rhos_betw = {}\n",
    "for ds in datasets:\n",
    "    rhos[ds] = spearmans_rho_with_bootstrap_ci(data=deg_TiP_df, dataset=ds, variable='deg')\n",
    "for ds in datasets:\n",
    "    rhos_betw[ds] = spearmans_rho_with_bootstrap_ci(data=betw_TiP_df, dataset=ds, variable='betw')\n",
    "datasets[-1] = 'HI-III-19'"
   ]
  },
  {
   "cell_type": "code",
   "execution_count": 10,
   "metadata": {},
   "outputs": [
    {
     "data": {
      "image/png": "[encoded data removed]",
      "text/plain": [
       "<Figure size 93.6x64.8 with 1 Axes>"
      ]
     },
     "metadata": {
      "image/png": {
       "height": 86,
       "width": 117
      },
      "needs_background": "light"
     },
     "output_type": "display_data"
    }
   ],
   "source": [
    "# betweenness and degree for hi and lit on one plot\n",
    "fig, ax = plt.subplots(1, 1)\n",
    "fig.set_size_inches(1.3, 0.9)\n",
    "ax.errorbar(x=[rhos['HI-III'][0], rhos_betw['HI-III'][0]],\n",
    "            y=[3, 0.5],\n",
    "            xerr=[[rhos['HI-III'][0] - rhos['HI-III'][1][0], rhos_betw['HI-III'][0] - rhos_betw['HI-III'][1][0]],\n",
    "                  [rhos['HI-III'][1][1] - rhos['HI-III'][0], rhos['HI-III'][1][1] - rhos['HI-III'][0]]],\n",
    "            fmt='none',\n",
    "            capsize=3.,\n",
    "            color=HURI_COLOR)\n",
    "ax.errorbar(x=[rhos['Lit-BM-17'][0], rhos_betw['Lit-BM-17'][0]],\n",
    "            y=[2, -0.5],\n",
    "            xerr=[[rhos['Lit-BM-17'][0] - rhos['Lit-BM-17'][1][0], rhos_betw['Lit-BM-17'][0] - rhos_betw['Lit-BM-17'][1][0]],\n",
    "                  [rhos['Lit-BM-17'][1][1] - rhos['Lit-BM-17'][0], rhos['Lit-BM-17'][1][1] - rhos['Lit-BM-17'][0]]],\n",
    "            fmt='none',\n",
    "            capsize=3.,\n",
    "            color=LIT_COLOR)\n",
    "ax.yaxis.set_tick_params(length=0, labelsize=7)\n",
    "ax.set_yticks([])\n",
    "ax.set_xlim((-0.15, 0.15))\n",
    "ax.set_xticks([-0.15, -0.05, 0.05, 0.15], minor=True)\n",
    "ax.axvline(0, linestyle='--', color='grey', zorder=0)\n",
    "ax.spines['right'].set_visible(False)\n",
    "ax.spines['bottom'].set_visible(False)\n",
    "ax.spines['left'].set_visible(False)\n",
    "ax.xaxis.tick_top()\n",
    "ax.set_xlabel(r\"Spearman's $\\rho$ with tissue specificity\",\n",
    "              fontsize=6)\n",
    "ax.xaxis.set_label_position('top')\n",
    "\n",
    "ax.text(-0.12, 3, 'HuRI', ha='right', va='center', color=HURI_COLOR, fontsize=7)\n",
    "ax.text(-0.12, 2, 'Lit-BM', ha='right', va='center', color=LIT_COLOR, fontsize=7)\n",
    "#ax.text(0.05, 2.5, ']', ha='right', va='center', color='black', fontsize=14)\n",
    "ax.text(0.05, 2.5, 'Degree', ha='left', va='center', color='black', fontsize=7)\n",
    "ax.text(0.05, 0., 'Betweenness', ha='left', va='center', color='black', fontsize=7)\n",
    "\n",
    "ax.set_ylim(-1., 3.5)\n",
    "\n",
    "for fmt in ['.pdf', '.png']:\n",
    "    plt.savefig('../figures/TiP_degree_and_betweenness_correlations_with_CI' + fmt,\n",
    "                bbox_inches='tight')"
   ]
  }
 ],
 "metadata": {
  "kernelspec": {
   "display_name": "Python 3",
   "language": "python",
   "name": "python3"
  },
  "language_info": {
   "codemirror_mode": {
    "name": "ipython",
    "version": 3
   },
   "file_extension": ".py",
   "mimetype": "text/x-python",
   "name": "python",
   "nbconvert_exporter": "python",
   "pygments_lexer": "ipython3",
   "version": "3.7.6"
  }
 },
 "nbformat": 4,
 "nbformat_minor": 2
}
