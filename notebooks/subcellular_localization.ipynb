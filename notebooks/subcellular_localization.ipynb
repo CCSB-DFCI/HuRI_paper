{
 "cells": [
  {
   "cell_type": "markdown",
   "metadata": {},
   "source": [
    "# Subcellular location\n",
    "\n",
    "\n",
    "## Notes on pairs of compartments to exclude\n",
    "- [Nucleus and Nucleoplasm are mutualy exclusive definitions](https://www.proteinatlas.org/learn/dictionary/cell/nucleus)\n",
    "- [The Centrosome is a microtubule organizing center](https://www.proteinatlas.org/learn/dictionary/cell/microtubule+organizing+center) \n",
    "- [There is vesicles as a general term and endosomes, lysosomes, perioxisomes and lipid droplets as specific instances](https://www.proteinatlas.org/learn/dictionary/cell/vesicles+7)"
   ]
  },
  {
   "cell_type": "code",
   "execution_count": 1,
   "metadata": {},
   "outputs": [],
   "source": [
    "import os\n",
    "\n",
    "import numpy as np\n",
    "from scipy import stats\n",
    "from scipy import odr\n",
    "import matplotlib as mpl\n",
    "from matplotlib import pyplot as plt\n",
    "import pandas as pd\n",
    "from tqdm import tqdm\n",
    "\n",
    "import ccsblib\n",
    "\n",
    "from custom_settings import *\n",
    "from utils import *\n",
    "\n",
    "%matplotlib inline"
   ]
  },
  {
   "cell_type": "code",
   "execution_count": 3,
   "metadata": {},
   "outputs": [],
   "source": [
    "mpl.rcParams['font.family'] = 'Arial'\n",
    "mpl.rcParams['font.size'] = 7.0\n",
    "mpl.rcParams['savefig.dpi'] = 500"
   ]
  },
  {
   "cell_type": "code",
   "execution_count": 4,
   "metadata": {},
   "outputs": [
    {
     "name": "stderr",
     "output_type": "stream",
     "text": [
      "/Users/lukelambourne/Work/ccsblib/ccsblib/huri/external_data/protein_atlas.py:30: FutureWarning: read_table is deprecated, use read_csv instead, passing sep='\\t'.\n",
      "  df = pd.read_table(file_path)\n"
     ]
    },
    {
     "name": "stdout",
     "output_type": "stream",
     "text": [
      "Warning: loading data failed.\n",
      "Failed to connect to database.\n",
      "Maybe you are outside the internal network and forgot to to start the VPN?\n",
      "Warning: Reading from cache\n",
      "Warning: loading data failed.\n",
      "Failed to connect to database.\n",
      "Maybe you are outside the internal network and forgot to to start the VPN?\n",
      "Warning: Reading from cache\n"
     ]
    },
    {
     "name": "stderr",
     "output_type": "stream",
     "text": [
      "/Users/lukelambourne/Work/ccsblib/ccsblib/huri/external_data/other_interactomes.py:91: FutureWarning: read_table is deprecated, use read_csv instead, passing sep='\\t'.\n",
      "  bp = (pd.read_table(fpath, header=0, usecols=[col_bait, col_prey])\n"
     ]
    },
    {
     "name": "stdout",
     "output_type": "stream",
     "text": [
      "Warning: loading data failed.\n",
      "Failed to connect to database.\n",
      "Maybe you are outside the internal network and forgot to to start the VPN?\n",
      "Warning: Reading from cache\n",
      "Warning: loading data failed.\n",
      "Failed to connect to database.\n",
      "Maybe you are outside the internal network and forgot to to start the VPN?\n",
      "Warning: Reading from cache\n",
      "Warning: loading data failed.\n",
      "Failed to connect to database.\n",
      "Maybe you are outside the internal network and forgot to to start the VPN?\n",
      "Warning: Reading from cache\n",
      "Warning: mapping between gene/protein identifiers has resulted in different pairs in the input ID being mapped to the same pair in the output ID.\n",
      "You may wish to use the `agg` argument to customize the choice of which of the pair's infomation to keep or how to combine the information from multiple pairs.\n",
      "Warning: loading data failed.\n",
      "Failed to connect to database.\n",
      "Maybe you are outside the internal network and forgot to to start the VPN?\n",
      "Warning: Reading from cache\n"
     ]
    },
    {
     "name": "stderr",
     "output_type": "stream",
     "text": [
      "/Users/lukelambourne/Work/ccsblib/ccsblib/huri/external_data/other_interactomes.py:200: FutureWarning: read_table is deprecated, use read_csv instead, passing sep='\\t'.\n",
      "  cf = (pd.read_table(fpath, usecols=['id1', 'id2'])\n"
     ]
    },
    {
     "name": "stdout",
     "output_type": "stream",
     "text": [
      "Warning: loading data failed.\n",
      "Failed to connect to database.\n",
      "Maybe you are outside the internal network and forgot to to start the VPN?\n",
      "Warning: Reading from cache\n",
      "Warning: loading data failed.\n",
      "Failed to connect to database.\n",
      "Maybe you are outside the internal network and forgot to to start the VPN?\n",
      "Warning: Reading from cache\n",
      "Warning: loading data failed.\n",
      "Failed to connect to database.\n",
      "Maybe you are outside the internal network and forgot to to start the VPN?\n",
      "Warning: Reading from cache\n"
     ]
    }
   ],
   "source": [
    "hpa = load_subcellular_location()\n",
    "hi_iii = load_nw_hi_iii(id_type='ensembl_gene_id')\n",
    "space_iii = load_space_iii()\n",
    "pcg = load_protein_coding_genome()\n",
    "hpa = hpa[hpa.index.isin(pcg)]\n",
    "compartments = hpa.columns\n",
    "hpa['in_hi_iii'] = (hpa.index.isin(hi_iii['ensembl_gene_id_a'].unique()) |\n",
    "                    hpa.index.isin(hi_iii['ensembl_gene_id_b'].unique()))"
   ]
  },
  {
   "cell_type": "code",
   "execution_count": 6,
   "metadata": {},
   "outputs": [],
   "source": [
    "hi_iii = hi_iii.loc[hi_iii['ensembl_gene_id_a'] != hi_iii['ensembl_gene_id_b'], :]"
   ]
  },
  {
   "cell_type": "code",
   "execution_count": 7,
   "metadata": {},
   "outputs": [
    {
     "data": {
      "text/plain": [
       "in_Cytosol                          3940\n",
       "in_Nucleoplasm                      3551\n",
       "in_Nucleus                          1819\n",
       "in_Vesicles                         1662\n",
       "in_Plasma membrane                  1403\n",
       "in_Mitochondria                     1008\n",
       "in_Nucleoli                          957\n",
       "in_Golgi apparatus                   906\n",
       "in_Nuclear bodies                    461\n",
       "in_Endoplasmic reticulum             429\n",
       "in_Nuclear speckles                  420\n",
       "in_Centrosome                        307\n",
       "in_Cell Junctions                    278\n",
       "in_Nuclear membrane                  260\n",
       "in_Nucleoli fibrillar center         250\n",
       "in_Microtubules                      225\n",
       "in_Actin filaments                   211\n",
       "in_Intermediate filaments            163\n",
       "in_Microtubule organizing center     129\n",
       "in_Focal adhesion sites              125\n",
       "in_Cytokinetic bridge                100\n",
       "in_Cytoplasmic bodies                 55\n",
       "in_Midbody                            37\n",
       "in_Lipid droplets                     33\n",
       "in_Mitotic spindle                    31\n",
       "in_Peroxisomes                        20\n",
       "in_Rods & Rings                       19\n",
       "in_Aggresome                          16\n",
       "in_Lysosomes                          16\n",
       "in_Endosomes                          16\n",
       "in_Midbody ring                       13\n",
       "in_Microtubule ends                    6\n",
       "in_Cleavage furrow                     3\n",
       "dtype: int64"
      ]
     },
     "execution_count": 7,
     "metadata": {},
     "output_type": "execute_result"
    }
   ],
   "source": [
    "hpa[compartments].sum(axis=0).sort_values(ascending=False)"
   ]
  },
  {
   "cell_type": "code",
   "execution_count": 8,
   "metadata": {},
   "outputs": [
    {
     "data": {
      "text/plain": [
       "Text(0, 0.5, 'Number of proteins')"
      ]
     },
     "execution_count": 8,
     "metadata": {},
     "output_type": "execute_result"
    },
    {
     "data": {
      "image/png": "[encoded data removed]",
      "text/plain": [
       "<Figure size 432x288 with 1 Axes>"
      ]
     },
     "metadata": {
      "needs_background": "light"
     },
     "output_type": "display_data"
    }
   ],
   "source": [
    "hpa[compartments].sum(axis=1).plot('hist', bins=6, range=(0.5, 6.5))\n",
    "plt.xlabel('Number of compartments annotated')\n",
    "plt.ylabel('Number of proteins')"
   ]
  },
  {
   "cell_type": "code",
   "execution_count": 10,
   "metadata": {
    "scrolled": true
   },
   "outputs": [
    {
     "name": "stdout",
     "output_type": "stream",
     "text": [
      "Skipping pair\n",
      "Skipping pair\n",
      "Skipping pair\n",
      "Skipping pair\n",
      "Skipping pair\n",
      "Beta: [11.33011687 -0.91057463]\n",
      "Beta Std Error: [2.22589609 0.14491653]\n",
      "Beta Covariance: [[ 1.86619065 -0.05575314]\n",
      " [-0.05575314  0.0079101 ]]\n",
      "Residual Variance: 2.654934216114364\n",
      "Inverse Condition #: 0.5371996793204401\n",
      "Reason(s) for Halting:\n",
      "  Sum of squares convergence\n"
     ]
    }
   ],
   "source": [
    "pairs_to_skip = (set(['in_Nucleoplasm', 'in_Nucleus']),\n",
    "                 set(['in_Nucleoplasm', 'in_Nucleoli']),\n",
    "                 set(['in_Nuclear speckles', 'in_Nucleus']),\n",
    "                 set(['in_Nucleoli fibrillar center', 'in_Nucleoli']),\n",
    "                 set(['in_Microtubule organizing center', 'in_Centrosome']))\n",
    "results = []\n",
    "genes_in_compartments = [(set(hpa.loc[hpa[c], :].index), c) for c in compartments]\n",
    "genes_all_hpa = set(hpa.index)\n",
    "comp_in_hi_iii = [(g, c) for g, c in genes_in_compartments if (hi_iii['ensembl_gene_id_a'].isin(g).sum() + \n",
    "                                                               hi_iii['ensembl_gene_id_b'].isin(g).sum() > 0) and\n",
    "                                                               len(g) >= 100]\n",
    "    \n",
    "for i, (genes_a, comp_a) in enumerate(comp_in_hi_iii):\n",
    "    for genes_b, comp_b in comp_in_hi_iii[i + 1:]:\n",
    "        if set([comp_a, comp_b]) in pairs_to_skip:\n",
    "            print('Skipping pair')\n",
    "            continue\n",
    "        genes_a_not_b = genes_a.difference(genes_b)\n",
    "        genes_b_not_a = genes_b.difference(genes_a)\n",
    "        genes_not_a_not_b = genes_all_hpa.difference(genes_a.union(genes_b))\n",
    "        ppis_a_b = ((hi_iii['ensembl_gene_id_a'].isin(genes_a_not_b) & \n",
    "                     hi_iii['ensembl_gene_id_b'].isin(genes_b_not_a)) |\n",
    "                    (hi_iii['ensembl_gene_id_a'].isin(genes_b_not_a) & \n",
    "                     hi_iii['ensembl_gene_id_b'].isin(genes_a_not_b))).sum()\n",
    "        ppis_a_not_b = ((hi_iii['ensembl_gene_id_a'].isin(genes_a_not_b) & \n",
    "                         hi_iii['ensembl_gene_id_b'].isin(genes_not_a_not_b)) |\n",
    "                        (hi_iii['ensembl_gene_id_a'].isin(genes_not_a_not_b) & \n",
    "                         hi_iii['ensembl_gene_id_b'].isin(genes_a_not_b))).sum()\n",
    "        ppis_b_not_a = ((hi_iii['ensembl_gene_id_a'].isin(genes_not_a_not_b) & \n",
    "                         hi_iii['ensembl_gene_id_b'].isin(genes_b_not_a)) |\n",
    "                        (hi_iii['ensembl_gene_id_a'].isin(genes_b_not_a) & \n",
    "                         hi_iii['ensembl_gene_id_b'].isin(genes_not_a_not_b))).sum()\n",
    "        ppis_not_a_not_b = (hi_iii['ensembl_gene_id_a'].isin(genes_not_a_not_b) & \n",
    "                            hi_iii['ensembl_gene_id_b'].isin(genes_not_a_not_b)).sum()\n",
    "        # density correction due to half the combinations minus the self-interactions\n",
    "        n = len(genes_not_a_not_b)\n",
    "        corr_factor = (2 * n**2) / (n**2 - n)\n",
    "        lor_ppis = np.log(((ppis_not_a_not_b * corr_factor + 0.5) / \n",
    "                           (ppis_b_not_a + 0.5)) /\n",
    "                          ((ppis_a_not_b + 0.5) / \n",
    "                           (ppis_a_b + 0.5)))\n",
    "        err_ppis = np.sqrt(1. / (ppis_a_not_b + 0.5) +\n",
    "                           1. / (ppis_a_b + 0.5) +\n",
    "                           1. / (ppis_not_a_not_b + 0.5) +\n",
    "                           1. / (ppis_b_not_a + 0.5))\n",
    "        lor_comp = np.log(((len(genes_all_hpa.difference(genes_a.union(genes_b))) + 0.5) / \n",
    "                           (len(genes_a_not_b)) + 0.5) /\n",
    "                          ((len(genes_b_not_a) + 0.5) /\n",
    "                           (len(genes_a.intersection(genes_b)) + 0.5)))\n",
    "        err_comp = np.sqrt(1. / (len(genes_all_hpa.difference(genes_a.union(genes_b))) + 0.5) +\n",
    "                           1. / (len(genes_a_not_b) + 0.5) +\n",
    "                           1. / (len(genes_b_not_a) + 0.5) +\n",
    "                           1. / (len(genes_a.intersection(genes_b)) + 0.5))\n",
    "        results.append([comp_a,\n",
    "                        comp_b,\n",
    "                        ppis_a_b,\n",
    "                        lor_comp,\n",
    "                        lor_ppis,\n",
    "                        err_comp,\n",
    "                        err_ppis])\n",
    "results = pd.DataFrame(data=results,\n",
    "                       columns=['compartment_a',\n",
    "                                'compartment_b',\n",
    "                                'n_ppis_a_b',\n",
    "                                'log_odds_ratio_compartments',\n",
    "                                'log_odds_ratio_ppis',\n",
    "                                'err_compartments',\n",
    "                                'err_ppis'])\n",
    "\n",
    "\n",
    "def linear_with_intercept(B, x):\n",
    "    return B[0]*x + B[1]\n",
    "\n",
    "linear = odr.Model(linear_with_intercept)\n",
    "mydata = odr.RealData(results['log_odds_ratio_ppis'].values,\n",
    "                      results['log_odds_ratio_compartments'].values,\n",
    "                      sx=results['err_ppis'].values,\n",
    "                      sy=results['err_compartments'].values)\n",
    "myodr = odr.ODR(mydata, linear, beta0=[0.01, 0.])\n",
    "myoutput = myodr.run()\n",
    "observed_slope = myoutput.beta[0]\n",
    "myoutput.pprint()\n",
    "observed_slope_z = myoutput.beta[0] / myoutput.sd_beta[0]"
   ]
  },
  {
   "cell_type": "code",
   "execution_count": 12,
   "metadata": {},
   "outputs": [
    {
     "data": {
      "image/png": "[encoded data removed]",
      "text/plain": [
       "<Figure size 201.6x180 with 1 Axes>"
      ]
     },
     "metadata": {
      "needs_background": "light"
     },
     "output_type": "display_data"
    }
   ],
   "source": [
    "fig, ax = plt.subplots(1, 1)\n",
    "fig.set_size_inches(2.8, 2.5)\n",
    "min_e = results['err_ppis'].min()\n",
    "max_e = results['err_ppis'].max()\n",
    "rng = max_e - min_e\n",
    "for i, result in results.iterrows():\n",
    "    a = 0.6 * (1. - (result['err_ppis'] - min_e) / rng)\n",
    "    plt.errorbar(x=[result['log_odds_ratio_ppis']],\n",
    "                 y=[result['log_odds_ratio_compartments']],\n",
    "                 xerr=[result['err_ppis']],\n",
    "                 yerr=[result['err_compartments']],\n",
    "                 fmt='none',\n",
    "                 color=HURI_COLOR,\n",
    "                 alpha=a)\n",
    "plt.xlabel('Log odds ratio:\\nPPI density between compartments')\n",
    "plt.ylabel('Log odds ratio:\\nproteins in both compartments')\n",
    "ax.spines['right'].set_visible(False)\n",
    "ax.spines['top'].set_visible(False)\n",
    "ax.set_xlim((-1.5, 1.5))\n",
    "ax.set_ylim((-4., 4.))\n",
    "for fmt in FORMATS:\n",
    "    plt.savefig('../figures/subcellular_compartments_corr' + fmt,\n",
    "                bbox_inches='tight')"
   ]
  },
  {
   "cell_type": "code",
   "execution_count": 21,
   "metadata": {},
   "outputs": [
    {
     "data": {
      "image/png": "[encoded data removed]",
      "text/plain": [
       "<Figure size 129.6x129.6 with 1 Axes>"
      ]
     },
     "metadata": {
      "needs_background": "light"
     },
     "output_type": "display_data"
    }
   ],
   "source": [
    "fig, ax = plt.subplots(1, 1)\n",
    "fig.set_size_inches(1.8, 1.8)\n",
    "min_e = results['err_ppis'].min()\n",
    "max_e = results['err_ppis'].max()\n",
    "rng_e = max_e - min_e\n",
    "# scatter size is in points^2, Journal says minimum point size is 0.25\n",
    "max_size = 15.\n",
    "min_size = 1.\n",
    "size = [max_size * (1/e - 1/max_e) / (1/min_e - 1/max_e) + min_size for e in results['err_ppis'].values]\n",
    "ax.scatter(x=results['log_odds_ratio_ppis'].values,\n",
    "           y=results['log_odds_ratio_compartments'].values,\n",
    "           s=size,\n",
    "           color=HURI_COLOR,\n",
    "           alpha=0.65,\n",
    "           linewidths=0)\n",
    "ymin = results['log_odds_ratio_compartments'].min()\n",
    "ymax = results['log_odds_ratio_compartments'].max()\n",
    "xmin = (ymin - myoutput.beta[1]) / myoutput.beta[0]\n",
    "xmax = (ymax - myoutput.beta[1]) / myoutput.beta[0]\n",
    "ax.plot([xmin, xmax], [ymin, ymax],\n",
    "        zorder=-10,\n",
    "        alpha=0.4,\n",
    "        linestyle='--',\n",
    "        linewidth=0.75,\n",
    "        color='green')\n",
    "# scipy 1.2.0 gives the wrong covariance matrix!\n",
    "# https://github.com/scipy/scipy/issues/6842\n",
    "cov_matrix = myoutput.cov_beta * myoutput.res_var\n",
    "xgrid = np.linspace(xmin, xmax, 1000)\n",
    "ygrid = xgrid * myoutput.beta[0] + myoutput.beta[1]\n",
    "se = np.array([np.sqrt(cov_matrix[1, 1] + 2 * x * cov_matrix[0, 1] + x ** 2 * cov_matrix[0, 0]) \n",
    "               for x in xgrid])\n",
    "ax.fill_between(xgrid, ygrid - 1.96 * se, ygrid + 1.96 * se,\n",
    "                alpha=0.2,\n",
    "                color='green',\n",
    "                linewidth=0)\n",
    "ax.set_xlim(-1, 1)\n",
    "ax.set_xticks(np.arange(-1., 1.01, 0.5))\n",
    "ax.set_xticks(np.arange(-0.75, 0.76, 0.5), minor=True)\n",
    "ax.set_yticks(np.arange(-2., 4.01, 2))\n",
    "ax.set_yticks(np.arange(-3, 5.01, 2), minor=True)\n",
    "ax.set_ylim(-3., 4.)\n",
    "ax.set_xlabel('Log odds ratio:\\nPPI density between compartments',\n",
    "              fontsize=7)\n",
    "ax.set_ylabel('Log odds ratio:\\nproteins in both compartments',\n",
    "              fontsize=7)\n",
    "ax.spines['right'].set_visible(False)\n",
    "ax.spines['top'].set_visible(False)\n",
    "ax.set_ylim(-2.8, 2.8)\n",
    "ax.set_xlim(-0.5, 0.5)\n",
    "for fmt in FORMATS:\n",
    "    plt.savefig('../figures/subcellular_compartments_corr_with_fit' + fmt,\n",
    "                bbox_inches='tight')"
   ]
  },
  {
   "cell_type": "code",
   "execution_count": 17,
   "metadata": {},
   "outputs": [],
   "source": [
    "def calculate_slope_for_random_network(nw, verbose=False, draw_plot=False, debug=False):\n",
    "    nw = pd.DataFrame(data=[[nw.vs[e.source]['name'], nw.vs[e.target]['name']] for e in nw.es],\n",
    "                      columns=['ensembl_gene_id_a', 'ensembl_gene_id_b'])\n",
    "    lor_ppis, err_ppis = [], []\n",
    "    for i, (genes_x, comp_x) in enumerate(comp_in_hi_iii):\n",
    "        for genes_y, comp_y in comp_in_hi_iii[i + 1:]:\n",
    "            if set([comp_x, comp_y]) in pairs_to_skip:\n",
    "                continue\n",
    "            genes_x_not_y = genes_x.difference(genes_y)\n",
    "            genes_y_not_x = genes_y.difference(genes_x)\n",
    "            genes_x_and_y = genes_x.union(genes_y)\n",
    "            genes_not_x_not_y = genes_all_hpa.difference(genes_x_and_y)\n",
    "            gene_a_in_comp_x = nw['ensembl_gene_id_a'].isin(genes_x_not_y)\n",
    "            gene_b_in_comp_x = nw['ensembl_gene_id_b'].isin(genes_x_not_y)\n",
    "            gene_a_in_comp_y = nw['ensembl_gene_id_a'].isin(genes_y_not_x)\n",
    "            gene_b_in_comp_y = nw['ensembl_gene_id_b'].isin(genes_y_not_x)\n",
    "            gene_a_in_neither_comp_x_or_y = nw['ensembl_gene_id_a'].isin(genes_not_x_not_y)\n",
    "            gene_b_in_neither_comp_x_or_y = nw['ensembl_gene_id_b'].isin(genes_not_x_not_y)\n",
    "            ppis_a_b = ((gene_a_in_comp_x & gene_b_in_comp_y) |\n",
    "                        (gene_a_in_comp_y & gene_b_in_comp_x)).sum()\n",
    "            ppis_a_not_b = ((gene_a_in_comp_x & gene_b_in_neither_comp_x_or_y) |\n",
    "                            (gene_a_in_neither_comp_x_or_y & gene_b_in_comp_x)).sum()\n",
    "            ppis_b_not_a = ((gene_a_in_neither_comp_x_or_y & gene_b_in_comp_y) |\n",
    "                            (gene_a_in_comp_y & gene_b_in_neither_comp_x_or_y)).sum()\n",
    "            ppis_not_a_not_b = (nw['ensembl_gene_id_a'].isin(genes_not_x_not_y) & \n",
    "                                nw['ensembl_gene_id_b'].isin(genes_not_x_not_y)).sum()\n",
    "            # density correction due to half the combinations minus the self-interactions\n",
    "            n = len(genes_not_x_not_y)\n",
    "            corr_factor = (2 * n**2) / (n**2 - n)\n",
    "            lor_ppis.append(np.log(((ppis_not_a_not_b * corr_factor + 0.5) / \n",
    "                                    (ppis_b_not_a + 0.5)) /\n",
    "                                   ((ppis_a_not_b + 0.5) / \n",
    "                                    (ppis_a_b + 0.5))))\n",
    "            err_ppis.append(np.sqrt(1. / (ppis_a_not_b + 0.5) +\n",
    "                                    1. / (ppis_a_b + 0.5) +\n",
    "                                    1. / (ppis_not_a_not_b + 0.5) +\n",
    "                                    1. / (ppis_b_not_a + 0.5)))\n",
    "    if results.shape[0] != len(lor_ppis):\n",
    "        raise UserWarning('Something went wrong')\n",
    "    mydata = odr.RealData(np.array(lor_ppis),\n",
    "                          results['log_odds_ratio_compartments'].values,\n",
    "                          sx=np.array(err_ppis),\n",
    "                          sy=results['err_compartments'].values)\n",
    "    myodr = odr.ODR(mydata, linear, beta0=[0.01, 0.])\n",
    "    myoutput = myodr.run()\n",
    "    slope = myoutput.beta[0]\n",
    "    pcc = stats.pearsonr(lor_ppis,\n",
    "                         results['log_odds_ratio_compartments'].values)[0]\n",
    "    if verbose:\n",
    "        myoutput.pprint()\n",
    "        print('Pearsons r:', pcc)\n",
    "    if debug:\n",
    "        print('log odds ppis:', lor_ppis)\n",
    "        print('error on log odds ppis:', err_ppis)\n",
    "    if draw_plot:\n",
    "        fig, ax = plt.subplots(1, 1)\n",
    "        fig.set_size_inches(2.8, 2.5)\n",
    "        min_e = min(err_ppis)\n",
    "        max_e = max(err_ppis)\n",
    "        rng = max_e - min_e\n",
    "        for i, result in results.iterrows():\n",
    "            a = 0.6 * (1. - (err_ppis[i] - min_e) / rng)\n",
    "            plt.errorbar(x=[lor_ppis[i]],\n",
    "                         y=[result['log_odds_ratio_compartments']],\n",
    "                         xerr=[err_ppis[i]],\n",
    "                         yerr=[result['err_compartments']],\n",
    "                         fmt='none',\n",
    "                         color=RRS_COLOR,\n",
    "                         alpha=a)\n",
    "        ax.set_xlabel('Log odds ratio:\\nPPI density between compartments')\n",
    "        ax.set_ylabel('Log odds ratio:\\nproteins in both compartments')\n",
    "        ax.spines['right'].set_visible(False)\n",
    "        ax.spines['top'].set_visible(False)\n",
    "        ax.set_title('Random network')\n",
    "        ax.set_xlim((-1.5, 1.5))\n",
    "        ax.set_ylim((-4., 4.))\n",
    "    return myoutput.beta[0] / myoutput.sd_beta[0]"
   ]
  },
  {
   "cell_type": "code",
   "execution_count": 18,
   "metadata": {
    "scrolled": false
   },
   "outputs": [
    {
     "name": "stdout",
     "output_type": "stream",
     "text": [
      "Beta: [11.58543429 -0.89471182]\n",
      "Beta Std Error: [2.26706757 0.14775651]\n",
      "Beta Covariance: [[ 1.94116234 -0.05791788]\n",
      " [-0.05791788  0.00824567]]\n",
      "Residual Variance: 2.647689611176223\n",
      "Inverse Condition #: 0.5382552430498806\n",
      "Reason(s) for Halting:\n",
      "  Sum of squares convergence\n",
      "Pearsons r: 0.1853614521524811\n",
      "CPU times: user 18.3 s, sys: 348 ms, total: 18.6 s\n",
      "Wall time: 19.4 s\n"
     ]
    },
    {
     "data": {
      "text/plain": [
       "5.110317160015633"
      ]
     },
     "execution_count": 18,
     "metadata": {},
     "output_type": "execute_result"
    },
    {
     "data": {
      "image/png": "[encoded data removed]",
      "text/plain": [
       "<Figure size 201.6x180 with 1 Axes>"
      ]
     },
     "metadata": {
      "needs_background": "light"
     },
     "output_type": "display_data"
    }
   ],
   "source": [
    "%%time\n",
    "# check that this returns same value\n",
    "calculate_slope_for_random_network(ccsblib.format_network(hi_iii, \n",
    "                                                       idA='ensembl_gene_id_a',\n",
    "                                                       idB='ensembl_gene_id_b',\n",
    "                                                       fmt='igraph'),\n",
    "                                   verbose=True,\n",
    "                                   draw_plot=True,\n",
    "                                   debug=False)"
   ]
  },
  {
   "cell_type": "code",
   "execution_count": 19,
   "metadata": {},
   "outputs": [],
   "source": [
    "rand_nws = ccsblib.generate_random_networks(ccsblib.format_network(hi_iii, \n",
    "                                                                   idA='ensembl_gene_id_a',\n",
    "                                                                   idB='ensembl_gene_id_b',\n",
    "                                                                   fmt='igraph'),\n",
    "                                            n=1000)"
   ]
  },
  {
   "cell_type": "code",
   "execution_count": 21,
   "metadata": {},
   "outputs": [
    {
     "name": "stderr",
     "output_type": "stream",
     "text": [
      "100%|██████████| 1000/1000 [2:56:06<00:00,  9.72s/it] \n"
     ]
    }
   ],
   "source": [
    "intermediate_file_path = '../output/slopes_of_random_nw.txt'\n",
    "if os.path.exists(intermediate_file_path):\n",
    "    with open(intermediate_file_path, 'w') as f:\n",
    "        rand_slopes = list(f.read())\n",
    "else:\n",
    "    rand_slopes = [calculate_slope_for_random_network(nw) for nw in tqdm(rand_nws)]\n",
    "    with open(intermediate_file_path, 'w') as f:\n",
    "        f.write(str(rand_slopes))"
   ]
  },
  {
   "cell_type": "code",
   "execution_count": 22,
   "metadata": {},
   "outputs": [
    {
     "name": "stdout",
     "output_type": "stream",
     "text": [
      "p < 1.000000E-03\n"
     ]
    },
    {
     "data": {
      "image/png": "[encoded data removed]",
      "text/plain": [
       "<Figure size 93.6x93.6 with 1 Axes>"
      ]
     },
     "metadata": {
      "needs_background": "light"
     },
     "output_type": "display_data"
    }
   ],
   "source": [
    "fig, ax = plt.subplots(1, 1)\n",
    "fig.set_size_inches(1.3, 1.3)\n",
    "ax.hist(rand_slopes,\n",
    "        range=(-10, 10),\n",
    "        weights=[1 / len(rand_slopes)] * len(rand_slopes),\n",
    "        bins=20,\n",
    "        label='Random networks',\n",
    "        color='grey')\n",
    "ax.annotate(s='HI-III-19',\n",
    "            xy=(observed_slope_z, 0.),\n",
    "            xytext=(observed_slope_z, ax.get_ylim()[1] * 0.5),\n",
    "            ha='center',\n",
    "            color=HURI_COLOR,\n",
    "            arrowprops={'arrowstyle': 'simple',\n",
    "                        'color': HURI_COLOR})\n",
    "ax.set_xlabel('Regression slope Z-value',\n",
    "              fontsize=6)\n",
    "ax.set_ylabel('Fraction of random networks',\n",
    "              fontsize=6)\n",
    "ax.set_xlim(-6, 6)\n",
    "ax.set_xticks(range(-6, 7), minor=True)\n",
    "ax.spines['top'].set_visible(False)\n",
    "ax.spines['right'].set_visible(False)\n",
    "if observed_slope_z > max(rand_slopes):\n",
    "    print('p < {:E}'.format(1. / len(rand_slopes)))\n",
    "else:\n",
    "    print('p = {:E}'.format())\n",
    "plt.savefig('../figures/subcellular_compartments_significance.pdf',\n",
    "            bbox_inches='tight')"
   ]
  }
 ],
 "metadata": {
  "kernelspec": {
   "display_name": "Python 3",
   "language": "python",
   "name": "python3"
  },
  "language_info": {
   "codemirror_mode": {
    "name": "ipython",
    "version": 3
   },
   "file_extension": ".py",
   "mimetype": "text/x-python",
   "name": "python",
   "nbconvert_exporter": "python",
   "pygments_lexer": "ipython3",
   "version": "3.7.3"
  }
 },
 "nbformat": 4,
 "nbformat_minor": 2
}
